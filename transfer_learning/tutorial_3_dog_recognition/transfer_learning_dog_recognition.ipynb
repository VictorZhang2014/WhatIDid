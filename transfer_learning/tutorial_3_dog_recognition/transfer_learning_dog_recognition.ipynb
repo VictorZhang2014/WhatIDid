{
 "cells": [
  {
   "cell_type": "markdown",
   "metadata": {},
   "source": [
    "# 1. 基于 InceptionV3 的架构模型直接对狗的类别进行识别"
   ]
  },
  {
   "cell_type": "code",
   "execution_count": 1,
   "metadata": {},
   "outputs": [
    {
     "name": "stderr",
     "output_type": "stream",
     "text": [
      "Using TensorFlow backend.\n"
     ]
    }
   ],
   "source": [
    "import matplotlib.pyplot as plt\n",
    "from keras.preprocessing import image\n",
    "import numpy as np\n",
    "\n",
    "\n",
    "def plot_bar(predictions):\n",
    "    types = [pred[1] for pred in predictions]\n",
    "    probs = [pred[2] for pred in predictions]\n",
    "    \n",
    "    plt.barh(np.arange(len(probs)), probs)\n",
    "    _ = plt.yticks(np.arange(3), types)\n",
    "    plt.show()\n",
    "    \n",
    "\n",
    "def load_img(img_path):\n",
    "    img = image.load_img(img_path, target_size=(224, 224))\n",
    "    x = image.img_to_array(img)\n",
    "    x = np.expand_dims(x, axis=0)\n",
    "    return x"
   ]
  },
  {
   "cell_type": "code",
   "execution_count": 3,
   "metadata": {},
   "outputs": [
    {
     "name": "stdout",
     "output_type": "stream",
     "text": [
      "Predicted: [(u'n02089867', u'Walker_hound', 0.9321249), (u'n02089973', u'English_foxhound', 0.063430324), (u'n02088364', u'beagle', 0.0043542106)]\n"
     ]
    },
    {
     "data": {
      "image/png": "[encoded data removed]",
      "text/plain": [
       "<Figure size 432x288 with 1 Axes>"
      ]
     },
     "metadata": {},
     "output_type": "display_data"
    }
   ],
   "source": [
    "from keras.applications.inception_v3 import InceptionV3, preprocess_input, decode_predictions\n",
    "\n",
    "def predicts_numbers():\n",
    "    model = InceptionV3(weights='imagenet')\n",
    "\n",
    "    img_path = \"dog_test.png\"\n",
    "    x = load_img(img_path)\n",
    "    x = preprocess_input(x)\n",
    "    preds = model.predict(x)\n",
    "\n",
    "    predictions = decode_predictions(preds, top=3)[0]\n",
    "    print('Predicted: {}'.format(predictions))\n",
    "    plot_bar(predictions)\n",
    "  \n",
    "predicts_numbers()"
   ]
  },
  {
   "cell_type": "markdown",
   "metadata": {},
   "source": [
    "# 2. 基于 InceptionV3 的架构的迁移学习，对10种狗的类别进行识别"
   ]
  },
  {
   "cell_type": "code",
   "execution_count": 4,
   "metadata": {},
   "outputs": [
    {
     "name": "stdout",
     "output_type": "stream",
     "text": [
      "There are 10 total dog categories.\n",
      "There are 722 total dog images.\n",
      "\n",
      "There are 578 training dog images.\n",
      "There are 71 validation dog images.\n",
      "There are 73 test dog images.\n"
     ]
    }
   ],
   "source": [
    "from sklearn.datasets import load_files       \n",
    "from keras.utils import np_utils\n",
    "import numpy as np\n",
    "from glob import glob\n",
    "\n",
    "num_classes = 10\n",
    "\n",
    "# 定义函数来加载train，test和validation数据集\n",
    "def load_dataset(path):\n",
    "    data = load_files(path)\n",
    "    dog_files = np.array(data['filenames'])\n",
    "    dog_targets = np_utils.to_categorical(np.array(data['target']), num_classes)\n",
    "    return dog_files, dog_targets\n",
    "\n",
    "# 加载train，test和validation数据集\n",
    "train_files, train_targets = load_dataset('dogImages/train')\n",
    "valid_files, valid_targets = load_dataset('dogImages/valid')\n",
    "test_files, test_targets = load_dataset('dogImages/test')\n",
    "\n",
    "# 加载狗品种列表\n",
    "dog_names = [item[20:-1] for item in sorted(glob(\"dogImages/train/*/\"))]\n",
    "\n",
    "# 打印数据统计描述\n",
    "print('There are %d total dog categories.' % len(dog_names))\n",
    "print('There are %s total dog images.\\n' % len(np.hstack([train_files, valid_files, test_files])))\n",
    "print('There are %d training dog images.' % len(train_files))\n",
    "print('There are %d validation dog images.' % len(valid_files))\n",
    "print('There are %d test dog images.'% len(test_files))"
   ]
  },
  {
   "cell_type": "code",
   "execution_count": 5,
   "metadata": {},
   "outputs": [
    {
     "name": "stderr",
     "output_type": "stream",
     "text": [
      "100%|██████████| 578/578 [00:08<00:00, 64.66it/s]\n",
      "100%|██████████| 71/71 [00:01<00:00, 51.06it/s]\n",
      "100%|██████████| 73/73 [00:01<00:00, 65.00it/s]\n"
     ]
    }
   ],
   "source": [
    "from keras.preprocessing import image   \n",
    "from tqdm import tqdm\n",
    "\n",
    "def path_to_tensor(img_path):\n",
    "    # 用PIL加载RGB图像为PIL.Image.Image类型\n",
    "    img = image.load_img(img_path, target_size=(224, 224))\n",
    "    # 将PIL.Image.Image类型转化为格式为(224, 224, 3)的3维张量\n",
    "    x = image.img_to_array(img)\n",
    "    # 将3维张量转化为格式为(1, 224, 224, 3)的4维张量并返回\n",
    "    return np.expand_dims(x, axis=0)\n",
    "\n",
    "def paths_to_tensor(img_paths):\n",
    "    list_of_tensors = [path_to_tensor(img_path) for img_path in tqdm(img_paths)]\n",
    "    return np.vstack(list_of_tensors)\n",
    "                \n",
    "\n",
    "from PIL import ImageFile                            \n",
    "ImageFile.LOAD_TRUNCATED_IMAGES = True   \n",
    "\n",
    "# Keras中的数据预处理过程\n",
    "train_tensors = paths_to_tensor(train_files).astype(np.float32)/255\n",
    "valid_tensors = paths_to_tensor(valid_files).astype(np.float32)/255\n",
    "test_tensors = paths_to_tensor(test_files).astype(np.float32)/255"
   ]
  },
  {
   "cell_type": "code",
   "execution_count": 6,
   "metadata": {},
   "outputs": [
    {
     "data": {
      "text/plain": [
       "(578, 224, 224, 3)"
      ]
     },
     "execution_count": 6,
     "metadata": {},
     "output_type": "execute_result"
    }
   ],
   "source": [
    "train_tensors.shape"
   ]
  },
  {
   "cell_type": "code",
   "execution_count": 7,
   "metadata": {},
   "outputs": [
    {
     "data": {
      "text/plain": [
       "(578, 10)"
      ]
     },
     "execution_count": 7,
     "metadata": {},
     "output_type": "execute_result"
    }
   ],
   "source": [
    "train_targets.shape"
   ]
  },
  {
   "cell_type": "code",
   "execution_count": 5,
   "metadata": {},
   "outputs": [
    {
     "name": "stderr",
     "output_type": "stream",
     "text": [
      "/Users/victor/virtualenvlist/mydlp2/lib/python2.7/site-packages/ipykernel_launcher.py:23: UserWarning: Update your `Model` call to the Keras 2 API: `Model(outputs=Tensor(\"de..., inputs=Tensor(\"in...)`\n"
     ]
    },
    {
     "name": "stdout",
     "output_type": "stream",
     "text": [
      "Epoch 1/10\n",
      "9/9 [==============================] - 85s 9s/step - loss: 6.3703 - acc: 0.3102 - val_loss: 2.5822 - val_acc: 0.1127\n",
      "\n",
      "Epoch 00001: val_loss improved from inf to 2.58215, saving model to inceptin_v3.10dogs.weights.best.h5\n",
      "Epoch 2/10\n",
      "9/9 [==============================] - 88s 10s/step - loss: 2.2321 - acc: 0.5306 - val_loss: 2.3245 - val_acc: 0.1549\n",
      "\n",
      "Epoch 00002: val_loss improved from 2.58215 to 2.32450, saving model to inceptin_v3.10dogs.weights.best.h5\n",
      "Epoch 3/10\n",
      "9/9 [==============================] - 88s 10s/step - loss: 2.3006 - acc: 0.6107 - val_loss: 2.3425 - val_acc: 0.1268\n",
      "\n",
      "Epoch 00003: val_loss did not improve from 2.32450\n",
      "Epoch 4/10\n",
      "9/9 [==============================] - 89s 10s/step - loss: 1.0526 - acc: 0.7259 - val_loss: 2.5016 - val_acc: 0.1408\n",
      "\n",
      "Epoch 00004: val_loss did not improve from 2.32450\n",
      "Epoch 5/10\n",
      "9/9 [==============================] - 90s 10s/step - loss: 2.1137 - acc: 0.6132 - val_loss: 2.7327 - val_acc: 0.0845\n",
      "\n",
      "Epoch 00005: val_loss did not improve from 2.32450\n",
      "Epoch 6/10\n",
      "9/9 [==============================] - 100s 11s/step - loss: 0.7859 - acc: 0.7951 - val_loss: 2.4372 - val_acc: 0.0986\n",
      "\n",
      "Epoch 00006: val_loss did not improve from 2.32450\n",
      "Epoch 7/10\n",
      "9/9 [==============================] - 92s 10s/step - loss: 1.1881 - acc: 0.7196 - val_loss: 2.4201 - val_acc: 0.1127\n",
      "\n",
      "Epoch 00007: val_loss did not improve from 2.32450\n",
      "Epoch 8/10\n",
      "9/9 [==============================] - 92s 10s/step - loss: 1.2714 - acc: 0.6747 - val_loss: 2.4972 - val_acc: 0.1127\n",
      "\n",
      "Epoch 00008: val_loss did not improve from 2.32450\n",
      "Epoch 9/10\n",
      "9/9 [==============================] - 92s 10s/step - loss: 0.6064 - acc: 0.8040 - val_loss: 2.4700 - val_acc: 0.0986\n",
      "\n",
      "Epoch 00009: val_loss did not improve from 2.32450\n",
      "Epoch 10/10\n",
      "9/9 [==============================] - 92s 10s/step - loss: 1.5182 - acc: 0.6554 - val_loss: 2.4203 - val_acc: 0.1690\n",
      "\n",
      "Epoch 00010: val_loss did not improve from 2.32450\n",
      "Epoch 1/10\n",
      "1/1 [==============================] - 40s 40s/step - loss: 0.5207 - acc: 0.7500 - val_loss: 2.3267 - val_acc: 0.0986\n",
      "\n",
      "Epoch 00001: val_loss did not improve from 2.32450\n",
      "Epoch 2/10\n",
      "1/1 [==============================] - 31s 31s/step - loss: 0.4383 - acc: 0.8906 - val_loss: 2.3199 - val_acc: 0.0845\n",
      "\n",
      "Epoch 00002: val_loss improved from 2.32450 to 2.31988, saving model to inceptin_v3.10dogs.weights.best.h5\n",
      "Epoch 3/10\n",
      "1/1 [==============================] - 30s 30s/step - loss: 0.4703 - acc: 0.8906 - val_loss: 2.3239 - val_acc: 0.1268\n",
      "\n",
      "Epoch 00003: val_loss did not improve from 2.31988\n",
      "Epoch 4/10\n",
      "1/1 [==============================] - 33s 33s/step - loss: 0.3983 - acc: 0.8750 - val_loss: 2.3178 - val_acc: 0.1127\n",
      "\n",
      "Epoch 00004: val_loss improved from 2.31988 to 2.31777, saving model to inceptin_v3.10dogs.weights.best.h5\n",
      "Epoch 5/10\n",
      "1/1 [==============================] - 32s 32s/step - loss: 0.1684 - acc: 0.9688 - val_loss: 2.3250 - val_acc: 0.1127\n",
      "\n",
      "Epoch 00005: val_loss did not improve from 2.31777\n",
      "Epoch 6/10\n",
      "1/1 [==============================] - 21s 21s/step - loss: 3.0314 - acc: 0.5000 - val_loss: 2.3106 - val_acc: 0.1127\n",
      "\n",
      "Epoch 00006: val_loss improved from 2.31777 to 2.31057, saving model to inceptin_v3.10dogs.weights.best.h5\n",
      "Epoch 7/10\n",
      "1/1 [==============================] - 32s 32s/step - loss: 0.4948 - acc: 0.8750 - val_loss: 2.3133 - val_acc: 0.1127\n",
      "\n",
      "Epoch 00007: val_loss did not improve from 2.31057\n",
      "Epoch 8/10\n",
      "1/1 [==============================] - 35s 35s/step - loss: 0.5147 - acc: 0.8281 - val_loss: 2.3200 - val_acc: 0.1127\n",
      "\n",
      "Epoch 00008: val_loss did not improve from 2.31057\n",
      "Epoch 9/10\n",
      "1/1 [==============================] - 33s 33s/step - loss: 0.3871 - acc: 0.8594 - val_loss: 2.3343 - val_acc: 0.1127\n",
      "\n",
      "Epoch 00009: val_loss did not improve from 2.31057\n",
      "Epoch 10/10\n",
      "1/1 [==============================] - 34s 34s/step - loss: 0.4657 - acc: 0.8750 - val_loss: 2.3153 - val_acc: 0.1127\n",
      "\n",
      "Epoch 00010: val_loss did not improve from 2.31057\n"
     ]
    },
    {
     "ename": "NameError",
     "evalue": "global name 'plot_training' is not defined",
     "output_type": "error",
     "traceback": [
      "\u001b[0;31m---------------------------------------------------------------------------\u001b[0m",
      "\u001b[0;31mNameError\u001b[0m                                 Traceback (most recent call last)",
      "\u001b[0;32m<ipython-input-5-816e25f63c68>\u001b[0m in \u001b[0;36m<module>\u001b[0;34m()\u001b[0m\n\u001b[1;32m    106\u001b[0m \u001b[0mbatch_size\u001b[0m \u001b[0;34m=\u001b[0m \u001b[0;36m64\u001b[0m\u001b[0;34m\u001b[0m\u001b[0m\n\u001b[1;32m    107\u001b[0m \u001b[0mepochs\u001b[0m \u001b[0;34m=\u001b[0m \u001b[0;36m10\u001b[0m\u001b[0;34m\u001b[0m\u001b[0m\n\u001b[0;32m--> 108\u001b[0;31m \u001b[0mtrain\u001b[0m\u001b[0;34m(\u001b[0m\u001b[0mnum_classes\u001b[0m\u001b[0;34m,\u001b[0m \u001b[0mbatch_size\u001b[0m\u001b[0;34m,\u001b[0m \u001b[0mepochs\u001b[0m\u001b[0;34m)\u001b[0m\u001b[0;34m\u001b[0m\u001b[0m\n\u001b[0m",
      "\u001b[0;32m<ipython-input-5-816e25f63c68>\u001b[0m in \u001b[0;36mtrain\u001b[0;34m(num_classes, batch_size, epochs)\u001b[0m\n\u001b[1;32m    101\u001b[0m                       validation_data=validation_generator)\n\u001b[1;32m    102\u001b[0m \u001b[0;34m\u001b[0m\u001b[0m\n\u001b[0;32m--> 103\u001b[0;31m   \u001b[0mplot_training\u001b[0m\u001b[0;34m(\u001b[0m\u001b[0mhistory_ft\u001b[0m\u001b[0;34m)\u001b[0m\u001b[0;34m\u001b[0m\u001b[0m\n\u001b[0m\u001b[1;32m    104\u001b[0m \u001b[0;34m\u001b[0m\u001b[0m\n\u001b[1;32m    105\u001b[0m \u001b[0;34m\u001b[0m\u001b[0m\n",
      "\u001b[0;31mNameError\u001b[0m: global name 'plot_training' is not defined"
     ]
    }
   ],
   "source": [
    "# 参考：\n",
    "# 迁移学习：https://keras.io/applications/\n",
    "# fit_generator: https://keras.io/preprocessing/image/\n",
    "# callback: https://keras.io/callbacks/\n",
    "\n",
    "\n",
    "from keras.applications.inception_v3 import InceptionV3, preprocess_input, decode_predictions\n",
    "from keras.models import Model\n",
    "from keras.layers import Dense, GlobalAveragePooling2D\n",
    "from keras.preprocessing import image\n",
    "from keras.preprocessing.image import ImageDataGenerator\n",
    "from keras.optimizers import SGD\n",
    "from keras.callbacks import ModelCheckpoint  \n",
    "\n",
    "import matplotlib.pyplot as plt\n",
    "\n",
    "\n",
    "def add_new_last_layers(base_model, num_classes):\n",
    "    # add a global spatial average pooling layer\n",
    "    x = base_model.output\n",
    "    x = GlobalAveragePooling2D()(x)\n",
    "\n",
    "    # let's add a fully-connected layer\n",
    "    x = Dense(1024, activation='relu')(x)\n",
    "\n",
    "    # and a logistic layer -- let's say we have num_classes classes\n",
    "    predictions = Dense(num_classes, activation='softmax')(x)\n",
    "\n",
    "    model = Model(input=base_model.input, output=predictions)\n",
    "    return model\n",
    "\n",
    "\n",
    "def freeze_previous_layers(model, base_model):\n",
    "    # first: train only the top layers (which were randomly initialized)\n",
    "    # i.e. freeze all convolutional InceptionV3 layers\n",
    "    for layer in base_model.layers:\n",
    "        layer.trainable = False\n",
    "\n",
    "    model.compile(optimizer='rmsprop', loss='categorical_crossentropy', metrics=['accuracy'])\n",
    "\n",
    "\n",
    "def fine_tune_model(model):\n",
    "    # we chose to train the top 2 inception blocks, i.e. we will freeze\n",
    "    # the first 249 layers and unfreeze the rest:\n",
    "    for layer in model.layers[:172]:\n",
    "        layer.trainable = False\n",
    "    for layer in model.layers[172:]:\n",
    "        layer.trainable = True\n",
    "\n",
    "    model.compile(optimizer=SGD(lr=0.0001, momentum=0.9), loss='categorical_crossentropy', metrics=['accuracy'])\n",
    "  \n",
    "def plot_training(history):\n",
    "    acc = history.history['acc']\n",
    "    val_acc = history.history['val_acc']\n",
    "    loss = history.history['loss']\n",
    "    val_loss = history.history['val_loss']\n",
    "    epochs = range(len(acc))\n",
    "\n",
    "    plt.plot(epochs, acc, 'r.')\n",
    "    plt.plot(epochs, val_acc, 'r')\n",
    "    plt.title('Training and validation accuracy')\n",
    "\n",
    "    plt.figure()\n",
    "    plt.plot(epochs, loss, 'r.')\n",
    "    plt.plot(epochs, val_loss, 'r-')\n",
    "    plt.title('Training and validation loss')\n",
    "    plt.show()\n",
    "\n",
    "checkpointer = ModelCheckpoint(filepath='inceptin_v3.10dogs.weights.best1.h5', verbose=1, save_best_only=True)\n",
    "\n",
    "def train(num_classes, batch_size, epochs):\n",
    "  \n",
    "    # data prep\n",
    "    train_datagen = ImageDataGenerator(\n",
    "      preprocessing_function=preprocess_input,\n",
    "      rotation_range=20,\n",
    "      width_shift_range=0.2,\n",
    "      height_shift_range=0.2,\n",
    "      shear_range=0.2,\n",
    "      zoom_range=0.2,\n",
    "      horizontal_flip=True\n",
    "    )\n",
    "    valid_datagen = ImageDataGenerator(\n",
    "      preprocessing_function=preprocess_input,\n",
    "      rotation_range=20,\n",
    "      width_shift_range=0.2,\n",
    "      height_shift_range=0.2,\n",
    "      shear_range=0.2,\n",
    "      zoom_range=0.2,\n",
    "      horizontal_flip=True\n",
    "    )\n",
    "\n",
    "    # data augmentation\n",
    "    train_generator = train_datagen.flow(train_tensors, train_targets, batch_size=batch_size)\n",
    "    validation_generator = valid_datagen.flow(valid_tensors, valid_targets, batch_size=batch_size)\n",
    "\n",
    "    # setup model\n",
    "    # create the base pre-trained model\n",
    "    base_model = InceptionV3(weights='imagenet', include_top=False) # include_top=False denotes that excludes final FC layer \n",
    "    model = add_new_last_layers(base_model, num_classes)\n",
    "\n",
    "    # transfer learning\n",
    "    freeze_previous_layers(model, base_model)\n",
    "\n",
    "    print(\"First fitting the generator.\")\n",
    "    # train the model on the new data for a few epochs\n",
    "    history_tl = model.fit_generator(train_generator, \n",
    "                      steps_per_epoch=train_tensors.shape[0] / batch_size, \n",
    "                      epochs=epochs,\n",
    "                      verbose=1, \n",
    "                      callbacks=[checkpointer], \n",
    "                      validation_data=validation_generator)\n",
    "\n",
    "    # fine tune\n",
    "    fine_tune_model(model)\n",
    "\n",
    "    print(\"Second fitting the generator.\")\n",
    "    # we train our model again (this time fine-tuning the top 2 inception blocks\n",
    "    # alongside the top Dense layers\n",
    "    history_ft = model.fit_generator(train_generator, \n",
    "                      steps_per_epoch=valid_tensors.shape[0] / batch_size, \n",
    "                      epochs=epochs,\n",
    "                      verbose=1, \n",
    "                      callbacks=[checkpointer], \n",
    "                      validation_data=validation_generator)\n",
    "\n",
    "\n",
    "    # https://machinelearningmastery.com/save-load-keras-deep-learning-models/\n",
    "    # serialize model to YAML\n",
    "    model_yaml = model.to_yaml()\n",
    "    with open(\"inceptin_v3_10dogs_weights_best.yaml\", \"w\") as yaml_file:\n",
    "        yaml_file.write(model_yaml)\n",
    "    # serialize weights to HDF5 \n",
    "    model.save_weights(\"inceptin_v3_10dogs_weights_best.h5\")\n",
    "    print(\"Saved model to disk\")\n",
    "\n",
    "    plot_training(history_ft)\n",
    "\n",
    "\n",
    "batch_size = 128\n",
    "epochs = 1\n",
    "train(num_classes, batch_size, epochs)\n"
   ]
  },
  {
   "cell_type": "markdown",
   "metadata": {},
   "source": [
    "# 通过hdf5权重来加载InceptionV3的迁移学习模型\n",
    "\n",
    "> HDF5文件是用来保存模型的权重\n",
    "\n",
    "预测步骤：\n",
    "- 1.创建模型架构，从InceptionV3桥接过来的\n",
    "- 2.加载模型权重\n",
    "- 3.预测"
   ]
  },
  {
   "cell_type": "code",
   "execution_count": 47,
   "metadata": {},
   "outputs": [
    {
     "name": "stderr",
     "output_type": "stream",
     "text": [
      "/Users/victor/virtualenvlist/mydlp2/lib/python2.7/site-packages/ipykernel_launcher.py:23: UserWarning: Update your `Model` call to the Keras 2 API: `Model(outputs=Tensor(\"de..., inputs=Tensor(\"in...)`\n"
     ]
    },
    {
     "name": "stdout",
     "output_type": "stream",
     "text": [
      "73/73 [==============================] - 18s 249ms/step\n",
      "Test loss: 31.04. Test acc: 87.67.\n"
     ]
    }
   ],
   "source": [
    "from keras.models import Sequential\n",
    "from keras.layers import Dense, Activation\n",
    "\n",
    "base_model = InceptionV3(weights='imagenet', include_top=False,input_shape=test_tensors.shape[1:]) \n",
    "trained_model = add_new_last_layers(base_model, 10)\n",
    "\n",
    "trained_model.load_weights(\"inceptin_v3.10dogs.weights.best.h5\") # load weights into new model\n",
    "trained_model.compile(loss='categorical_crossentropy', optimizer='sgd', metrics=['accuracy'])\n",
    "#trained_model.summary()\n",
    "\n",
    "score = trained_model.evaluate(test_tensors, test_targets, verbose=1)\n",
    "print(\"Test {}: {:.2f}. Test {}: {:.2f}.\".format(trained_model.metrics_names[0], \n",
    "                                                 score[0]*100, \n",
    "                                                 trained_model.metrics_names[1], \n",
    "                                                 score[1]*100))"
   ]
  },
  {
   "cell_type": "code",
   "execution_count": 70,
   "metadata": {},
   "outputs": [
    {
     "name": "stdout",
     "output_type": "stream",
     "text": [
      "Predicted: [[1.8175404e-05 8.1746082e-05 1.1727394e-05 6.1724364e-05 1.2665604e-05\n",
      "  1.7824543e-05 9.9977142e-01 1.6615742e-05 3.7802827e-06 4.3137570e-06]]\n"
     ]
    },
    {
     "data": {
      "image/png": "[encoded data removed]",
      "text/plain": [
       "<Figure size 432x288 with 1 Axes>"
      ]
     },
     "metadata": {},
     "output_type": "display_data"
    }
   ],
   "source": [
    "# 预测真实狗狗的图片\n",
    "\n",
    "def load_dog_img(trained_model):\n",
    "    img_path = 'dog_test.png' #'dogImages/test/007.American_foxhound/American_foxhound_00519.jpg'\n",
    "    x = load_img(img_path)\n",
    "    x = preprocess_input(x)\n",
    "    predictions = trained_model.predict(x)\n",
    "\n",
    "    #predictions = decode_predictions(predictions, top=10)\n",
    "    print('Predicted: {}'.format(predictions))\n",
    "\n",
    "    plt.barh(np.arange(10), predictions[0])\n",
    "    _ = plt.yticks(np.arange(10), dog_names)\n",
    "    plt.show()\n",
    "\n",
    "load_dog_img(trained_model)"
   ]
  },
  {
   "cell_type": "markdown",
   "metadata": {},
   "source": [
    "# 通过.yaml文件和.hdf5文件来加载InceptionV3的迁移学习模型\n",
    "\n",
    "> yaml文件和json文件都可以保存模型的架构\n",
    "\n",
    "> HDF5文件用来保存模型的权重\n",
    "\n",
    "预测步骤：\n",
    "- 1.加载模型架构\n",
    "- 2.加载模型权重\n",
    "- 3.预测"
   ]
  },
  {
   "cell_type": "code",
   "execution_count": 22,
   "metadata": {},
   "outputs": [
    {
     "name": "stdout",
     "output_type": "stream",
     "text": [
      "73/73 [==============================] - 13s 176ms/step\n",
      "Test loss: 31.04. Test acc: 87.67.\n"
     ]
    }
   ],
   "source": [
    "# 验证\n",
    "\n",
    "# https://machinelearningmastery.com/save-load-keras-deep-learning-models/\n",
    "\n",
    "# load YAML and create model\n",
    "with open('model.yaml', 'r') as yaml_file:\n",
    "  loaded_model_yaml = yaml_file.read()\n",
    "loaded_model = model_from_yaml(loaded_model_yaml)\n",
    "\n",
    "# load weights into new model\n",
    "loaded_model.load_weights(\"model.h5\")\n",
    "print(\"Loaded model from disk\")\n",
    " \n",
    "# evaluate loaded model on test data\n",
    "loaded_model.compile(loss='categorical_crossentropy', optimizer='rmsprop', metrics=['accuracy'])\n",
    "score = loaded_model.evaluate(X_train, y_train, verbose=0)\n",
    "print(\"%s: %.2f%%\" % (loaded_model.metrics_names[1], score[1]*100))\n",
    "\n"
   ]
  }
 ],
 "metadata": {
  "kernelspec": {
   "display_name": "Python 3",
   "language": "python",
   "name": "python3"
  },
  "language_info": {
   "codemirror_mode": {
    "name": "ipython",
    "version": 2
   },
   "file_extension": ".py",
   "mimetype": "text/x-python",
   "name": "python",
   "nbconvert_exporter": "python",
   "pygments_lexer": "ipython2",
   "version": "2.7.14"
  }
 },
 "nbformat": 4,
 "nbformat_minor": 2
}
