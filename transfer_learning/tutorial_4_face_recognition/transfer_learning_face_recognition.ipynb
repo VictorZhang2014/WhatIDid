{
 "cells": [
  {
   "cell_type": "markdown",
   "metadata": {},
   "source": [
    "# 1. 基于 InceptionV3 的架构模型直接对人脸的进行识别"
   ]
  },
  {
   "cell_type": "code",
   "execution_count": 1,
   "metadata": {},
   "outputs": [
    {
     "name": "stderr",
     "output_type": "stream",
     "text": [
      "Using TensorFlow backend.\n"
     ]
    }
   ],
   "source": [
    "import matplotlib.pyplot as plt\n",
    "from keras.preprocessing import image\n",
    "import numpy as np\n",
    "\n",
    "\n",
    "def plot_bar(predictions):\n",
    "    types = [pred[1] for pred in predictions]\n",
    "    probs = [pred[2] for pred in predictions]\n",
    "    \n",
    "    plt.barh(np.arange(len(probs)), probs)\n",
    "    _ = plt.yticks(np.arange(3), types)\n",
    "    plt.show()\n",
    "    \n",
    "\n",
    "def load_img(img_path):\n",
    "    img = image.load_img(img_path, target_size=(224, 224))\n",
    "    x = image.img_to_array(img)\n",
    "    x = np.expand_dims(x, axis=0)\n",
    "    return x"
   ]
  },
  {
   "cell_type": "code",
   "execution_count": 2,
   "metadata": {},
   "outputs": [
    {
     "name": "stdout",
     "output_type": "stream",
     "text": [
      "Predicted: [(u'n04584207', u'wig', 0.9844466), (u'n03188531', u'diaper', 0.00455575), (u'n02817516', u'bearskin', 0.0010149482)]\n"
     ]
    },
    {
     "data": {
      "image/png": "[encoded data removed]",
      "text/plain": [
       "<Figure size 432x288 with 1 Axes>"
      ]
     },
     "metadata": {},
     "output_type": "display_data"
    }
   ],
   "source": [
    "from keras.applications.inception_v3 import InceptionV3, preprocess_input, decode_predictions\n",
    "\n",
    "def predicts_numbers():\n",
    "    model = InceptionV3(weights='imagenet')\n",
    "\n",
    "    img_path = \"victor_0001.jpg\"\n",
    "    x = load_img(img_path)\n",
    "    x = preprocess_input(x)\n",
    "    preds = model.predict(x)\n",
    "\n",
    "    predictions = decode_predictions(preds, top=3)[0]\n",
    "    print('Predicted: {}'.format(predictions))\n",
    "    plot_bar(predictions)\n",
    "  \n",
    "predicts_numbers()"
   ]
  },
  {
   "cell_type": "markdown",
   "metadata": {},
   "source": [
    "# 2. 基于 InceptionV3 的架构的迁移学习，对30个人的所属姓名类别进行识别"
   ]
  },
  {
   "cell_type": "code",
   "execution_count": 3,
   "metadata": {},
   "outputs": [
    {
     "name": "stdout",
     "output_type": "stream",
     "text": [
      "faces_names.len = 70\n"
     ]
    }
   ],
   "source": [
    "from glob import glob\n",
    "\n",
    "faces_names = [item[4:] for item in sorted(glob(\"lfw/train/*/*\"))]\n",
    "print(\"faces_names.len = {}\".format(len(faces_names)))"
   ]
  },
  {
   "cell_type": "code",
   "execution_count": 4,
   "metadata": {},
   "outputs": [
    {
     "name": "stdout",
     "output_type": "stream",
     "text": [
      "Found 70 images belonging to 31 classes.\n",
      "Found 31 images belonging to 31 classes.\n"
     ]
    },
    {
     "name": "stderr",
     "output_type": "stream",
     "text": [
      "/Users/victor/virtualenvlist/mydlp2/lib/python2.7/site-packages/ipykernel_launcher.py:34: UserWarning: Update your `Model` call to the Keras 2 API: `Model(outputs=Tensor(\"de..., inputs=Tensor(\"in...)`\n"
     ]
    },
    {
     "name": "stdout",
     "output_type": "stream",
     "text": [
      "First fitting the generator.\n",
      "Epoch 1/2\n",
      "70/70 [==============================] - 327s 5s/step - loss: 2.8443 - acc: 0.4269 - val_loss: 5.1146 - val_acc: 0.1290\n",
      "\n",
      "Epoch 00001: val_loss improved from inf to 5.11463, saving model to inceptin_v3.faces.weights.best.h5\n",
      "Epoch 2/2\n",
      "70/70 [==============================] - 309s 4s/step - loss: 0.8485 - acc: 0.7593 - val_loss: 6.6712 - val_acc: 0.1935\n",
      "\n",
      "Epoch 00002: val_loss did not improve from 5.11463\n",
      "Second fitting the generator.\n",
      "Epoch 1/2\n",
      "70/70 [==============================] - 483s 7s/step - loss: 0.1994 - acc: 0.9647 - val_loss: 1.1904 - val_acc: 0.6129\n",
      "\n",
      "Epoch 00001: val_loss improved from 5.11463 to 1.19044, saving model to inceptin_v3.faces.weights.best.h5\n",
      "Epoch 2/2\n",
      "70/70 [==============================] - 729s 10s/step - loss: 0.1164 - acc: 0.9827 - val_loss: 1.0214 - val_acc: 0.7419\n",
      "\n",
      "Epoch 00002: val_loss improved from 1.19044 to 1.02140, saving model to inceptin_v3.faces.weights.best.h5\n",
      "Saved model weights and architecture to disk\n"
     ]
    },
    {
     "data": {
      "image/png": "[encoded data removed]",
      "text/plain": [
       "<Figure size 432x288 with 1 Axes>"
      ]
     },
     "metadata": {},
     "output_type": "display_data"
    },
    {
     "data": {
      "image/png": "[encoded data removed]",
      "text/plain": [
       "<Figure size 432x288 with 1 Axes>"
      ]
     },
     "metadata": {},
     "output_type": "display_data"
    }
   ],
   "source": [
    "# 参考：\n",
    "# 迁移学习：https://keras.io/applications/\n",
    "# fit_generator: https://keras.io/preprocessing/image/\n",
    "# callback: https://keras.io/callbacks/\n",
    "\n",
    "num_classes = 31\n",
    "img_width = 250\n",
    "img_height = 250\n",
    "img_channels = 3\n",
    "\n",
    "from keras.applications.inception_v3 import InceptionV3, preprocess_input, decode_predictions\n",
    "from keras.models import Model\n",
    "from keras.layers import Dense, GlobalAveragePooling2D\n",
    "from keras.preprocessing import image\n",
    "from keras.preprocessing.image import ImageDataGenerator\n",
    "from keras.optimizers import SGD\n",
    "from keras.callbacks import ModelCheckpoint  \n",
    "\n",
    "import matplotlib.pyplot as plt\n",
    "%matplotlib inline\n",
    "\n",
    "\n",
    "def add_new_last_layers(base_model, num_classes):\n",
    "    # add a global spatial average pooling layer\n",
    "    x = base_model.output\n",
    "    x = GlobalAveragePooling2D()(x)\n",
    "\n",
    "    # let's add a fully-connected layer\n",
    "    x = Dense(1024, activation='relu')(x)\n",
    "\n",
    "    # and a logistic layer -- let's say we have num_classes classes\n",
    "    predictions = Dense(num_classes, activation='softmax')(x)\n",
    "\n",
    "    model = Model(input=base_model.input, output=predictions)\n",
    "    return model\n",
    "\n",
    "\n",
    "def freeze_previous_layers(model, base_model):\n",
    "    # first: train only the top layers (which were randomly initialized)\n",
    "    # i.e. freeze all convolutional InceptionV3 layers\n",
    "    for layer in base_model.layers:\n",
    "        layer.trainable = False\n",
    "\n",
    "    model.compile(optimizer='rmsprop', loss='categorical_crossentropy', metrics=['accuracy'])\n",
    "\n",
    "\n",
    "def fine_tune_model(model):\n",
    "    # we chose to train the top 2 inception blocks, i.e. we will freeze\n",
    "    # the first 249 layers and unfreeze the rest:\n",
    "    for layer in model.layers[:172]:\n",
    "        layer.trainable = False\n",
    "    for layer in model.layers[172:]:\n",
    "        layer.trainable = True\n",
    "\n",
    "    model.compile(optimizer=SGD(lr=0.0001, momentum=0.9), loss='categorical_crossentropy', metrics=['accuracy'])\n",
    "  \n",
    "def plot_training(history):\n",
    "    acc = history.history['acc']\n",
    "    val_acc = history.history['val_acc']\n",
    "    loss = history.history['loss']\n",
    "    val_loss = history.history['val_loss']\n",
    "    epochs = range(len(acc))\n",
    "\n",
    "    plt.plot(epochs, acc, 'r.')\n",
    "    plt.plot(epochs, val_acc, 'r')\n",
    "    plt.title('Training and validation accuracy')\n",
    "\n",
    "    plt.figure()\n",
    "    plt.plot(epochs, loss, 'r.')\n",
    "    plt.plot(epochs, val_loss, 'r-')\n",
    "    plt.title('Training and validation loss')\n",
    "    plt.show()\n",
    "\n",
    "checkpointer = ModelCheckpoint(filepath='inceptin_v3.faces.weights.best.h5', verbose=1, save_best_only=True)\n",
    "\n",
    "def train(num_classes, batch_size, epochs):\n",
    "  \n",
    "    # data prep\n",
    "    train_datagen = ImageDataGenerator(\n",
    "      preprocessing_function=preprocess_input,\n",
    "      rotation_range=20,\n",
    "      width_shift_range=0.2,\n",
    "      height_shift_range=0.2,\n",
    "      shear_range=0.2,\n",
    "      zoom_range=0.2,\n",
    "      horizontal_flip=True\n",
    "    )\n",
    "    valid_datagen = ImageDataGenerator(\n",
    "      preprocessing_function=preprocess_input,\n",
    "      rotation_range=20,\n",
    "      width_shift_range=0.2,\n",
    "      height_shift_range=0.2,\n",
    "      shear_range=0.2,\n",
    "      zoom_range=0.2,\n",
    "      horizontal_flip=True\n",
    "    )\n",
    "\n",
    "    # data augmentation\n",
    "    train_generator = train_datagen.flow_from_directory(\n",
    "        'lfw/train',\n",
    "        target_size=(img_width, img_height),\n",
    "        batch_size=batch_size,\n",
    "        class_mode='categorical')\n",
    "    \n",
    "    validation_generator = valid_datagen.flow_from_directory(\n",
    "        'lfw/valid',\n",
    "        target_size=(img_width, img_height),\n",
    "        batch_size=batch_size,\n",
    "        class_mode='categorical')\n",
    "\n",
    "    # setup model\n",
    "    # create the base pre-trained model\n",
    "    base_model = InceptionV3(weights='imagenet', include_top=False) # include_top=False denotes that excludes final FC layer \n",
    "    model = add_new_last_layers(base_model, num_classes)\n",
    "\n",
    "    # transfer learning\n",
    "    freeze_previous_layers(model, base_model)\n",
    "\n",
    "    print(\"First fitting the generator.\")\n",
    "    # train the model on the new data for a few epochs\n",
    "    history_tl = model.fit_generator(train_generator, \n",
    "                      steps_per_epoch=len(faces_names), \n",
    "                      epochs=epochs,\n",
    "                      verbose=1,              \n",
    "                      validation_data=validation_generator,\n",
    "                      callbacks=[checkpointer])\n",
    "\n",
    "    # fine tune\n",
    "    fine_tune_model(model)\n",
    "\n",
    "    print(\"Second fitting the generator.\")\n",
    "    # we train our model again (this time fine-tuning the top 2 inception blocks\n",
    "    # alongside the top Dense layers\n",
    "    history_ft = model.fit_generator(train_generator, \n",
    "                      steps_per_epoch=len(faces_names), \n",
    "                      epochs=epochs,\n",
    "                      verbose=1,              \n",
    "                      validation_data=validation_generator,\n",
    "                      callbacks=[checkpointer])\n",
    "\n",
    "\n",
    "    # https://machinelearningmastery.com/save-load-keras-deep-learning-models/\n",
    "    # serialize model to YAML\n",
    "    model_yaml = model.to_yaml()\n",
    "    with open(\"inceptin_v3_faces_weights_best.yaml\", \"w\") as yaml_file:\n",
    "        yaml_file.write(model_yaml)\n",
    "    # serialize weights to HDF5 \n",
    "    model.save_weights(\"inceptin_v3_faces_weights_best1.h5\")\n",
    "    print(\"Saved model weights and architecture to disk\")\n",
    "\n",
    "    plot_training(history_ft)\n",
    "\n",
    "\n",
    "batch_size = 32\n",
    "epochs = 2\n",
    "train(num_classes, batch_size, epochs)\n"
   ]
  },
  {
   "cell_type": "markdown",
   "metadata": {},
   "source": [
    "# 通过.yaml文件和.hdf5文件来加载InceptionV3的迁移学习模型\n",
    "\n",
    "> yaml文件和json文件都可以保存模型的架构\n",
    "\n",
    "> HDF5文件用来保存模型的权重\n",
    "\n",
    "预测步骤：\n",
    "- 1.加载模型架构\n",
    "- 2.加载模型权重\n",
    "- 3.预测"
   ]
  },
  {
   "cell_type": "code",
   "execution_count": 5,
   "metadata": {},
   "outputs": [
    {
     "name": "stdout",
     "output_type": "stream",
     "text": [
      "Loaded model from disk\n"
     ]
    }
   ],
   "source": [
    "# 验证\n",
    "\n",
    "# https://machinelearningmastery.com/save-load-keras-deep-learning-models/\n",
    "\n",
    "from keras.applications.inception_v3 import preprocess_input\n",
    "from keras.models import model_from_yaml\n",
    "import matplotlib.pyplot as plt\n",
    "from keras.preprocessing import image\n",
    "import numpy as np\n",
    "\n",
    "# load YAML and create model\n",
    "with open('inceptin_v3_faces_weights_best.yaml', 'r') as yaml_file:\n",
    "    loaded_model_yaml = yaml_file.read()\n",
    "loaded_model = model_from_yaml(loaded_model_yaml)\n",
    "\n",
    "# load weights into new model\n",
    "loaded_model.load_weights(\"inceptin_v3_faces_weights_best1.h5\")\n",
    "print(\"Loaded model from disk\")\n",
    " \n",
    "# evaluate loaded model on test data\n",
    "loaded_model.compile(loss='categorical_crossentropy', optimizer='rmsprop', metrics=['accuracy'])\n",
    "# score = loaded_model.evaluate(X_train, y_train, verbose=0)\n",
    "# print(\"%s: %.2f%%\" % (loaded_model.metrics_names[1], score[1]*100))\n"
   ]
  },
  {
   "cell_type": "markdown",
   "metadata": {},
   "source": [
    "# 可视化出类别概率直方图"
   ]
  },
  {
   "cell_type": "code",
   "execution_count": 8,
   "metadata": {},
   "outputs": [
    {
     "name": "stdout",
     "output_type": "stream",
     "text": [
      "The Max Probability : 0.864566802979 belongs to Victor_Zhang.\n"
     ]
    },
    {
     "data": {
      "image/png": "[encoded data removed]",
      "text/plain": [
       "<Figure size 432x288 with 1 Axes>"
      ]
     },
     "metadata": {},
     "output_type": "display_data"
    }
   ],
   "source": [
    "\n",
    "def load_face_img(trained_model):\n",
    "    img_path = 'victor_test.jpg' \n",
    "    x = load_img(img_path)\n",
    "    x = preprocess_input(x)\n",
    "    predictions = trained_model.predict(x)\n",
    "\n",
    "    faces_names = [item[10:] for item in sorted(glob(\"lfw/train/*\"))]\n",
    "    #predictions = decode_predictions(predictions, top=10)\n",
    "    #print('Predicted: {}'.format(predictions))\n",
    "\n",
    "    # 预测的概率数组\n",
    "    prediction_list = predictions[0]\n",
    "    \n",
    "    # 取出最大概率值的索引\n",
    "    max_index = np.argmax(prediction_list)\n",
    "    print(\"The Max Probability : {} belongs to {}.\".format(prediction_list[max_index], faces_names[max_index]))\n",
    "    \n",
    "    # 可视化打印前几个大于0.01的概率的值\n",
    "    probs = []\n",
    "    names = []\n",
    "    i = 0\n",
    "    for v in prediction_list:\n",
    "        if v > 0.01:\n",
    "            probs.append(v)\n",
    "            names.append(faces_names[i])\n",
    "        i+=1\n",
    "\n",
    "    plt.barh(np.arange(len(probs)), probs)\n",
    "    _ = plt.yticks(np.arange(len(probs)), names)\n",
    "    plt.show()\n",
    "\n",
    "load_face_img(loaded_model)"
   ]
  },
  {
   "cell_type": "code",
   "execution_count": null,
   "metadata": {},
   "outputs": [],
   "source": []
  }
 ],
 "metadata": {
  "kernelspec": {
   "display_name": "Python 3",
   "language": "python",
   "name": "python3"
  },
  "language_info": {
   "codemirror_mode": {
    "name": "ipython",
    "version": 2
   },
   "file_extension": ".py",
   "mimetype": "text/x-python",
   "name": "python",
   "nbconvert_exporter": "python",
   "pygments_lexer": "ipython2",
   "version": "2.7.14"
  }
 },
 "nbformat": 4,
 "nbformat_minor": 2
}
