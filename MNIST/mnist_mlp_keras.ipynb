{
 "cells": [
  {
   "cell_type": "code",
   "execution_count": 6,
   "metadata": {},
   "outputs": [
    {
     "name": "stdout",
     "output_type": "stream",
     "text": [
      "(60000, 'train samples')\n",
      "(10000, 'test samples')\n",
      "_________________________________________________________________\n",
      "Layer (type)                 Output Shape              Param #   \n",
      "=================================================================\n",
      "dense_7 (Dense)              (None, 512)               401920    \n",
      "_________________________________________________________________\n",
      "dropout_5 (Dropout)          (None, 512)               0         \n",
      "_________________________________________________________________\n",
      "dense_8 (Dense)              (None, 512)               262656    \n",
      "_________________________________________________________________\n",
      "dropout_6 (Dropout)          (None, 512)               0         \n",
      "_________________________________________________________________\n",
      "dense_9 (Dense)              (None, 10)                5130      \n",
      "=================================================================\n",
      "Total params: 669,706\n",
      "Trainable params: 669,706\n",
      "Non-trainable params: 0\n",
      "_________________________________________________________________\n",
      "Train on 60000 samples, validate on 10000 samples\n",
      "Epoch 1/20\n",
      "60000/60000 [==============================] - 6s 99us/step - loss: 0.2473 - acc: 0.9253 - val_loss: 0.1099 - val_acc: 0.9661\n",
      "Epoch 2/20\n",
      "60000/60000 [==============================] - 5s 86us/step - loss: 0.1050 - acc: 0.9678 - val_loss: 0.0810 - val_acc: 0.9758\n",
      "Epoch 3/20\n",
      "60000/60000 [==============================] - 6s 95us/step - loss: 0.0767 - acc: 0.9772 - val_loss: 0.0718 - val_acc: 0.9794\n",
      "Epoch 4/20\n",
      "60000/60000 [==============================] - 5s 89us/step - loss: 0.0596 - acc: 0.9815 - val_loss: 0.0739 - val_acc: 0.9796\n",
      "Epoch 5/20\n",
      "60000/60000 [==============================] - 6s 106us/step - loss: 0.0503 - acc: 0.9854 - val_loss: 0.0663 - val_acc: 0.9818\n",
      "Epoch 6/20\n",
      "60000/60000 [==============================] - 6s 92us/step - loss: 0.0442 - acc: 0.9869 - val_loss: 0.0942 - val_acc: 0.9763\n",
      "Epoch 7/20\n",
      "60000/60000 [==============================] - 6s 107us/step - loss: 0.0387 - acc: 0.9887 - val_loss: 0.0765 - val_acc: 0.9802\n",
      "Epoch 8/20\n",
      "60000/60000 [==============================] - 6s 95us/step - loss: 0.0348 - acc: 0.9896 - val_loss: 0.0912 - val_acc: 0.9794\n",
      "Epoch 9/20\n",
      "60000/60000 [==============================] - 6s 95us/step - loss: 0.0324 - acc: 0.9899 - val_loss: 0.0921 - val_acc: 0.9801\n",
      "Epoch 10/20\n",
      "60000/60000 [==============================] - 6s 99us/step - loss: 0.0294 - acc: 0.9922 - val_loss: 0.0894 - val_acc: 0.9830\n",
      "Epoch 11/20\n",
      "60000/60000 [==============================] - 7s 112us/step - loss: 0.0264 - acc: 0.9924 - val_loss: 0.0878 - val_acc: 0.9841\n",
      "Epoch 12/20\n",
      "60000/60000 [==============================] - 9s 148us/step - loss: 0.0245 - acc: 0.9930 - val_loss: 0.1131 - val_acc: 0.9797\n",
      "Epoch 13/20\n",
      "60000/60000 [==============================] - 6s 104us/step - loss: 0.0246 - acc: 0.9934 - val_loss: 0.0930 - val_acc: 0.9844\n",
      "Epoch 14/20\n",
      "60000/60000 [==============================] - 6s 101us/step - loss: 0.0228 - acc: 0.9937 - val_loss: 0.1017 - val_acc: 0.9828\n",
      "Epoch 15/20\n",
      "60000/60000 [==============================] - 7s 111us/step - loss: 0.0222 - acc: 0.9943 - val_loss: 0.1074 - val_acc: 0.9841\n",
      "Epoch 16/20\n",
      "60000/60000 [==============================] - 6s 104us/step - loss: 0.0208 - acc: 0.9948 - val_loss: 0.1068 - val_acc: 0.9835\n",
      "Epoch 17/20\n",
      "60000/60000 [==============================] - 6s 101us/step - loss: 0.0187 - acc: 0.9952 - val_loss: 0.1118 - val_acc: 0.9833\n",
      "Epoch 18/20\n",
      "60000/60000 [==============================] - 6s 93us/step - loss: 0.0186 - acc: 0.9949 - val_loss: 0.1221 - val_acc: 0.9820\n",
      "Epoch 19/20\n",
      "60000/60000 [==============================] - 6s 107us/step - loss: 0.0175 - acc: 0.9954 - val_loss: 0.1159 - val_acc: 0.9827\n",
      "Epoch 20/20\n",
      "60000/60000 [==============================] - 6s 94us/step - loss: 0.0202 - acc: 0.9951 - val_loss: 0.1092 - val_acc: 0.9832\n",
      "Test accuracy:0.9832, Test loss: 0.109245757623, [0.10924575762333798, 0.9832]\n"
     ]
    }
   ],
   "source": [
    "import keras\n",
    "from keras.datasets import mnist\n",
    "from keras.models import Sequential\n",
    "from keras.layers import Dense, Dropout, Activation\n",
    "from keras.optimizers import RMSprop\n",
    "\n",
    "batch_size = 128\n",
    "num_classes = 10\n",
    "epochs = 20\n",
    "\n",
    "img_cols, img_rows = 28, 28\n",
    "img_size = 28 * 28\n",
    "\n",
    "(x_train, y_train), (x_test, y_test) = mnist.load_data()\n",
    "\n",
    "x_train = x_train.reshape(x_train.shape[0], img_size)\n",
    "x_test = x_test.reshape(x_test.shape[0], img_size)\n",
    "x_train = x_train.astype('float32')\n",
    "x_test = x_test.astype('float32')\n",
    "x_train /= 255\n",
    "x_test /= 255\n",
    "\n",
    "\n",
    "y_train = keras.utils.to_categorical(y_train, num_classes)\n",
    "y_test = keras.utils.to_categorical(y_test, num_classes)\n",
    "\n",
    "model = Sequential()\n",
    "model.add(Dense(512, activation='relu', input_shape=(img_size,)))\n",
    "model.add(Dropout(0.2))\n",
    "model.add(Dense(512, activation='relu'))\n",
    "model.add(Dropout(0.2))\n",
    "model.add(Dense(num_classes, activation='softmax'))\n",
    "model.summary()\n",
    "\n",
    "model.compile(loss='categorical_crossentropy', optimizer=RMSprop(), metrics=['accuracy'])\n",
    "model.fit(x_train, y_train, epochs=epochs, batch_size=batch_size, verbose=1, validation_data=(x_test, y_test))\n",
    "\n",
    "score = model.evaluate(x_test, y_test, verbose=0)\n",
    "print('Test accuracy:{}, Test loss: {}, {}'.format(score[1], score[0], score))\n"
   ]
  },
  {
   "cell_type": "code",
   "execution_count": 81,
   "metadata": {},
   "outputs": [
    {
     "data": {
      "image/png": "[encoded data removed]",
      "text/plain": [
       "<Figure size 432x288 with 1 Axes>"
      ]
     },
     "metadata": {},
     "output_type": "display_data"
    }
   ],
   "source": [
    "import matplotlib.pyplot as plt\n",
    "import numpy as np\n",
    "\n",
    "img_0 = x_test[7:8]\n",
    "prediction = model.predict(img_0)\n",
    "\n",
    "x_coordinates = np.arange(prediction.shape[1])\n",
    "\n",
    "plt.bar(x_coordinates, prediction[0][:])\n",
    "plt.xticks(x_coordinates, np.arange(10))\n",
    "plt.show()"
   ]
  },
  {
   "cell_type": "code",
   "execution_count": 88,
   "metadata": {},
   "outputs": [
    {
     "data": {
      "text/plain": [
       "(1, 784)"
      ]
     },
     "execution_count": 88,
     "metadata": {},
     "output_type": "execute_result"
    }
   ],
   "source": [
    "img_0.shape"
   ]
  },
  {
   "cell_type": "code",
   "execution_count": null,
   "metadata": {},
   "outputs": [],
   "source": []
  }
 ],
 "metadata": {
  "kernelspec": {
   "display_name": "Python 3",
   "language": "python",
   "name": "python3"
  },
  "language_info": {
   "codemirror_mode": {
    "name": "ipython",
    "version": 2
   },
   "file_extension": ".py",
   "mimetype": "text/x-python",
   "name": "python",
   "nbconvert_exporter": "python",
   "pygments_lexer": "ipython2",
   "version": "2.7.14"
  }
 },
 "nbformat": 4,
 "nbformat_minor": 2
}
