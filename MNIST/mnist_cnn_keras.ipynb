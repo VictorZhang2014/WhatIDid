{
 "cells": [
  {
   "cell_type": "code",
   "execution_count": 4,
   "metadata": {},
   "outputs": [],
   "source": [
    "import keras\n",
    "from keras.datasets import mnist\n",
    "from keras.models import Sequential\n",
    "from keras.layers import Dense, Dropout, Flatten, Conv2D, MaxPooling2D\n",
    "from keras import utils"
   ]
  },
  {
   "cell_type": "code",
   "execution_count": 7,
   "metadata": {},
   "outputs": [
    {
     "name": "stdout",
     "output_type": "stream",
     "text": [
      "_________________________________________________________________\n",
      "Layer (type)                 Output Shape              Param #   \n",
      "=================================================================\n",
      "conv2d_5 (Conv2D)            (None, 26, 26, 32)        320       \n",
      "_________________________________________________________________\n",
      "conv2d_6 (Conv2D)            (None, 24, 24, 64)        18496     \n",
      "_________________________________________________________________\n",
      "max_pooling2d_2 (MaxPooling2 (None, 12, 12, 64)        0         \n",
      "_________________________________________________________________\n",
      "dropout_3 (Dropout)          (None, 12, 12, 64)        0         \n",
      "_________________________________________________________________\n",
      "flatten_2 (Flatten)          (None, 9216)              0         \n",
      "_________________________________________________________________\n",
      "dense_3 (Dense)              (None, 128)               1179776   \n",
      "_________________________________________________________________\n",
      "dropout_4 (Dropout)          (None, 128)               0         \n",
      "_________________________________________________________________\n",
      "dense_4 (Dense)              (None, 10)                1290      \n",
      "=================================================================\n",
      "Total params: 1,199,882\n",
      "Trainable params: 1,199,882\n",
      "Non-trainable params: 0\n",
      "_________________________________________________________________\n",
      "Train on 60000 samples, validate on 10000 samples\n",
      "Epoch 1/15\n",
      "60000/60000 [==============================] - 123s 2ms/step - loss: 0.2669 - acc: 0.9190 - val_loss: 0.0609 - val_acc: 0.9799\n",
      "Epoch 2/15\n",
      "60000/60000 [==============================] - 123s 2ms/step - loss: 0.0918 - acc: 0.9726 - val_loss: 0.0414 - val_acc: 0.9857\n",
      "Epoch 3/15\n",
      "60000/60000 [==============================] - 118s 2ms/step - loss: 0.0684 - acc: 0.9799 - val_loss: 0.0350 - val_acc: 0.9873\n",
      "Epoch 4/15\n",
      "60000/60000 [==============================] - 119s 2ms/step - loss: 0.0554 - acc: 0.9831 - val_loss: 0.0385 - val_acc: 0.9876\n",
      "Epoch 5/15\n",
      "60000/60000 [==============================] - 121s 2ms/step - loss: 0.0481 - acc: 0.9861 - val_loss: 0.0303 - val_acc: 0.9898\n",
      "Epoch 6/15\n",
      "60000/60000 [==============================] - 125s 2ms/step - loss: 0.0430 - acc: 0.9869 - val_loss: 0.0265 - val_acc: 0.9916\n",
      "Epoch 7/15\n",
      "60000/60000 [==============================] - 127s 2ms/step - loss: 0.0384 - acc: 0.9881 - val_loss: 0.0274 - val_acc: 0.9905\n",
      "Epoch 8/15\n",
      "60000/60000 [==============================] - 134s 2ms/step - loss: 0.0357 - acc: 0.9889 - val_loss: 0.0288 - val_acc: 0.9907\n",
      "Epoch 9/15\n",
      "60000/60000 [==============================] - 140s 2ms/step - loss: 0.0315 - acc: 0.9903 - val_loss: 0.0271 - val_acc: 0.9914\n",
      "Epoch 10/15\n",
      "60000/60000 [==============================] - 138s 2ms/step - loss: 0.0288 - acc: 0.9912 - val_loss: 0.0296 - val_acc: 0.9897\n",
      "Epoch 11/15\n",
      "60000/60000 [==============================] - 160s 3ms/step - loss: 0.0299 - acc: 0.9906 - val_loss: 0.0286 - val_acc: 0.9917\n",
      "Epoch 12/15\n",
      "60000/60000 [==============================] - 138s 2ms/step - loss: 0.0274 - acc: 0.9918 - val_loss: 0.0262 - val_acc: 0.9917\n",
      "Epoch 13/15\n",
      "60000/60000 [==============================] - 154s 3ms/step - loss: 0.0266 - acc: 0.9917 - val_loss: 0.0336 - val_acc: 0.9894\n",
      "Epoch 14/15\n",
      "60000/60000 [==============================] - 153s 3ms/step - loss: 0.0254 - acc: 0.9922 - val_loss: 0.0288 - val_acc: 0.9914\n",
      "Epoch 15/15\n",
      "60000/60000 [==============================] - 152s 3ms/step - loss: 0.0249 - acc: 0.9924 - val_loss: 0.0270 - val_acc: 0.9918\n",
      "Test Loss: 0.02704, Test Accuracy: 0.99180\n"
     ]
    }
   ],
   "source": [
    "batch_size = 128\n",
    "epochs = 15\n",
    "num_classes = 10\n",
    "\n",
    "img_width = 28\n",
    "img_height = 28\n",
    "img_channels = 1\n",
    "\n",
    "(x_train, y_train), (x_test, y_test) = mnist.load_data()\n",
    "\n",
    "x_train = x_train.reshape(x_train.shape[0], img_width, img_height, img_channels)\n",
    "x_test = x_test.reshape(x_test.shape[0], img_width, img_height, img_channels)\n",
    "x_train = x_train.astype('float32')\n",
    "x_test = x_test.astype('float32')\n",
    "x_train /= 255\n",
    "x_test /= 255\n",
    "\n",
    "y_train = utils.to_categorical(y_train, num_classes)\n",
    "y_test = utils.to_categorical(y_test, num_classes)\n",
    "\n",
    "model = Sequential()\n",
    "model.add(Conv2D(filters=32, kernel_size=(3, 3), activation='relu', input_shape=(img_width, img_height, img_channels)))\n",
    "model.add(Conv2D(filters=64, kernel_size=(3, 3), activation='relu'))\n",
    "model.add(MaxPooling2D(pool_size=(2, 2)))\n",
    "model.add(Dropout(0.25))\n",
    "model.add(Flatten())\n",
    "model.add(Dense(128, activation='relu'))\n",
    "model.add(Dropout(0.5))\n",
    "model.add(Dense(num_classes, activation='softmax'))\n",
    "model.summary()\n",
    "\n",
    "model.compile(loss=keras.losses.categorical_crossentropy, optimizer=keras.optimizers.Adadelta(), metrics=['accuracy'])\n",
    "model.fit(x_train, y_train, batch_size=batch_size, epochs=epochs, verbose=1, validation_data=(x_test, y_test))\n",
    "score = model.evaluate(x_test, y_test, verbose=0)\n",
    "print(\"Test Loss: {:.5f}, Test Accuracy: {:.5f}\".format(score[0], score[1]))\n"
   ]
  },
  {
   "cell_type": "code",
   "execution_count": 21,
   "metadata": {},
   "outputs": [
    {
     "data": {
      "image/png": "[encoded data removed]",
      "text/plain": [
       "<Figure size 432x288 with 1 Axes>"
      ]
     },
     "metadata": {},
     "output_type": "display_data"
    }
   ],
   "source": [
    "import numpy as np\n",
    "import matplotlib.pyplot as plt\n",
    "\n",
    "img_0 = x_test[0:1]\n",
    "prediction = model.predict(img_0)\n",
    "\n",
    "x_coordinate = np.arange(prediction.shape[1])\n",
    "prediction.shape\n",
    "plt.bar(x_coordinate, prediction[0][:])\n",
    "plt.xticks(x_coordinate, np.arange(10))\n",
    "plt.show()"
   ]
  },
  {
   "cell_type": "code",
   "execution_count": null,
   "metadata": {},
   "outputs": [],
   "source": []
  }
 ],
 "metadata": {
  "kernelspec": {
   "display_name": "Python 3",
   "language": "python",
   "name": "python3"
  },
  "language_info": {
   "codemirror_mode": {
    "name": "ipython",
    "version": 2
   },
   "file_extension": ".py",
   "mimetype": "text/x-python",
   "name": "python",
   "nbconvert_exporter": "python",
   "pygments_lexer": "ipython2",
   "version": "2.7.14"
  }
 },
 "nbformat": 4,
 "nbformat_minor": 2
}
