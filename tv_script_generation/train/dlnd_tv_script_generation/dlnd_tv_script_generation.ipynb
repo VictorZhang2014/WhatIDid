{
 "cells": [
  {
   "cell_type": "markdown",
   "metadata": {
    "deletable": true,
    "editable": true
   },
   "source": [
    "# TV Script Generation\n",
    "In this project, you'll generate your own [Simpsons](https://en.wikipedia.org/wiki/The_Simpsons) TV scripts using RNNs.  You'll be using part of the [Simpsons dataset](https://www.kaggle.com/wcukierski/the-simpsons-by-the-data) of scripts from 27 seasons.  The Neural Network you'll build will generate a new TV script for a scene at [Moe's Tavern](https://simpsonswiki.com/wiki/Moe's_Tavern).\n",
    "## Get the Data\n",
    "The data is already provided for you.  You'll be using a subset of the original dataset.  It consists of only the scenes in Moe's Tavern.  This doesn't include other versions of the tavern, like \"Moe's Cavern\", \"Flaming Moe's\", \"Uncle Moe's Family Feed-Bag\", etc.."
   ]
  },
  {
   "cell_type": "code",
   "execution_count": 10,
   "metadata": {
    "collapsed": true,
    "deletable": true,
    "editable": true
   },
   "outputs": [],
   "source": [
    "\"\"\"\n",
    "DON'T MODIFY ANYTHING IN THIS CELL\n",
    "\"\"\"\n",
    "import helper\n",
    "\n",
    "data_dir = 'data/simpsons/moes_tavern_lines.txt'\n",
    "text = helper.load_data(data_dir)\n",
    "# Ignore notice, since we don't use it for analysing the data\n",
    "text = text[81:]"
   ]
  },
  {
   "cell_type": "markdown",
   "metadata": {
    "deletable": true,
    "editable": true
   },
   "source": [
    "## Explore the Data\n",
    "Play around with `view_sentence_range` to view different parts of the data."
   ]
  },
  {
   "cell_type": "code",
   "execution_count": 4,
   "metadata": {
    "collapsed": false,
    "deletable": true,
    "editable": true
   },
   "outputs": [
    {
     "name": "stdout",
     "output_type": "stream",
     "text": [
      "Dataset Stats\n",
      "Roughly the number of unique words: 11492\n",
      "Number of scenes: 262\n",
      "Average number of sentences in each scene: 15.248091603053435\n",
      "Number of lines: 4257\n",
      "Average number of words in each line: 11.50434578341555\n",
      "\n",
      "The sentences 0 to 10:\n",
      "Moe_Szyslak: (INTO PHONE) Moe's Tavern. Where the elite meet to drink.\n",
      "Bart_Simpson: Eh, yeah, hello, is Mike there? Last name, Rotch.\n",
      "Moe_Szyslak: (INTO PHONE) Hold on, I'll check. (TO BARFLIES) Mike Rotch. Mike Rotch. Hey, has anybody seen Mike Rotch, lately?\n",
      "Moe_Szyslak: (INTO PHONE) Listen you little puke. One of these days I'm gonna catch you, and I'm gonna carve my name on your back with an ice pick.\n",
      "Moe_Szyslak: What's the matter Homer? You're not your normal effervescent self.\n",
      "Homer_Simpson: I got my problems, Moe. Give me another one.\n",
      "Moe_Szyslak: Homer, hey, you should not drink to forget your problems.\n",
      "Barney_Gumble: Yeah, you should only drink to enhance your social skills.\n",
      "\n",
      "\n"
     ]
    }
   ],
   "source": [
    "view_sentence_range = (0, 10)\n",
    "\n",
    "\"\"\"\n",
    "DON'T MODIFY ANYTHING IN THIS CELL\n",
    "\"\"\"\n",
    "import numpy as np\n",
    "\n",
    "print('Dataset Stats')\n",
    "print('Roughly the number of unique words: {}'.format(len({word: None for word in text.split()})))\n",
    "scenes = text.split('\\n\\n')\n",
    "print('Number of scenes: {}'.format(len(scenes)))\n",
    "sentence_count_scene = [scene.count('\\n') for scene in scenes]\n",
    "print('Average number of sentences in each scene: {}'.format(np.average(sentence_count_scene)))\n",
    "\n",
    "sentences = [sentence for scene in scenes for sentence in scene.split('\\n')]\n",
    "print('Number of lines: {}'.format(len(sentences)))\n",
    "word_count_sentence = [len(sentence.split()) for sentence in sentences]\n",
    "print('Average number of words in each line: {}'.format(np.average(word_count_sentence)))\n",
    "\n",
    "print()\n",
    "print('The sentences {} to {}:'.format(*view_sentence_range))\n",
    "print('\\n'.join(text.split('\\n')[view_sentence_range[0]:view_sentence_range[1]]))"
   ]
  },
  {
   "cell_type": "markdown",
   "metadata": {
    "deletable": true,
    "editable": true
   },
   "source": [
    "## Implement Preprocessing Functions\n",
    "The first thing to do to any dataset is preprocessing.  Implement the following preprocessing functions below:\n",
    "- Lookup Table\n",
    "- Tokenize Punctuation\n",
    "\n",
    "### Lookup Table\n",
    "To create a word embedding, you first need to transform the words to ids.  In this function, create two dictionaries:\n",
    "- Dictionary to go from the words to an id, we'll call `vocab_to_int`\n",
    "- Dictionary to go from the id to word, we'll call `int_to_vocab`\n",
    "\n",
    "Return these dictionaries in the following tuple `(vocab_to_int, int_to_vocab)`"
   ]
  },
  {
   "cell_type": "code",
   "execution_count": 5,
   "metadata": {
    "collapsed": false,
    "deletable": true,
    "editable": true
   },
   "outputs": [
    {
     "name": "stdout",
     "output_type": "stream",
     "text": [
      "Tests Passed\n"
     ]
    }
   ],
   "source": [
    "import numpy as np\n",
    "import problem_unittests as tests\n",
    "from collections import Counter\n",
    "\n",
    "def create_lookup_tables(text):\n",
    "    \"\"\"\n",
    "    Create lookup tables for vocabulary\n",
    "    :param text: The text of tv scripts split into words\n",
    "    :return: A tuple of dicts (vocab_to_int, int_to_vocab)\n",
    "    \"\"\"\n",
    "    # TODO: Implement Function\n",
    "    word_counts = Counter(text)\n",
    "    int_to_vocab = {counts: word for counts, word in enumerate(word_counts)}\n",
    "    vocab_to_int = {word: counts for counts, word in int_to_vocab.items()}\n",
    "    return vocab_to_int, int_to_vocab\n",
    "\n",
    "\n",
    "\"\"\"\n",
    "DON'T MODIFY ANYTHING IN THIS CELL THAT IS BELOW THIS LINE\n",
    "\"\"\"\n",
    "tests.test_create_lookup_tables(create_lookup_tables)"
   ]
  },
  {
   "cell_type": "markdown",
   "metadata": {
    "deletable": true,
    "editable": true
   },
   "source": [
    "### Tokenize Punctuation\n",
    "We'll be splitting the script into a word array using spaces as delimiters.  However, punctuations like periods and exclamation marks make it hard for the neural network to distinguish between the word \"bye\" and \"bye!\".\n",
    "\n",
    "Implement the function `token_lookup` to return a dict that will be used to tokenize symbols like \"!\" into \"||Exclamation_Mark||\".  Create a dictionary for the following symbols where the symbol is the key and value is the token:\n",
    "- Period ( . )\n",
    "- Comma ( , )\n",
    "- Quotation Mark ( \" )\n",
    "- Semicolon ( ; )\n",
    "- Exclamation mark ( ! )\n",
    "- Question mark ( ? )\n",
    "- Left Parentheses ( ( )\n",
    "- Right Parentheses ( ) )\n",
    "- Dash ( -- )\n",
    "- Return ( \\n )\n",
    "\n",
    "This dictionary will be used to token the symbols and add the delimiter (space) around it.  This separates the symbols as it's own word, making it easier for the neural network to predict on the next word. Make sure you don't use a token that could be confused as a word. Instead of using the token \"dash\", try using something like \"||dash||\"."
   ]
  },
  {
   "cell_type": "code",
   "execution_count": 6,
   "metadata": {
    "collapsed": false,
    "deletable": true,
    "editable": true
   },
   "outputs": [
    {
     "name": "stdout",
     "output_type": "stream",
     "text": [
      "Tests Passed\n"
     ]
    }
   ],
   "source": [
    "def token_lookup():\n",
    "    \"\"\"\n",
    "    Generate a dict to turn punctuation into a token.\n",
    "    :return: Tokenize dictionary where the key is the punctuation and the value is the token\n",
    "    \"\"\"\n",
    "    # TODO: Implement Function\n",
    "    return { \".\" : \"||Period||\", \n",
    "             \",\" : \"||Comma||\",\n",
    "             \"\\\"\" : \"||Quotation_Mark||\",\n",
    "             \";\" : \"||Semicolon||\",\n",
    "             \"!\" : \"||Exclamation_Mark||\",\n",
    "             \"?\" : \"||QuestionMark||\",\n",
    "             \"(\" : \"||Left_Parentheses||\",\n",
    "             \")\" : \"||Right_Parentheses||\",\n",
    "             \"--\" : \"||Dash||\",\n",
    "             \"\\n\" : \"||Return||\" }\n",
    "\n",
    "\"\"\"\n",
    "DON'T MODIFY ANYTHING IN THIS CELL THAT IS BELOW THIS LINE\n",
    "\"\"\"\n",
    "tests.test_tokenize(token_lookup)"
   ]
  },
  {
   "cell_type": "markdown",
   "metadata": {
    "deletable": true,
    "editable": true
   },
   "source": [
    "## Preprocess all the data and save it\n",
    "Running the code cell below will preprocess all the data and save it to file."
   ]
  },
  {
   "cell_type": "code",
   "execution_count": 11,
   "metadata": {
    "collapsed": false,
    "deletable": true,
    "editable": true
   },
   "outputs": [
    {
     "name": "stdout",
     "output_type": "stream",
     "text": [
      "{'moe_szyslak:': 0, '||left_parentheses||': 1, 'into': 2, 'phone': 3, '||right_parentheses||': 4, \"moe's\": 5, 'tavern': 6, '||period||': 7, 'where': 8, 'the': 9, 'elite': 10, 'meet': 11, 'to': 12, 'drink': 13, '||return||': 14, 'bart_simpson:': 15, 'eh': 16, '||comma||': 17, 'yeah': 18, 'hello': 19, 'is': 20, 'mike': 21, 'there': 22, '||questionmark||': 23, 'last': 24, 'name': 25, 'rotch': 26, 'hold': 27, 'on': 28, \"i'll\": 29, 'check': 30, 'barflies': 31, 'hey': 32, 'has': 33, 'anybody': 34, 'seen': 35, 'lately': 36, 'listen': 37, 'you': 38, 'little': 39, 'puke': 40, 'one': 41, 'of': 42, 'these': 43, 'days': 44, \"i'm\": 45, 'gonna': 46, 'catch': 47, 'and': 48, 'carve': 49, 'my': 50, 'your': 51, 'back': 52, 'with': 53, 'an': 54, 'ice': 55, 'pick': 56, \"what's\": 57, 'matter': 58, 'homer': 59, \"you're\": 60, 'not': 61, 'normal': 62, 'effervescent': 63, 'self': 64, 'homer_simpson:': 65, 'i': 66, 'got': 67, 'problems': 68, 'moe': 69, 'give': 70, 'me': 71, 'another': 72, 'should': 73, 'forget': 74, 'barney_gumble:': 75, 'only': 76, 'enhance': 77, 'social': 78, 'skills': 79, 'ah': 80, \"isn't\": 81, 'that': 82, 'nice': 83, 'now': 84, 'a': 85, 'politician': 86, 'who': 87, 'cares': 88, 'if': 89, 'ever': 90, 'vote': 91, \"it'll\": 92, 'be': 93, 'for': 94, 'him': 95, 'belch': 96, \"how's\": 97, \"neighbor's\": 98, 'store': 99, 'doing': 100, 'lousy': 101, 'he': 102, 'just': 103, 'sits': 104, 'all': 105, 'day': 106, \"he'd\": 107, 'have': 108, 'great': 109, 'job': 110, \"didn't\": 111, 'own': 112, 'place': 113, 'chuckles': 114, 'struggling': 115, 'corkscrew': 116, 'crummy': 117, 'right-handed': 118, 'corkscrews': 119, '||exclamation_mark||': 120, 'what': 121, 'does': 122, 'sell': 123, 'uh': 124, 'well': 125, 'actually': 126, 'homer_': 127, \"cont'd:\": 128, 'dunno': 129, 'looks': 130, 'like': 131, 'this': 132, 'end': 133, \"that's\": 134, 'right': 135, \"couldn't\": 136, 'led': 137, 'richer': 138, 'life': 139, 'so': 140, 'next': 141, 'time': 142, 'somebody': 143, 'tells': 144, 'county': 145, 'folk': 146, 'are': 147, 'good': 148, 'honest': 149, 'people': 150, 'can': 151, 'spit': 152, 'in': 153, 'their': 154, 'faces': 155, 'lisa_simpson:': 156, 'will': 157, 'mr': 158, 'gumbel': 159, 'but': 160, \"you'll\": 161, 'excuse': 162, 'profiling': 163, 'dad': 164, 'school': 165, 'paper': 166, 'thought': 167, 'it': 168, 'would': 169, 'neat': 170, 'follow': 171, 'around': 172, 'see': 173, 'makes': 174, 'tick': 175, 'oh': 176, 'sweet': 177, 'used': 178, 'lot': 179, 'bars': 180, 'too': 181, 'here': 182, 'go': 183, 'beer': 184, 'chocolate': 185, 'milk': 186, \"depressin'\": 187, 'effects': 188, 'alcohol': 189, 'usually': 190, \"don't\": 191, 'kick': 192, \"'til\": 193, 'closing': 194, \"he's\": 195, 'nervous': 196, 'proudly': 197, 'speech': 198, 'tomorrow': 199, '||quotation_mark||': 200, 'how': 201, 'keep': 202, 'cool': 203, 'crisis': 204, 'sobs': 205, 'am': 206, 'do': 207, 'had': 208, 'once': 209, 'was': 210, 'pretty': 211, 'trick': 212, 'pictured': 213, 'everyone': 214, 'underwear': 215, 'judge': 216, 'jury': 217, 'lawyer': 218, 'everybody': 219, 'did': 220, 'work': 221, 'free': 222, 'man': 223, \"ain't\": 224, 'whoa': 225, 'huh': 226, 'pretzel': 227, 'wow': 228, 'pulled': 229, 'patrons:': 230, 'mumbling': 231, 'unison': 232, 'happy': 233, 'thoughts': 234, 'we': 235, 'love': 236, 'boy': 237, 'loud': 238, 'stupid': 239, 'moron': 240, 'ugly': 241, 'face': 242, 'big': 243, 'butt': 244, 'smells': 245, 'kiss': 246, 'new': 247, 'laughing': 248, 'wait': 249, 'minute': 250, 'hurry': 251, \"i've\": 252, 'five': 253, 'minutes': 254, 'till': 255, 'music': 256, 'closes': 257, 'why': 258, 'first': 259, 'tell': 260, 'sorry': 261, 'know': 262, 'tip': 263, 'glass': 264, \"won't\": 265, 'much': 266, 'foam': 267, 'top': 268, 'looking': 269, 'at': 270, 'watch': 271, 'finished': 272, 'fifteen': 273, 'seconds': 274, 'spare': 275, 'little_man:': 276, 'concerned': 277, 'buddy': 278, 'door': 279, 'closed': 280, 'early': 281, 'stiffening': 282, 'happen': 283, 'trenchant': 284, 'mouth': 285, 'please': 286, \"you've\": 287, 'open': 288, 'let': 289, 'think': 290, 'about': 291, 'no': 292, 'okay': 293, 'want': 294, 'picture': 295, 'girl': 296, 'disappointing': 297, 'goes': 298, 'through': 299, 'his': 300, 'wallet': 301, 'come': 302, 'jer': 303, 'up': 304, 'pal': 305, 'remember': 306, 'when': 307, 'wife': 308, 'out': 309, 'burning': 310, 'car': 311, 'grudgingly': 312, \"we're\": 313, 'even': 314, 'daughter': 315, 'need': 316, 'smoothly': 317, 'wrote': 318, 'down': 319, 'number': 320, 'four': 321, 'half': 322, '||dash||': 323, 'gum': 324, 'reed': 325, 'whoo': 326, 'hoo': 327, 'uh-huh': 328, 'instrument': 329, 'she': 330, 'play': 331, 'sunk': 332, 'patrons': 333, 'figure': 334, 'hiya': 335, 'sighs': 336, 'business': 337, 'slow': 338, 'today': 339, 'healthier': 340, 'drinking': 341, 'less': 342, \"wasn't\": 343, 'junior': 344, 'high': 345, 'use': 346, 'cigarette': 347, 'machine': 348, 'full': 349, 'things': 350, 'tough': 351, 'over': 352, 'increased': 353, 'satisfaction': 354, 'family': 355, 'togetherness': 356, 'poison': 357, 'purveyor': 358, 'mind-numbing': 359, 'intoxicants': 360, 'myself': 361, 'could': 362, 'get': 363, 'sure': 364, 'forgot': 365, 'behind': 366, 'payments': 367, 'distributor': 368, 'cut': 369, 'off': 370, 'spent': 371, 'ten': 372, 'grand': 373, 'tester': 374, 'late': 375, 'barney': 376, 'sucked': 377, 'dry': 378, 'gums': 379, 'bad': 380, 'take': 381, 'easy': 382, 'learned': 383, 'make': 384, 'other': 385, 'drinks': 386, \"bartender's\": 387, 'unfamiliar': 388, 'gin': 389, 'tonic': 390, 'they': 391, 'mix': 392, 'brightening': 393, 'really': 394, 'hits': 395, 'spot': 396, 'invented': 397, 'harv': 398, 'sounds': 399, 'hell': 400, 'call': 401, 'flaming': 402, 'us': 403, 'couple': 404, 'homers': 405, 'any': 406, 'cough': 407, 'syrup': 408, 'lost': 409, 'found': 410, 'bowie': 411, 'knife': 412, 'troll': 413, 'doll': 414, 'eye': 415, \"it's\": 416, 'without': 417, 'its': 418, 'charm': 419, 'try': 420, 'lighting': 421, 'fire': 422, 'smiling': 423, \"there's\": 424, 'party': 425, \"everyone's\": 426, 'invited': 427, 'larry:': 428, \"tester's\": 429, 'busted': 430, 'nickel': 431, 'coughs': 432, 'house': 433, 'delicious': 434, 'phlegm': 435, 'feels': 436, 'looser': 437, 'called': 438, \"lookin'\": 439, 'sneeze': 440, 'guard': 441, 'works': 442, 'harv:': 443, 'chuckling': 444, \"haven't\": 445, 'crowded': 446, 'since': 447, 'government': 448, 'cracked': 449, 'accepting': 450, 'food': 451, 'stamps': 452, 'something': 453, 'say': 454, 'probably': 455, 'combination': 456, 'patron_#1:': 457, 'pitcher': 458, 'those': 459, 'amazing': 460, 'patron_#2:': 461, 'hate': 462, 'joint': 463, 'collette:': 464, 'barkeep': 465, 'help': 466, 'noticing': 467, 'sign': 468, 'says': 469, 'bartenders': 470, 'barf': 471, 'above': 472, 'store-bought': 473, 'drollery': 474, 'fill': 475, 'application': 476, 'reading': 477, 'measurements': 478, 'turn': 479, 'ons': 480, 'expect': 481, 'find': 482, 'way': 483, 'more': 484, 'accurate': 485, 'fun': 486, 'disgusted': 487, 'offer': 488, 'salary': 489, 'minimum': 490, 'wage': 491, 'tips': 492, 'meaningfully': 493, 'course': 494, 'fringe': 495, 'benefits': 496, 'such': 497, 'as': 498, 'unforgettable': 499, 'weekend': 500, 'club': 501, 'prefer': 502, 'vacations': 503, 'someplace': 504, 'hot': 505, 'moxie': 506, 'kid': 507, 'hired': 508, \"shan't\": 509, 'regret': 510, 'methinks': 511, 'pardon': 512, 'genius': 513, 'yes': 514, 'cutting': 515, 'bannister': 516, 'tipsy': 517, \"mcstagger's\": 518, 'eating': 519, 'emporium': 520, 'mcstagger': 521, 'composite': 522, 'successful': 523, 'logos': 524, 'from': 525, 'mozzarella': 526, 'stick': 527, 'quickly': 528, 'fine': 529, 'anyway': 530, 'proposition': 531, \"talkin'\": 532, 'feel': 533, 'perfect': 534, 'our': 535, 'restaurant': 536, 'chain': 537, 'buy': 538, 'recipe': 539, 'dice': 540, 'sale': 541, 'blood': 542, 'sweat': 543, 'idiot': 544, 'away': 545, 'million': 546, 'dollar': 547, 'idea': 548, 'secret': 549, 'ingredient': 550, 'dies': 551, 'delivery_man:': 552, 'thirty': 553, 'cases': 554, 'covering': 555, 'hooked': 556, 'stuff': 557, 'service': 558, 'quietly': 559, 'hi': 560, \"where's\": 561, 'waitress': 562, 'yours': 563, 'left': 564, 'pursue': 565, 'movie': 566, 'career': 567, 'frankly': 568, 'better': 569, 'hundreds': 570, 'thousands': 571, 'dollars': 572, 'maybe': 573, 'some': 574, 'kept': 575, 'guess': 576, 'compliments': 577, 'warmly': 578, 'ahh': 579, 'thanks': 580, 'greatest': 581, 'friend': 582, 'guy': 583, 'aerosmith': 584, 'tonight': 585, 'doubt': 586, 'shocked': 587, 'cuz': 588, 'bottle': 589, 'refund': 590, 'wanna': 591, 'duff': 592, \"i'd\": 593, 'henry': 594, 'k': 595, \"duff's\": 596, 'private': 597, 'reserve': 598, 'information': 599, 'made': 600, 'twenty-five': 601, 'playing': 602, 'market': 603, 'low': 604, 'motto': 605, 'may': 606, 'quit': 607, 'power': 608, 'plant': 609, 'become': 610, 'full-time': 611, 'stock': 612, 'boys': 613, 'hans:': 614, 'german': 615, 'accent': 616, 'friendly': 617, 'thank': 618, 'english': 619, 'swill': 620, 'saying': 621, 'swine': 622, 'fritz:': 623, 'guys': 624, \"aren't\": 625, 'ech': 626, 'nein': 627, 'germany': 628, 'east': 629, 'west': 630, 'company': 631, 'very': 632, 'interested': 633, 'buying': 634, 'owner': 635, 'confident': 636, 'than': 637, '100': 638, 'hundred': 639, 'worry': 640, \"we'll\": 641, 'still': 642, 'enough': 643, 'cleveland': 644, 'browns': 645, 'speaking': 646, 'mrs': 647, \"o'problem\": 648, 'bee': 649, 'calling': 650, \"c'mon\": 651, 'realizing': 652, 'awwww': 653, 'head': 654, 'bucket': 655, 'paint': 656, 'brains': 657, 'voice': 658, 'bart': 659, 'simpson': 660, 'years': 661, 'pop': 662, 'hear': 663, 'monkeyshines': 664, 'conspiratorial': 665, 'bet': 666, 'kinds': 667, 'trouble': 668, \"can't\": 669, 'resist': 670, 'crank': 671, 'calls': 672, 'musses': 673, \"bart's\": 674, 'hair': 675, 'laughs': 676, 'sing': 677, 'old': 678, 'song': 679, 'embarrassed': 680, 'anything': 681, 'singing': 682, 'every': 683, 'teddy': 684, 'bear': 685, \"who's\": 686, 'been': 687, 'treat': 688, 'today/': 689, 'lots': 690, 'marvelous': 691, 'eat': 692, 'wonderful': 693, 'games': 694, 'play/': 695, 'beneath': 696, 'trees': 697, 'nobody': 698, 'sees/': 699, \"they'll\": 700, 'hide': 701, 'seek': 702, 'long': 703, 'please/': 704, \"today's\": 705, 'bears': 706, 'picnic': 707, 'pip': 708, 'c': 709, '_montgomery_burns:': 710, 'mirthless': 711, 'laugh': 712, 'damned': 713, 'nose': 714, 'smithers': 715, 'going': 716, 'blend': 717, 'cheap': 718, 'domestic': 719, 'greedy': 720, 'reptile': 721, 'saucy': 722, 'fellow': 723, 'waylon_smithers:': 724, 'sir': 725, 'sector': 726, 'sieben-gruben': 727, 'mean': 728, '7g': 729, 'recently': 730, 'terminated': 731, 'pointed': 732, 'ask': 733, 'money': 734, 'cheer': 735, 'feeling': 736, 'blue': 737, 'example': 738, 'hug': 739, 'home': 740, 'night': 741, 'shaken': 742, \"doesn't\": 743, 'sing-song': 744, 'loves': 745, 'yea': 746, 'heavens': 747, \"they're\": 748, 'afraid': 749, 'anymore': 750, 'burns': 751, 'letter': 752, 'sent': 753, 'recall': 754, 'because': 755, 'stamp': 756, 'slays': 757, 'accident': 758, \"let's\": 759, 'na': 760, '/': 761, 'barflies:': 762, 'goodbye': 763, 'inspire': 764, 'terror': 765, 'determined': 766, 'peanut': 767, 'bowl': 768, 'freshened': 769, 'hourly': 770, 'twenty': 771, 'denver': 772, 'slyly': 773, 'provide': 774, 'um': 775, 'chief': 776, 'wiggum': 777, 'hand': 778, 'black': 779, 'book': 780, 'chief_wiggum:': 781, 'thing': 782, 'using': 783, 'coaster': 784, 'ones': 785, 'pleasure': 786, 'coyly': 787, 'h': 788, 's': 789, 'tv': 790, 'justify': 791, 'football_announcer:': 792, 'thirteen': 793, 'england': 794, 'seven': 795, 'nothing': 796, 'look': 797, 'modest': 798, 'studio': 799, 'apartment': 800, 'malibu': 801, 'stacey': 802, 'kitchen': 803, 'prints': 804, 'her': 805, 'weekly': 806, 'feminist': 807, 'newsletter': 808, 'daaaaad': 809, 'listening': 810, 'grumbling': 811, 'usual': 812, 'wad': 813, 'bills': 814, 'sarcastic': 815, 'ya': 816, 'lucky': 817, 'thirty-five': 818, 'sagely': 819, 'smell': 820, 'sweaty': 821, 'feet': 822, 'sniffs': 823, 'deeply': 824, 'victory': 825, 'aw': 826, 'shut': 827, 'son-of-a': 828, 'bowling': 829, 'sunday': 830, 'nuts': 831, 'super': 832, 'after': 833, \"ma's\": 834, 'coming': 835, 'norway': 836, 'belches': 837, 'brunch': 838, 'spectacular': 839, 'baloney': 840, 'bread': 841, 'gotcha': 842, 'forty': 843, 'bucks': 844, 'luck': 845, 'eminence': 846, 'outta': 847, 'bookie': 848, 'taking': 849, 'bets': 850, \"'bout\": 851, \"bettin'\": 852, 'gimme': 853, 'gift': 854, 'football': 855, 'ruined': 856, 'bret:': 857, 'two': 858, 'hours': 859, 'forty-five': 860, 'pre-game': 861, 'show': 862, \"we've\": 863, 'ourselves': 864, 'special': 865, 'guest': 866, 'actor': 867, 'troy': 868, 'mcclure': 869, 'whose': 870, 'sitcom': 871, 'premiering': 872, 'coincidentally': 873, 'game': 874, 'troy_mcclure:': 875, 'bret': 876, \"show's\": 877, 'handle': 878, 'care': 879, 'jack': 880, 'retired': 881, 'cop': 882, 'shares': 883, 'criminal': 884, 'original': 885, 'odd': 886, 'situation': 887, 'comedy': 888, 'fell': 889, 'script': 890, 'recent': 891, 'irs': 892, 'sealed': 893, 'deal': 894, \"drexel's\": 895, 'class': 896, 'ooh': 897, 'almost': 898, 'ready': 899, 'kickoff': 900, 'dallas': 901, 'kicks': 902, 'short': 903, \"buffalo's\": 904, 'start': 905, 'excellent': 906, 'field': 907, 'position': 908, 'win': 909, 'lisa': 910, 'hates': 911, 'whatcha': 912, 'riding': 913, 'whistles': 914, 'gambler': 915, 'score': 916, 'buffalo': 917, 'fourteen:': 918, 'duff_announcer:': 919, 'touchdown': 920, 'half-back': 921, 'dan': 922, 'beer-dorf': 923, 'won': 924, 'wanted': 925, 'wins': 926, 'aggravated': 927, 'both': 928, 'teams': 929, 'cowboys': 930, 'three': 931, 'ticks': 932, 'clock': 933, 'comes': 934, 'scores': 935, \"fans'll\": 936, 'looting': 937, 'turning': 938, 'cars': 939, 'lone': 940, 'star': 941, 'state': 942, \"here's\": 943, 'handoff': 944, 'fork': 945, 'done': 946, 'twenty-nine': 947, 'eight': 948, 'keeping': 949, 'problem': 950, 'maggie': 951, 'scratching': 952, \"maggie's\": 953, 'chin': 954, 'uncle': 955, 'handing': 956, 'careful': 957, 'someone': 958, 'stinky': 959, 'sniffing': 960, 'shirt': 961, \"england's\": 962, 'prime': 963, 'minister': 964, 'lord': 965, 'palmerston': 966, 'wade_boggs:': 967, 'pit': 968, 'elder': 969, 'jumps': 970, 'stool': 971, 'poking': 972, 'asked': 973, 'boggs': 974, 'scornfully': 975, \"showin'\": 976, 'amazed': 977, 'pfft': 978, 'lottery': 979, 'exploiter': 980, 'poor': 981, 'ignorant': 982, 'heard': 983, \"jackpot's\": 984, 'spitting': 985, 'sadistic_barfly:': 986, 'boozehound': 987, 'cents': 988, \"singin'\": 989, 'gals': 990, 'young_barfly:': 991, 'rummy': 992, 'offended': 993, 'before': 994, 'dog': 995, 'sick': 996, 'best': 997, 'customer': 998, 'dance': 999, 'by': 1000, 'light': 1001, 'moonnnnnnnn': 1002, 'quarter': 1003, 'moan': 1004, 'went': 1005, 'bar': 1006, 'wha': 1007, 'fudd': 1008, 'took': 1009, 'hillbillies': 1010, 'blind': 1011, 'miles': 1012, 'town': 1013, 'sadly': 1014, \"smokin'_joe_frazier:\": 1015, 'pickled': 1016, 'eggs': 1017, \"comin'\": 1018, 'cleaned': 1019, \"smokin'\": 1020, 'joe': 1021, 'cummerbund': 1022, 'tight': 1023, 'miss': 1024, 'couch': 1025, 'heavyweight': 1026, 'championship': 1027, 'kind': 1028, 'walking': 1029, 'along': 1030, 'piece': 1031, 'furniture': 1032, 'frazier': 1033, 'step': 1034, 'outside': 1035, 'finishing': 1036, 'walk': 1037, 'washer': 1038, 'dryer': 1039, 'religious': 1040, 'holiday': 1041, 'feast': 1042, 'maximum': 1043, 'occupancy': 1044, 'slick': 1045, 'join': 1046, 'religion': 1047, 'kneeling': 1048, 'born': 1049, 'snake-handler': 1050, 'die': 1051, 'felt': 1052, 'unattractive': 1053, 'mmmm': 1054, 'second': 1055, 'sigh': 1056, 'tv_father:': 1057, 'each': 1058, 'toss': 1059, 'whee': 1060, 'wheeeee': 1061, 'camera': 1062, 'father': 1063, 'thinks': 1064, 'cutest': 1065, 'jack_larson:': 1066, 'prove': 1067, 'president': 1068, 'laramie': 1069, 'cigarettes': 1070, 'larson': 1071, 'year': 1072, 'sponsoring': 1073, 'springfield': 1074, 'pageant': 1075, 'regulations': 1076, 'prohibit': 1077, 'advertising': 1078, 'takes': 1079, 'smokes': 1080, 'carolina': 1081, 'smoke': 1082, 'holding': 1083, 'beauty': 1084, 'girls': 1085, 'age': 1086, 'nine': 1087, \"lisa's\": 1088, 'crowned': 1089, 'host': 1090, 'maitre': 1091, \"d'\": 1092, 'glee': 1093, 'krusty': 1094, 'clown': 1095, 'krusty_the_clown:': 1096, 'heartily': 1097, 'endorse': 1098, 'event': 1099, 'or': 1100, 'product': 1101, 'tv_daughter:': 1102, 'smoker': 1103, 'puff': 1104, 'morning': 1105, 'announcer:': 1106, '250': 1107, 'enter': 1108, 'blimp': 1109, 'ticket': 1110, 'gasps': 1111, \"where'd\": 1112, 'scientists': 1113, 'stopped': 1114, 'testing': 1115, 'animals': 1116, 'clean': 1117, '_powers:': 1118, 'lying': 1119, \"bo's\": 1120, 'cavern': 1121, 'welcome': 1122, 'mobile': 1123, 'knew': 1124, 'ruin': 1125, 'sec': 1126, 'amanda': 1127, 'huggenkiss': 1128, 'standards': 1129, 'o': 1130, 'b': 1131, 'shove': 1132, 'sausage': 1133, 'throat': 1134, 'starving': 1135, 'dogs': 1136, 'ah-ha': 1137, 'mistake': 1138, 'slip': 1139, 'sooner': 1140, 'later': 1141, 'rusty': 1142, 'dull': 1143, 'steal': 1144, 'while': 1145, 'gone': 1146, 'shaking': 1147, 'pathetic': 1148, 'drunk': 1149, 'gasp': 1150, 'spilled': 1151, 'ashtray': 1152, 'slurps': 1153, 'then': 1154, 'uh-oh': 1155, 'heart': 1156, 'beat': 1157, 'ivana': 1158, 'tinkle': 1159, 'put': 1160, 'glasses': 1161, 'captain:': 1162, 'har': 1163, 'plow': 1164, 'freed': 1165, 'iranian': 1166, 'hostages': 1167, 'teenage_barney:': 1168, \"sat's\": 1169, \"shouldn't\": 1170, 'real': 1171, 'hero': 1172, 'wish': 1173, 'wishing': 1174, 'pull': 1175, 'diaper': 1176, 'damn': 1177, 'world': 1178, \"he'll\": 1179, 'linda': 1180, 'ronstadt': 1181, \"how'd\": 1182, 'project': 1183, 'together': 1184, 'linda_ronstadt:': 1185, 'snow': 1186, 'starts': 1187, \"fallin'\": 1188, \"callin'\": 1189, 'kl5-4796': 1190, 'ring': 1191, '||semicolon||': 1192, '/mr': 1193, 'loser': 1194, 'boozer': 1195, 'king': 1196, 'intelligent': 1197, 'lachrymose': 1198, 'dyspeptic': 1199, 'ebullient': 1200, 'checks': 1201, 'answer': 1202, 'harvard': 1203, 'silent': 1204, 'prayer': 1205, 'six': 1206, 'admirer': 1207, 'gives': 1208, 'wave': 1209, 'yoo': 1210, 'god': 1211, 'snide': 1212, 'enjoy': 1213, 'fellas': 1214, 'cheery': 1215, \"homer's\": 1216, 'desperate': 1217, 'moesy': 1218, 'yesterday': 1219, 'worthless': 1220, 'sack': 1221, 'pipe': 1222, 'rub-a-dub': 1223, 'ow': 1224, 'fridge': 1225, 'date': 1226, 'pointing': 1227, 'close': 1228, 'never': 1229, 'leave': 1230, 'anthony_kiedis:': 1231, 'told': 1232, 'agent': 1233, 'holds': 1234, 'thirty-thousand': 1235, 'thousand': 1236, 'audience': 1237, \"gettin'\": 1238, 'restless': 1239, 'chilly': 1240, 'willy': 1241, 'red': 1242, 'chili': 1243, 'peppers': 1244, 'appear': 1245, 'klown': 1246, 'flea:': 1247, 'aside': 1248, 'gig': 1249, 'problemo': 1250, 'points': 1251, \"nothin'\": 1252, 'stop': 1253, 'soon': 1254, 'cost': 1255, 'excited': 1256, \"wallet's\": 1257, 'wall': 1258, 'stares': 1259, 'miss_lois_pennycandy:': 1260, 'ruby-studded': 1261, 'ordered': 1262, 'johnny_carson:': 1263, 'hope': 1264, 'remembered': 1265, 'save': 1266, 'dressed': 1267, 'dr': 1268, '_julius_hibbert:': 1269, 'times': 1270, 'snap': 1271, 'undies': 1272, 'again': 1273, 'kids': 1274, 'alright': 1275, 'getting': 1276, '50%': 1277, 't-shirt': 1278, 'sales': 1279, 'mad': 1280, 'sweetest': 1281, 'plum': 1282, 'deserve': 1283, 'entertainer': 1284, 'except': 1285, 'grampa_simpson:': 1286, 'bus': 1287, 'civic': 1288, 'center': 1289, 'seymour_skinner:': 1290, 'apu_nahasapeemapetilon:': 1291, 'all:': 1292, 'ma': 1293, 'baby': 1294, 'honey': 1295, 'ragtime': 1296, 'gal': 1297, 'send': 1298, 'wire': 1299, 'etc': 1300, 'afternoon': 1301, 'principal': 1302, 'skinner': 1303, 'apu': 1304, 'crowds': 1305, 'wild': 1306, 'sings': 1307, 'farewell': 1308, 'shop': 1309, 'kwik-e-mart': 1310, 'coney': 1311, 'isle': 1312, 'island': 1313, 'babe': 1314, 'nigel_bakerbutcher:': 1315, 'theatrical': 1316, 'represent': 1317, 'group': 1318, 'distaste': 1319, 'police': 1320, 'officer': 1321, 'noise': 1322, 'village': 1323, 'replace': 1324, 'sly': 1325, 'hands': 1326, 'seymour': 1327, 'nahasapeemapetilon': 1328, 'fit': 1329, 'marquee': 1330, 'luv': 1331, 'du': 1332, 'beaumarchais': 1333, 'dishonor': 1334, 'ancestors': 1335, 'applicant': 1336, 'tenor:': 1337, 'killarney': 1338, 'many': 1339, 'ago': 1340, 'mither': 1341, 'sang': 1342, 'tones': 1343, 'soft': 1344, 'crowd:': 1345, 'chanting': 1346, 'forever': 1347, 'swe-ee-ee-ee-eet': 1348, 'adeleine': 1349, 'my-y-y-y-y-y': 1350, 'paid': 1351, 'scream': 1352, 'pay': 1353, 'hanh': 1354, 'ad': 1355, 'lib': 1356, 'sounded': 1357, 'question': 1358, 'remains': 1359, 'gentlemen': 1360, 'handsome': 1361, 'plus': 1362, 'witty': 1363, 'seems': 1364, 'funny': 1365, 'sharps': 1366, 'chuckle': 1367, 'blame': 1368, 'trying': 1369, 'under': 1370, 'arrest': 1371, \"what'll\": 1372, 'kako:': 1373, 'single': 1374, 'floating': 1375, 'perfume': 1376, 'served': 1377, \"man's\": 1378, 'hat': 1379, 'knock': 1380, 'cops': 1381, \"'em\": 1382, 'andalay': 1383, 'sometimes': 1384, 'gotta': 1385, 'knows': 1386, 'darts': 1387, 'phasing': 1388, \"havin'\": 1389, 'advice': 1390, 'named': 1391, 'pause': 1392, 'joey': 1393, 'schabadoo': 1394, 'worst': 1395, 'attracted': 1396, 'woman': 1397, 'reciting': 1398, 'infatuation': 1399, 'based': 1400, 'physical': 1401, 'attraction': 1402, 'talk': 1403, 'realize': 1404, 'common': 1405, 'insightful': 1406, 'napkins': 1407, 'vigilante': 1408, 'handshake': 1409, 'code': 1410, 'names': 1411, 'cueball': 1412, 'eightball': 1413, 'twelveball': 1414, '_babcock:': 1415, 'clinton': 1416, 'figured': 1417, 'anyone': 1418, 'tang': 1419, \"it'd\": 1420, 'person': 1421, 'nasa': 1422, 'swear': 1423, 'stillwater:': 1424, 'higher': 1425, 'astronaut': 1426, 'aboard': 1427, 'respect': 1428, 'friends': 1429, 'nooo': 1430, 'fbi': 1431, 'file': 1432, 'fiiiiile': 1433, 'shrugging': 1434, 'them': 1435, 'necessary': 1436, 'astronauts': 1437, 'introduce': 1438, 'ned': 1439, 'flanders': 1440, 'evils': 1441, 'rap': 1442, 'ned_flanders:': 1443, 'hospital': 1444, 'reads': 1445, 'children': 1446, 'unfair': 1447, 'advantage': 1448, 'generous': 1449, 'marge_simpson:': 1450, 'hit': 1451, 'pin': 1452, 'rest': 1453, 'wobble': 1454, 'lemme': 1455, 'al': 1456, 'caholic': 1457, 'jacques': 1458, 'strap': 1459, 'pee': 1460, 'freely': 1461, 'butts': 1462, 'sexual': 1463, 'crotch': 1464, 'huge': 1465, 'ass': 1466, 'ivanna': 1467, 'fondest': 1468, 'desire': 1469, 'hm': 1470, 'invisible': 1471, 'cola': 1472, 'forbidden': 1473, 'donut': 1474, 'sacrilicious': 1475, 'indecipherable': 1476, 'goo': 1477, 'moments': 1478, 'romantic': 1479, 'story': 1480, 'ideal': 1481, 'thoughtless': 1482, 'birthday': 1483, 'present': 1484, 'shall': 1485, 'remain': 1486, 'nameless': 1487, 'alley': 1488, 'spite': 1489, 'clips': 1490, 'awfully': 1491, 'jacques:': 1492, 'entirely': 1493, 'fault': 1494, 'ball': 1495, 'flustered': 1496, \"ball's\": 1497, 'marge': 1498, 'fingers': 1499, 'slender': 1500, 'feminine': 1501, 'far': 1502, 'tapered': 1503, 'lighter': 1504, 'delicate': 1505, 'brunswick': 1506, 'hmmm': 1507, 'bold': 1508, 'bowled': 1509, 'teach': 1510, 'professional': 1511, 'roll': 1512, 'form': 1513, 'throw': 1514, 'teacher': 1515, 'lenny_leonard:': 1516, 'shifty': 1517, 'eyed': 1518, 'change': 1519, 'lenny': 1520, 'snake': 1521, 'cash': 1522, 'register': 1523, 'prank': 1524, 'flower': 1525, 'genuinely': 1526, 'enthused': 1527, 'patting': 1528, 'flames': 1529, \"burnin'\": 1530, 'soaked': 1531, 'clothes': 1532, 'serious': 1533, 'coffee': 1534, 'pass': 1535, 'sugar': 1536, 'himself': 1537, 'geez': 1538, 'were': 1539, \"messin'\": 1540, 'banned': 1541, 'pleading': 1542, 'gave': 1543, 'sugar-me-do': 1544, 'caricature': 1545, 'mt': 1546, 'lushmore': 1547, 'pulling': 1548, 'favorite': 1549, 'juke': 1550, 'box': 1551, 'raining': 1552, 'men': 1553, 'oww': 1554, 'label': 1555, 'suddenly': 1556, 'intrigued': 1557, 'ohh': 1558, 'jokes': 1559, 'alive': 1560, 'man:': 1561, 'polite': 1562, 'greetings': 1563, 'might': 1564, 'innocent': 1565, 'incognito': 1566, 'gr-aargh': 1567, 'exact': 1568, 'double': 1569, 'equal': 1570, 'astonishment': 1571, 'puffy': 1572, 'tail': 1573, 'giggles': 1574, 'liver': 1575, 'puzzled': 1576, 'hurts': 1577, 'loan': 1578, 'however': 1579, 'leans': 1580, 'confidentially': 1581, 'collateral': 1582, 'break': 1583, 'legs': 1584, 'advance': 1585, 'gosh': 1586, 'bash': 1587, 'shark': 1588, 'understand': 1589, 'finance': 1590, 'pulls': 1591, 'sledge-hammer': 1592, 'line': 1593, 'othello': 1594, 'drinker': 1595, 'sensible': 1596, 'fool': 1597, 'presently': 1598, 'beast': 1599, 'covers': 1600, 'woman:': 1601, 'brilliant': 1602, 'savagely': 1603, 'tender': 1604, 'soul': 1605, 'poet': 1606, 'crawl': 1607, 'alcoholic': 1608, 'scout': 1609, 'meeting': 1610, 'admit': 1611, 'kent_brockman:': 1612, 'following': 1613, 'celebrities': 1614, 'arrested:': 1615, 'heather': 1616, 'locklear': 1617, 'fortensky': 1618, 'large': 1619, 'consider': 1620, 'dangerous': 1621, 'hugh:': 1622, 'rather': 1623, 'pub': 1624, 'pouring': 1625, 'saved': 1626, 'war': 1627, 'true': 1628, 'hugh': 1629, 'cuff': 1630, 'links': 1631, 'wear': 1632, 'married': 1633, 'brought': 1634, 'imagine': 1635, 'happier': 1636, 'marriage': 1637, 'traditions': 1638, 'moved': 1639, 'honored': 1640, 'enthusiasm': 1641, 'virtual': 1642, 'pool': 1643, 'other_player:': 1644, \"fightin'\": 1645, 'loaded': 1646, 'fumes': 1647, 'charge': 1648, 'dizzy': 1649, 'nauseous': 1650, 'inflated': 1651, 'sense': 1652, 'self-esteem': 1653, 'male_inspector:': 1654, 'female_inspector:': 1655, 'detecting': 1656, 'different': 1657, 'toxins': 1658, 'air': 1659, 'pumping': 1660, 'oil': 1661, 'steely-eyed': 1662, 'rage': 1663, 'ahhhh': 1664, 'rascals': 1665, 'which': 1666, 'smelly': 1667, 'shtick': 1668, 'exhaust': 1669, 'faceful': 1670, 'soot': 1671, 'heh': 1672, 'kinda': 1673, 'hard': 1674, 'reasons': 1675, 'writers': 1676, 'william': 1677, 'faulkner': 1678, 'write': 1679, 'gag': 1680, 'shot': 1681, 'making': 1682, 'movies': 1683, 'aggie': 1684, 'stole': 1685, 'bit': 1686, 'director:': 1687, 'stagehand:': 1688, 'killed': 1689, 'alfalfa': 1690, 'luckily': 1691, 'orphan': 1692, 'owned': 1693, 'murmur': 1694, 'understanding': 1695, 'assent': 1696, 'wealthy': 1697, 'hollywood': 1698, 'local': 1699, 'merchants': 1700, 'forgiven': 1701, 'raising': 1702, 'prices': 1703, 'flailing': 1704, 'agh': 1705, 'natural': 1706, 'stools': 1707, 'table': 1708, 'little_hibbert_girl:': 1709, 'daddy': 1710, 'mmm-hmm': 1711, 'texas': 1712, 'cheesecake': 1713, 'depository': 1714, \"goin'\": 1715, 'restaurants': 1716, 'wants': 1717, 'hang': 1718, 'dank': 1719, 'carl_carlson:': 1720, 'thinking': 1721, 'rid': 1722, \"wouldn't\": 1723, 'ashamed': 1724, 'bring': 1725, 'all-american': 1726, 'cooking': 1727, 'chairman': 1728, 'magic': 1729, 'wok': 1730, 'barney-shaped_form:': 1731, 'nah': 1732, 'relaxing': 1733, 'madman': 1734, 'pressure': 1735, 'cooker': 1736, 'snaps': 1737, 'inspired': 1738, 'feedbag': 1739, 'deep': 1740, \"fryer's\": 1741, 'navy': 1742, 'flash-fry': 1743, 'whining': 1744, \"g'on\": 1745, 'extinguishers': 1746, 'memories': 1747, 'bright': 1748, 'side': 1749, 'cheering': 1750, 'broke': 1751, 'customers': 1752, 'blew': 1753, \"aren'tcha\": 1754, '50-60': 1755, 'mistakes': 1756, 'beginning': 1757, 'pad': 1758, 'gee': 1759, 'stinks': 1760, 'carl': 1761, 'ahhh': 1762, \"they've\": 1763, 'rolling': 1764, 'eyes': 1765, 'mistresses': 1766, 'sotto': 1767, 'dump': 1768, 'mayor_joe_quimby:': 1769, 'quimby_#2:': 1770, 'quimbys:': 1771, 'disappointed': 1772, 'wondering': 1773, 'ringing': 1774, 'bell': 1775, 'ye': 1776, 'jebediah': 1777, 'cutie': 1778, 'cute': 1779, 'bums': 1780, 'ahead': 1781, 'angel': 1782, 'evil': 1783, 'blood-thirsty': 1784, 'pirate': 1785, 'hated': 1786, '&': 1787, 'horrified': 1788, 'turns': 1789, \"y'know\": 1790, 'support': 1791, 'most': 1792, 'prejudice': 1793, 'hero-phobia': 1794, 'sickens': 1795, 'exit': 1796, 'breath': 1797, 'jubilation': 1798, 'committee': 1799, 'jubilant': 1800, 'waylon': 1801, 'vicious': 1802, 'pants': 1803, 'crap': 1804, 'tongue': 1805, 'boat': 1806, 'window': 1807, 'midnight': 1808, 'delivery': 1809, 'distract': 1810, 'until': 1811, 'safely': 1812, 'truck': 1813, 'forward': 1814, 'working': 1815, 'yourself': 1816, 'choices:': 1817, 'barney-guarding': 1818, 'contemplated': 1819, 'darkest': 1820, 'whatever': 1821, 'truck_driver:': 1822, 'dracula': 1823, 'marry': 1824, 'selma': 1825, 'jovial': 1826, 'kidding': 1827, 'compliment': 1828, 'beers': 1829, 'sickly': 1830, 'burp': 1831, 'ura': 1832, 'snotball': 1833, 'barn': 1834, 'said': 1835, 'calculate': 1836, 'tab': 1837, 'dead': 1838, 'results': 1839, 'came': 1840, 'owe': 1841, '70': 1842, 'billion': 1843, 'voyager': 1844, 'space': 1845, 'craft': 1846, \"tab's\": 1847, '14': 1848, 'alls': 1849, 'considering': 1850, 'halfway': 1851, 'snake_jailbird:': 1852, 'freeze': 1853, 'dude': 1854, 'move': 1855, 'muscle': 1856, 'blow': 1857, \"wino's\": 1858, 'muffled': 1859, 'inches': 1860, 'bullet-proof': 1861, 'reasonable': 1862, 'stay': 1863, 'student': 1864, 'ha-ha': 1865, \"stinkin'\": 1866, 'wonder': 1867, 'aggravazes': 1868, 'immiggants': 1869, \"livin'\": 1870, 'bothered': 1871, 'learn': 1872, 'themselves': 1873, 'language': 1874, 'exactly': 1875, 'sentimonies': 1876, \"jimbo's_dad:\": 1877, \"tellin'\": 1878, 'raise': 1879, \"dolph's_dad:\": 1880, 'live': 1881, 'throws': 1882, 'punch': 1883, 'oof': 1884, 'belt': 1885, 'ugh': 1886, \"kearney's_dad:\": 1887, \"somethin's\": 1888, 'wrong': 1889, \"fun's\": 1890, 'two-drink': 1891, 'jeez': 1892, 'stand': 1893, 'punishment': 1894, 'three-man': 1895, \"poundin'\": 1896, 'fall': 1897, 'glum': 1898, \"kid's\": 1899, 'beatings': 1900, 'spirit': 1901, 'prizefighters': 1902, 'boxing': 1903, 'perking': 1904, 'boxers': 1905, 'steak': 1906, 'lobster': 1907, 'salad': 1908, 'meal': 1909, 'awe': 1910, 'dressing': 1911, 'choice': 1912, 'test': 1913, 'limits': 1914, 'opportunity': 1915, 'arise': 1916, 'clincher': 1917, 'sixty': 1918, 'percent': 1919, 'woo': 1920, 'manage': 1921, 'wantcha': 1922, 'complete': 1923, 'faith': 1924, \"c'mere\": 1925, \"somethin'\": 1926, 'realized': 1927, \"hadn't\": 1928, 'ladies': 1929, '1979': 1930, 'turned': 1931, 'office': 1932, 'boxer': 1933, 'yep': 1934, 'gorgeous': 1935, 'presentable': 1936, 'gruesome': 1937, 'finally': 1938, \"meanin'\": 1939, 'empty': 1940, 'lucius': 1941, 'biggest': 1942, 'rich': 1943, 'famous': 1944, 'don': 1945, 'manager': 1946, 'somehow': 1947, \"'cause\": 1948, 'knocked': 1949, 'row': 1950, 'politics': 1951, 'bitter': 1952, 'agreement': 1953, 'democrats': 1954, \"you'd\": 1955, 'causes': 1956, 'brain': 1957, 'damage': 1958, 'fighting': 1959, 'boxcar': 1960, 'bob': 1961, 'brawled': 1962, 'boxcars': 1963, 'yet': 1964, 'lives': 1965, 'train': 1966, 'yard': 1967, 'hungry': 1968, 'young': 1969, 'fighter': 1970, 'fact': 1971, 'sandwich': 1972, 'mitts': 1973, 'touched': 1974, 'barbed': 1975, 'stinger': 1976, 'drawn': 1977, 'match': 1978, 'punches': 1979, \"tramp's\": 1980, 'energy': 1981, 'hobo': 1982, 'stops': 1983, 'punching': 1984, \"'cept\": 1985, 'bindle': 1986, 'tired': 1987, \"now's\": 1988, 'chance': 1989, 'nudge': 1990, 'lucius:': 1991, 'delightful': 1992, 'awed': 1993, 'glitterati': 1994, \"doin'\": 1995, 'managing': 1996, 'champ': 1997, 'drederick': 1998, 'highest': 1999, 'priority': 2000, 'though': 2001, 'temporarily': 2002, 'incarcerated': 2003, 'pushing': 2004, 'mother': 2005, 'stairs': 2006, 'impending': 2007, 'release': 2008, 'strategizing': 2009, 'glorious': 2010, 'return': 2011, 'shores': 2012, 'fistiana': 2013, 'comeback': 2014, 'fight': 2015, \"donatin'\": 2016, 'body': 2017, 'word': 2018, 'stalwart': 2019, 'pugilist': 2020, 'cannot': 2021, 'incredulous': 2022, 'tatum': 2023, 'fans': 2024, 'weary': 2025, 'fights': 2026, 'sustain': 2027, 'verticality': 2028, 'rounds': 2029, 'freak': 2030, \"tatum'll\": 2031, 'fustigate': 2032, 'fustigation': 2033, 'choice:': 2034, 'either': 2035, 'sit': 2036, 'room': 2037, 'faded': 2038, 'dramatic': 2039, 'tar-paper': 2040, 'naively': 2041, 'champion': 2042, 'saturday': 2043, 'parking': 2044, 'impressed': 2045, 'general': 2046, 'evasive': 2047, 'trust': 2048, \"buyin'\": 2049, 'bill': 2050, 'charged': 2051, 'landfill': 2052, 'remembering': 2053, 'fondly': 2054, 'worth': 2055, 'burg': 2056, 'against': 2057, 'pussycat': 2058, 'doll-baby': 2059, 'kirk_van_houten:': 2060, 'lady': 2061, 'starla': 2062, 'starla:': 2063, 'keys': 2064, 'lover': 2065, 'changing': 2066, 'wigs': 2067, \"starla's\": 2068, 'temp': 2069, 'k-zug': 2070, \"'kay-zugg'\": 2071, 'radio': 2072, '530': 2073, \"she's\": 2074, 'launch': 2075, 'demo': 2076, 'tape': 2077, 'borrow': 2078, 'front': 2079, 'already': 2080, 'happened': 2081, 'granted': 2082, 'twelve': 2083, 'helped': 2084, 'housework': 2085, \"could've\": 2086, 'least': 2087, 'stayed': 2088, 'shape': 2089, 'taken': 2090, 'sex': 2091, 'self-centered': 2092, 'though:': 2093, 'thawing': 2094, 'gas': 2095, 'station': 2096, 'sink': 2097, 'broken:': 2098, 'strong': 2099, 'built': 2100, 'solid': 2101, 'foundation': 2102, 'routine': 2103, 'mate': 2104, 'chum': 2105, 'helpful': 2106, 'crony': 2107, 'acquaintance': 2108, 'sam:': 2109, 'sympathizer': 2110, 'bumblebee_man:': 2111, 'compadre': 2112, 'kearney_zzyzwicz:': 2113, 'associate': 2114, 'contemporary': 2115, 'well-wisher': 2116, 'specific': 2117, 'harm': 2118, 'friday': 2119, 'düff': 2120, 'doof': 2121, 'sweden': 2122, 'skoal': 2123, 'sips': 2124, 'nasty': 2125, 'ha': 2126, 'hmm': 2127, 'refreshing': 2128, 'quite': 2129, 'finger': 2130, 'm': 2131, 'spend': 2132, 'quality': 2133, 'breathalyzer': 2134, 'drive': 2135, 'fox_mulder:': 2136, 'recreate': 2137, 'saw': 2138, 'alien': 2139, 'evening': 2140, 'began': 2141, \"gentleman's\": 2142, 'discussing': 2143, 'wittgenstein': 2144, 'backgammon': 2145, 'dana_scully:': 2146, 'felony': 2147, 'lie': 2148, 'sitting': 2149, \"barney's\": 2150, 'packets': 2151, 'mustard': 2152, 'scully': 2153, \"fine-lookin'\": 2154, 'remorseful': 2155, 'penny': 2156, 'anyhow': 2157, 'agents': 2158, 'mulder': 2159, 'edgy': 2160, \"s'cuse\": 2161, 'dimly': 2162, 'generously': 2163, \"money's\": 2164, 'raking': 2165, 'fat_tony:': 2166, 'clears': 2167, 'fat': 2168, 'tony': 2169, 'mafia': 2170, 'nervously': 2171, 'asking': 2172, 'favor': 2173, 'crime': 2174, 'syndicate': 2175, 'hurt': 2176, 'mob': 2177, 'indignant': 2178, 'hanging': 2179, 'ambrose': 2180, 'burnside': 2181, 'crazy': 2182, 'stonewall': 2183, 'jackson': 2184, 'south': 2185, 'entire': 2186, 'steel': 2187, 'mill': 2188, 'gay': 2189, 'surprised': 2190, \"industry's\": 2191, 'aerospace': 2192, 'railroads': 2193, 'else': 2194, 'nods': 2195, 'knowingly': 2196, 'broadway': 2197, 'always': 2198, 'hoped': 2199, \"bart'd\": 2200, 'grow': 2201, 'mystery': 2202, 'whole': 2203, 'modern': 2204, \"swishifyin'\": 2205, 'effect': 2206, \"mtv's\": 2207, 'diet': 2208, 'sodas': 2209, 'set': 2210, 'straight': 2211, 'neither': 2212, 'fast': 2213, 'lessee': 2214, \"shootin'\": 2215, \"man'd\": 2216, 'fix': 2217, 'wars': 2218, 'warren': 2219, 'christopher': 2220, 'shoot': 2221, 'deer': 2222, 'shooting': 2223, 'beautiful': 2224, 'bags': 2225, 'grandkids': 2226, 'considers': 2227, 'hunting': 2228, 'whiny': 2229, 'st': 2230, \"patrick's\": 2231, \"o'clock\": 2232, \"we'd\": 2233, 'kicked': 2234, 'metal': 2235, 'busiest': 2236, \"drinkin'\": 2237, 'designated': 2238, 'drivers': 2239, 'cheapskates': 2240, 'ireland': 2241, 'menacing': 2242, 'yew': 2243, 'bathtub': 2244, 'mint': 2245, 'julep': 2246, 'writing': 2247, 'believe': 2248, 'enemy': 2249, 'beloved': 2250, 'weird': 2251, 'accept': 2252, 'written': 2253, 'enemies': 2254, 'list': 2255, 'jane': 2256, 'fonda': 2257, 'daniel': 2258, 'schorr': 2259, 'anderson': 2260, 'richard': 2261, \"nixon's\": 2262, 'crossed': 2263, 'morose': 2264, 'invite': 2265, 'dinner': 2266, 'expecting': 2267, 'bam': 2268, 'chauffeur': 2269, 'lift': 2270, 'drug': 2271, 'yelling': 2272, \"washin'\": 2273, 'desperately': 2274, 'lonely': 2275, 'belly-aching': 2276, 'wh': 2277, 'abe': 2278, 'dea-d-d-dead': 2279, 'stooges': 2280, 'scared': 2281, 'sound': 2282, 'upbeat': 2283, 'love-matic': 2284, 'grampa': 2285, 'singers:': 2286, 'peppy': 2287, 'shopping': 2288, 'cans': 2289, 'passed': 2290, 'floated': 2291, 'toward': 2292, 'heaven': 2293, 'wise': 2294, 'socratic': 2295, 'swelling': 2296, 'mushy': 2297, 'hearts': 2298, 'pinball': 2299, 'quiet': 2300, 'western': 2301, 'dishrag': 2302, 'crab': 2303, 'talkers': 2304, 'defensive': 2305, 'sweeter': 2306, 'jewish': 2307, 'wine': 2308, 'walks': 2309, 'catch-phrase': 2310, 'grrrreetings': 2311, 'son': 2312, 'darn': 2313, \"tootin'\": 2314, 'fink': 2315, 'buried': 2316, 'naked': 2317, 'sold': 2318, 'suit': 2319, 'ping-pong': 2320, 'dismissive': 2321, 'snort': 2322, 'karaoke': 2323, 'plug': 2324, 'betty:': 2325, \"usin'\": 2326, \"phone's\": 2327, 'four-drink': 2328, 'mechanical': 2329, 'test-': 2330, 'test-lady': 2331, \"g'ahead\": 2332, 'clammy': 2333, 'suppose': 2334, 'lovelorn': 2335, 'you-need-man': 2336, 'moe-near-now': 2337, 'go-near-': 2338, 'confused': 2339, 'explaining': 2340, 'near': 2341, 'endorsement': 2342, 'sometime': 2343, 'fancy': 2344, 'french': 2345, 'sexy': 2346, 'having': 2347, 'breakfast': 2348, 'expert': 2349, 'dang': 2350, 'kissing': 2351, 'during': 2352, 'spread': 2353, 'germs': 2354, 'rush': 2355, 'clear': 2356, 'started': 2357, \"'evening\": 2358, \"'morning\": 2359, 'chauffeur:': 2360, '91': 2361, 'per': 2362, 'cent': 2363, 'traffic': 2364, 'accidents': 2365, 'caused': 2366, 'news': 2367, 'choose': 2368, 'same': 2369, 'pope': 2370, 'reach': 2371, 'draw': 2372, 'egg': 2373, 'whoever': 2374, 'gets': 2375, 'stays': 2376, 'sober': 2377, 'noooooooooo': 2378, 'peter': 2379, 'pantsless': 2380, 'pained': 2381, 'longer': 2382, 'duffman:': 2383, 'duffed': 2384, 'duffman': 2385, 'costume': 2386, 'creates': 2387, 'awareness': 2388, 'labels': 2389, 'bottomless': 2390, 'mug': 2391, 'extra': 2392, 'cold': 2393, 'card': 2394, 'cheerleaders:': 2395, 'cheers': 2396, 'and:': 2397, 'chug': 2398, 'straining': 2399, 'driver': 2400, 'perfunctory': 2401, 'brusque': 2402, 'ehhh': 2403, 'swell': 2404, 'wholeheartedly': 2405, 'supports': 2406, 'program': 2407, 'shaky': 2408, 'months': 2409, 'giving': 2410, 'lecture': 2411, 'villanova': 2412, 'streetcorner': 2413, 'anger': 2414, 'ought': 2415, 'parasol': 2416, 'conditioner': 2417, 'congratulations': 2418, 'chick': 2419, 'jar': 2420, 'cockroach': 2421, 'displeased': 2422, 'sweetheart': 2423, 'health': 2424, 'inspector': 2425, 'man_at_bar:': 2426, 'margarita': 2427, \"scammin'\": 2428, 'planning': 2429, 'vacation': 2430, 'easter': 2431, 'giant': 2432, 'heads': 2433, 'terrible': 2434, 'rumor': 2435, 'threw': 2436, 'recommend': 2437, 'severe': 2438, 'depression': 2439, 'booze': 2440, 'depressant': 2441, 'chase': 2442, 'blues': 2443, 'manjula': 2444, 'sight-unseen': 2445, \"countin'\": 2446, 'twenty-four': 2447, 'freedom': 2448, 'checking': 2449, 'chipper': 2450, 'showing': 2451, 'sad': 2452, 'dirge-like': 2453, 'blooded': 2454, 'fever': 2455, 'spending': 2456, 'bachelorhood': 2457, 'jasper_beardly:': 2458, 'reaching': 2459, 'switch': 2460, 'bubbles': 2461, 'hot-rod': 2462, 'souped': 2463, 'ways': 2464, 'gear-head': 2465, 'casual': 2466, 'six-barrel': 2467, 'hollye': 2468, 'carb': 2469, 'betcha': 2470, 'edelbrock': 2471, 'intakes': 2472, 'meyerhof': 2473, 'lifters': 2474, 'dignity': 2475, 'rough': 2476, 'christmas': 2477, 'breakdown': 2478, 'society': 2479, 'pissed': 2480, 'dateline:': 2481, 'kent': 2482, 'brockman': 2483, 'scene': 2484, 'burglary': 2485, 'creature': 2486, 'stirring': 2487, 'husband': 2488, \"ma'am\": 2489, 'church': 2490, 'intoxicated': 2491, 'smile': 2492, 'marjorie': 2493, 'threatening': 2494, 'absolutely': 2495, 'devastated': 2496, 'words': 2497, 'heart-broken': 2498, 'sweater': 2499, 'cajun': 2500, 'sneering': 2501, 'turkey': 2502, 'choke': 2503, 'scam': 2504, 'jesus': 2505, 'must': 2506, 'spinning': 2507, 'grave': 2508, 'illegal': 2509, 'enthusiastically': 2510, 'pats': 2511, 'stomach': 2512, 'cover': 2513, 'folks': 2514, 'bushes': 2515, 'tapping': 2516, 'mic': 2517, 'further': 2518, 'zinged': 2519, 'angry': 2520, 'spews': 2521, 'truth': 2522, 'orifice': 2523, 'indifference': 2524, \"watchin'\": 2525, 'clapping': 2526, \"seein'\": 2527, \"hawkin'\": 2528, 'products': 2529, 'vincent': 2530, 'price': 2531, \"floatin'\": 2532, 'toilet': 2533, 'cake': 2534, 'horrors': 2535, 'unfresh': 2536, 'winston': 2537, 'churchill': 2538, 'der': 2539, 'wienerschnitzel': 2540, 'madison': 2541, 'avenue': 2542, 'robbers': 2543, 'various': 2544, 'crowd': 2545, 'impeach': 2546, 'crooks': 2547, \"makin'\": 2548, 'agnes_skinner:': 2549, 'allowance': 2550, 'burn': 2551, 'cats': 2552, 'purse': 2553, '$42': 2554, 'everything': 2555, 'run': 2556, 'bury': 2557, 'mom': 2558, 'screw': 2559, 'businessman_#1:': 2560, 'businessman_#2:': 2561, 'firmly': 2562, 'boston': 2563, 'bag': 2564, 'case': 2565, \"drivin'\": 2566, 'suits': 2567, 'sports': 2568, 'utility': 2569, 'vehicle': 2570, 'oooo': 2571, 'ignoring': 2572, 'creeps': 2573, 'followed': 2574, 'begging': 2575, 'roomy': 2576, 'canyonero': 2577, 'combines': 2578, 'smooth': 2579, 'handling': 2580, 'european': 2581, 'rugged': 2582, 'driveability': 2583, 'sturdy': 2584, '4x4': 2585, 'noises': 2586, 'talking': 2587, \"ya'\": 2588, 'cadillac': 2589, 'automobiles': 2590, 'boo': 2591, 'plenty': 2592, 'beefs': 2593, 'fat-free': 2594, 'yogurt': 2595, 'th-th-th-the': 2596, 'computer': 2597, 'porn': 2598, 'groan': 2599, 'jay:': 2600, 'shoulda': 2601, 'shill': 2602, 'indifferent': 2603, 'thoughtfully': 2604, 'selling': 2605, 'ride': 2606, 'hank_williams_jr': 2607, ':': 2608, 'wheel': 2609, 'seats': 2610, '35': 2611, 'whip': 2612, 'crack': 2613, 'hammer': 2614, 'country-fried': 2615, 'endorsed': 2616, 'federal': 2617, 'highway': 2618, 'commission': 2619, 'ruled': 2620, 'unsafe': 2621, 'city': 2622, 'driving': 2623, 'chorus:': 2624, 'yards': 2625, 'lanes': 2626, 'wide': 2627, 'sixty-five': 2628, 'tons': 2629, 'american': 2630, 'pride': 2631, 'unexplained': 2632, 'fires': 2633, 'courts': 2634, 'blinds': 2635, 'beam': 2636, 'squirrel': 2637, 'squashing': 2638, \"smackin'\": 2639, 'canyoner-oooo': 2640, 'hyahh': 2641, 'toasting': 2642, 'blissful': 2643, 'hiding': 2644, 'rash': 2645, 'whatchacallit': 2646, 'mail': 2647, 'order': 2648, 'bride': 2649, 'homesick': 2650, 'diving': 2651, 'tourist': 2652, 'pennies': 2653, 'micronesian': 2654, 'swamp': 2655, 'mirror': 2656, 'puke-pail': 2657, 'fabulous': 2658, \"fendin'\": 2659, 'starlets': 2660, 'pointy': 2661, 'due': 2662, 'ugliness': 2663, 'dozen': 2664, 'roses': 2665, 'renee': 2666, 'treasure': 2667, 'ram': 2668, 'players': 2669, 'maxed': 2670, 'flowers': 2671, 'tenuous': 2672, 'girlfriend': 2673, 'pinchpenny': 2674, 'besides': 2675, 'tabs': 2676, 'bunch': 2677, 'ungrateful': 2678, 'ingrates': 2679, 'distraught': 2680, \"renee's\": 2681, 'kidney': 2682, 'insured': 2683, 'wreck': 2684, 'awkwardly': 2685, 'dropped': 2686, 'dearest': 2687, 'warily': 2688, 'insist': 2689, 'plan': 2690, 'placing': 2691, 'model': 2692, 'represents': 2693, 'olive': 2694, \"car's\": 2695, 'toy': 2696, 'waterfront': 2697, 'part': 2698, \"town's\": 2699, \"department's\": 2700, 'moonlight': 2701, 'charity': 2702, 'cruise': 2703, 'righ': 2704, 'alibi': 2705, 'park': 2706, 'railroad': 2707, 'tracks': 2708, '10:15': 2709, 'wham': 2710, 'insurance': 2711, 'pays': 2712, 'clams': 2713, 'troubles': 2714, 'coward': 2715, 'renee:': 2716, 'i-i': 2717, 'law': 2718, 'betrayed': 2719, 'wasting': 2720, 'low-life': 2721, 'y-you': 2722, 'hmf': 2723, 'being': 2724, 'locked': 2725, 'medicine': 2726, 'sudden': 2727, 'unless': 2728, 'clearing': 2729, 'hopeful': 2730, 'graveyard': 2731, 'corpses': 2732, 'stunned': 2733, 'we-we-we': 2734, 'pour': 2735, 'brandy': 2736, 'fwooof': 2737, 'hawaii': 2738, 'yelp': 2739, 'pain': 2740, 'murderously': 2741, 'oh-ho': 2742, 'attack': 2743, 'yell': 2744, 'sleep': 2745, 'also': 2746, \"g'night\": 2747, 'mommy': 2748, 'screams': 2749, \"world's\": 2750, 'rat': 2751, 'forgive': 2752, 'sincerely': 2753, 'tearfully': 2754, 'watching': 2755, 'aww': 2756, 'sobbing': 2757, 'puts': 2758, 'arm': 2759, 'beady': 2760, \"homer'll\": 2761, 'joined': 2762, 'naval': 2763, 'seeing': 2764, 'joining': 2765, 'although': 2766, 'strictly': 2767, 'forbids': 2768, 'military': 2769, 'hunter': 2770, 'hah': 2771, 'reminds': 2772, 'thorn': 2773, \"pope's\": 2774, 'grants': 2775, 'wondered': 2776, 'ironed': 2777, \"that'd\": 2778, 'heatherton': 2779, 'tempting': 2780, 'agent_miller:': 2781, 'flashing': 2782, 'badge': 2783, 'united': 2784, 'states': 2785, 'panicky': 2786, 'wiping': 2787, 'blown': 2788, 'signal': 2789, 'involved': 2790, 'activity': 2791, 'cause': 2792, 'agent_johnson:': 2793, \"sayin'\": 2794, 'commit': 2795, 'crimes': 2796, 'fired': 2797, 'running': 2798, 'moonshine': 2799, 'basement': 2800, 'telemarketing': 2801, 'uhhhh': 2802, 'involving': 2803, 'george': 2804, 'bush': 2805, 'seething': 2806, 'charlie:': 2807, 'militia': 2808, 'sorts': 2809, 'officials': 2810, \"that'll\": 2811, 'drag': 2812, 'high-definition': 2813, 'conspiracy': 2814, 'charlie': 2815, 'musta': 2816, 'ratted': 2817, 'ridiculous': 2818, 'transmission': 2819, 'campaign': 2820, 'disaster': 2821, 'public': 2822, 'wishful': 2823, \"they'd\": 2824, 'elect': 2825, 'vengeful': 2826, 'worried': 2827, 'focus': 2828, 'slogan': 2829, 'appeals': 2830, 'lazy': 2831, 'slobs': 2832, 'message': 2833, 'raises': 2834, 'arms': 2835, 'triumphantly': 2836, 'stagy': 2837, 'knowing': 2838, 'seriously': 2839, 'u2:': 2840, 'sanitation': 2841, 'jolly': 2842, 'blokes': 2843, 'courteous': 2844, 'easygoing': 2845, 'the_edge:': 2846, 'mop': 2847, 'overflowing': 2848, 'bono:': 2849, 'arse': 2850, 'broad': 2851, 'stands': 2852, 'ocean': 2853, 'knocks': 2854, 'bathing': 2855, 'omit': 2856, 'detail': 2857, 'small': 2858, 'filthy': 2859, 'spellbinding': 2860, 'upon': 2861, 'thomas': 2862, 'edison': 2863, 'dictating': 2864, 'fluoroscope': 2865, 'repeating': 2866, 'telegraph': 2867, 'increasingly': 2868, 'breathless': 2869, 'firm': 2870, 'believer': 2871, 'fletcherism': 2872, 'played': 2873, 'organ': 2874, 'heliotrope': 2875, 'middle': 2876, 'alva': 2877, 'wore': 2878, 'pajamas': 2879, 'dame': 2880, 'rubs': 2881, 'temples': 2882, 'worked': 2883, 'menlo': 2884, 'tasimeter': 2885, 'ore': 2886, 'separator': 2887, 'james': 2888, 'watt': 2889, 'steam': 2890, 'engine': 2891, 'boring': 2892, 'unusually': 2893, 'focused': 2894, 'squeal': 2895, 'hole': 2896, 'jockey': 2897, 'totally': 2898, 'waste': 2899, \"somebody's\": 2900, 'grumpy': 2901, 'gus': 2902, 'yoink': 2903, 'peeved': 2904, 'crying': 2905, \"springfield's\": 2906, 'citizens': 2907, 'murdered': 2908, 'bartender': 2909, 'szyslak': 2910, 'watered': 2911, 'highball': 2912, 'bigger': 2913, 'derisive': 2914, 'grocery': 2915, 'cotton': 2916, 'balls': 2917, 'absorbent': 2918, 'youuu': 2919, 'round': 2920, 'corner': 2921, 'ointment': 2922, 'aisle': 2923, 'none': 2924, 'mister': 2925, 'channel': 2926, '6': 2927, 'coy': 2928, 'promised': 2929, 'kim_basinger:': 2930, 'alec_baldwin:': 2931, 'ron_howard:': 2932, 'vodka': 2933, 'gentleman:': 2934, 'statesmanlike': 2935, 'celebrity': 2936, 'summer': 2937, 'bubble': 2938, 'telling': 2939, 'brave': 2940, 'operation': 2941, 'doctor': 2942, 'procedure': 2943, 'polenta': 2944, 'deadly': 2945, 'life-threatening': 2946, 'surgery': 2947, 'survive': 2948, 'correcting': 2949, 'point': 2950, 'able': 2951, \"tryin'\": 2952, 'scare': 2953, 'donor': 2954, 'sucker': 2955, 'lists': 2956, 'eyeball': 2957, 'spine': 2958, 'vestigial': 2959, 'plaintive': 2960, 'buttocks': 2961, 'comfortable': 2962, 'lips': 2963, 'catching': 2964, 'harvesting': 2965, 'eyeing': 2966, 'hostile': 2967, \"'round\": 2968, 'mess': 2969, 'bathroom': 2970, 'y': 2971, 'dime': 2972, 'mayor': 2973, 'quimby': 2974, 'puke-holes': 2975, 'reserved': 2976, 'cronies': 2977, 'düffenbraus': 2978, 'semi-imported': 2979, 'guzzles': 2980, 'generosity': 2981, 'greatly': 2982, 'appreciated': 2983, 'especially': 2984, 'inspection': 2985, 'season': 2986, 'stagey': 2987, \"workin'\": 2988, 'roach': 2989, 'grunt': 2990, 'hubub': 2991, 'isotopes': 2992, 'losers': 2993, 'sniper': 2994, 'all-star': 2995, 'blessing': 2996, 'disguise': 2997, 'wooooo': 2998, \"'topes\": 2999, 'ruuuule': 3000, 'die-hard': 3001, 'fan': 3002, 'history': 3003, 'winded': 3004, 'excitement': 3005, 'team': 3006, 'grabbing': 3007, \"brockman's\": 3008, 'microphone': 3009, 'woooooo': 3010, 'inspiring': 3011, \"who'll\": 3012, 'root': 3013, 'lose': 3014, 'ga': 3015, \"game's\": 3016, 'dennis_conroy:': 3017, 'bottom': 3018, 'ninth': 3019, 'outs': 3020, 'pitch': 3021, 'spanish': 3022, 'j': 3023, \"'s\": 3024, 'jumping': 3025, 'technical': 3026, 'director': 3027, 'stan': 3028, 'kadlubowski': 3029, 'rumaki': 3030, 'sports_announcer:': 3031, 'road': 3032, 'pointless': 3033, 'injury': 3034, \"football's\": 3035, 'conference': 3036, 'champs': 3037, 'harrowing': 3038, 'bye': 3039, 'week': 3040, 'enjoys': 3041, 'scornful': 3042, 'weeks': 3043, 'bronco': 3044, 'nagurski': 3045, 'reconsidering': 3046, 'wally:': 3047, 'coupon': 3048, 'flips': 3049, 'travel': 3050, 'agency': 3051, 'charter': 3052, 'dreamily': 3053, 'coach:': 3054, 'quarterback': 3055, \"wife's\": 3056, 'leg': 3057, 'wally': 3058, \"team's\": 3059, 'it:': 3060, 'atlanta': 3061, 'falcons': 3062, 'lowers': 3063, 'loved': 3064, 'count': 3065, 'broncos': 3066, 'grabs': 3067, 'hillary': 3068, 'adventure': 3069, 'mmm': 3070, 'foil': 3071, 'assassination': 3072, 'peace': 3073, 'character': 3074, 'yup': 3075, 'scarf': 3076, 'beating': 3077, 'lance': 3078, 'partner': 3079, 'detective_homer_simpson:': 3080, 'supervising': 3081, 'guns': 3082, 'toys': 3083, 'exasperated': 3084, 'simp-sonnnn': 3085, \"guy's\": 3086, 'changed': 3087, 'bumbling': 3088, 'sidekick': 3089, 'acting': 3090, 'infiltrate': 3091, 'gang': 3092, 'international': 3093, 'idiots': 3094, 'destroyed': 3095, 'shipment': 3096, 'indeedy': 3097, 'insulin': 3098, 'haplessly': 3099, \"spaghetti-o's\": 3100, 'act': 3101, 'dum-dum': 3102, 'unintelligent': 3103, 'shutup': 3104, 'diminish': 3105, 'bid': 3106, 'choking': 3107, 'who-o-oa': 3108, 'encore': 3109, 'encores': 3110, 'hour': 3111, \"valentine's\": 3112, 'men:': 3113, 'amid': 3114, \"men's\": 3115, 'reactions': 3116, 'edna': 3117, 'clap': 3118, 'erasers': 3119, 'sideshow_mel:': 3120, 'barbara': 3121, 'arts': 3122, 'stalking': 3123, 'bumped': 3124, 'murmurs': 3125, 'sympathy': 3126, 'yourselves': 3127, 'guiltily': 3128, 'maude': 3129, 'easier': 3130, 'curious': 3131, 'shriners': 3132, 'old_jewish_man:': 3133, 'traitor': 3134, 'matter-of-fact': 3135, 'astrid': 3136, 'dealer': 3137, 'gunter': 3138, 'kyoto': 3139, 'cecil': 3140, 'hampstead-on-cecil-cecil': 3141, 'eurotrash': 3142, 'gunter:': 3143, 'adrift': 3144, 'sea': 3145, 'decadent': 3146, 'luxury': 3147, 'meaningless': 3148, 'located': 3149, 'cecil_terwilliger:': 3150, 'hotel': 3151, 'practice': 3152, 'affectations': 3153, 'bon': 3154, 'soir': 3155, 'fritz': 3156, 'feld': 3157, 'priceless': 3158, 'sketch': 3159, 'certificate': 3160, 'authenticity': 3161, 'sketching': 3162, 'drawing': 3163, 'twelve-step': 3164, 'hilarious': 3165, 'novelty': 3166, 'item': 3167, 'chosen': 3168, 'justice': 3169, 'squadron': 3170, '8': 3171, 'monday': 3172, 'municipal': 3173, 'fortress': 3174, 'vengeance': 3175, 'professor_jonathan_frink:': 3176, 'studied': 3177, 'patterns': 3178, 'fastest': 3179, 'yellow': 3180, 'lights': 3181, 'frink': 3182, 'hawking:': 3183, 'theory': 3184, 'donut-shaped': 3185, 'universe': 3186, 'intriguing': 3187, \"hangin'\": 3188, 'paying': 3189, 'computer_voice_2:': 3190, 'larry': 3191, 'flynt': 3192, 'stink': 3193, 'japanese': 3194, \"hell's\": 3195, 'putting': 3196, 'tentative': 3197, 'annoyed': 3198, 'searching': 3199, 'umm': 3200, 'tap': 3201, 'jazz': 3202, 'regretted': 3203, 'supposed': 3204, 'helpless': 3205, 'frescas': 3206, 'hushed': 3207, 'embarrassing': 3208, 'needs': 3209, \"bladder's\": 3210, 'urine': 3211, 'past': 3212, 'heavyset': 3213, 'insulted': 3214, 'tommy': 3215, 'tune': 3216, 'honor': 3217, 'demand': 3218, 'slaps': 3219, 'glove': 3220, 'challenge': 3221, 'duel': 3222, 'extreme': 3223, 'given': 3224, 'slapped': 3225, \"duelin'\": 3226, 'slap': 3227, 'shack': 3228, \"b-52's:\": 3229, 'sat-is-fac-tion': 3230, 'feat': 3231, 'forgotten': 3232, 'depressed': 3233, 'tears': 3234, 'shred': 3235, 'shreda': 3236, 'cocktail': 3237, 'radishes': 3238, 'counting': 3239, 'fevered': 3240, 'rivalry': 3241, 'between': 3242, 'u': 3243, 'spreads': 3244, 'wildfever': 3245, 'th': 3246, 'writer:': 3247, 'thesaurus': 3248, 'preparation': 3249, 'stadium': 3250, 'caught': 3251, 'additional-seating-capacity': 3252, 'ivy-covered': 3253, 'cow': 3254, 'college': 3255, 'founded': 3256, 'kegs': 3257, 'finest': 3258, 'imported-sounding': 3259, 'tuborg': 3260, 'danish': 3261, 'kings': 3262, 'p': 3263, 'accounta': 3264, 'sun': 3265, 'across': 3266, 'sky': 3267, 'joking': 3268, 'sail': 3269, 'waters': 3270, 'theme': 3271, 'laws': 3272, 'held': 3273, 'tyson/secretariat': 3274, 'knees': 3275, 'throwing': 3276, 'wildest': 3277, 'seas': 3278, \"bein'\": 3279, 'eyesore': 3280, 'plastic': 3281, 'calendars': 3282, 'liquor': 3283, 'license': 3284, 'examines': 3285, 'expired': 3286, '1973': 3287, 'rhode': 3288, 'signed': 3289, 'updated': 3290, 'poster': 3291, 'moe-lennium': 3292, 'sticker': 3293, 'viva': 3294, 'la': 3295, 'jeff': 3296, 'relative': 3297, 'dumb': 3298, 'bald': 3299, 'worse': 3300, 'stickers': 3301, 'ugliest': 3302, 'uglier': 3303, 'white': 3304, 'castle': 3305, 'ho': 3306, 'pigtown': 3307, 'gargoyle': 3308, 'cauliflower': 3309, 'ear': 3310, 'lizard': 3311, 'caveman': 3312, 'brow': 3313, 'fish': 3314, 'snout': 3315, 'pleasant': 3316, 'emphasis': 3317, 'maher': 3318, 'dynamite': 3319, 'mount': 3320, 'crapmore': 3321, 'kisser': 3322, 'inside': 3323, 'carlson': 3324, 'spotting': 3325, 'windowshade': 3326, 'grope': 3327, 'softer': 3328, 'harder': 3329, 'women': 3330, 'busy': 3331, 're:': 3332, 'nearly': 3333, 'complicated': 3334, 'seem': 3335, 'maintenance': 3336, 'wash': 3337, 'rub': 3338, \"neat's-foot\": 3339, 'hooters': 3340, 'wraps': 3341, 'crushed': 3342, 'third': 3343, 'beats': 3344, 'tax': 3345, 'hike': 3346, 'mabel': 3347, 'trusted': 3348, 'voted': 3349, 'chastity': 3350, 'bono': 3351, 'influence': 3352, 'jerk': 3353, 'glummy': 3354, 'sincere': 3355, 'shindig': 3356, 'videotaped': 3357, 'slot': 3358, 'package': 3359, 'tha': 3360, 'poem': 3361, 'occasion': 3362, 'older': 3363, 'flew': 3364, 'grunts': 3365, 'planet': 3366, 'chinese': 3367, 'uncomfortable': 3368, 'upsetting': 3369, 'stage': 3370, 'professor': 3371, 'talkative': 3372, 'coherent': 3373, 'upset': 3374, 'yourse': 3375, 'precious': 3376, 'soaking': 3377, 'shag': 3378, 'disgrace': 3379, 'disgracefully': 3380, 'presents': 3381, 'mine': 3382, 'without:': 3383, 'morning-after': 3384, 'stationery': 3385, 'helicopter': 3386, 'flying': 3387, 'lessons': 3388, 'boozebag': 3389, 'whirlybird': 3390, 'tanked-up': 3391, 'sweetly': 3392, 'b-day': 3393, 'punkin': 3394, 'certain': 3395, 'tanking': 3396, 'fly': 3397, \"handwriting's\": 3398, 'afloat': 3399, \"bar's\": 3400, 'queer': 3401, 'guide': 3402, 'calmly': 3403, 'santeria': 3404, 'breaks': 3405, 'straighten': 3406, 'finish': 3407, 'seat': 3408, 'suspiciously': 3409, 'world-class': 3410, 'alcoholism': 3411, 'raging': 3412, 'barney-type': 3413, 'bad-mouth': 3414, 'suck': 3415, 'catty': 3416, 'consulting': 3417, 'amends': 3418, 'disgraceful': 3419, 'behavior': 3420, 'barstools': 3421, 'befouled': 3422, 'broom': 3423, 'closet': 3424, 'explain': 3425, 'drop-off': 3426, 'bulletin': 3427, 'broken': 3428, 'trapping': 3429, 'youngsters': 3430, 'unfortunately': 3431, 'trucks': 3432, 'unavailable': 3433, 'blaze': 3434, 'film': 3435, 'burt': 3436, 'reynolds': 3437, 'fireball': 3438, 'mudflap': 3439, 'burt_reynolds:': 3440, 'jerry': 3441, 'feisty': 3442, 'supreme': 3443, 'court': 3444, 'birth': 3445, 'competing': 3446, 'cross-country': 3447, 'race': 3448, 'garbage': 3449, 'flown': 3450, 'solo': 3451, 'heroism': 3452, 'charges': 3453, 'lowering': 3454, 'binoculars': 3455, 'sinister': 3456, 'grieving': 3457, \"ridin'\": 3458, 'slab': 3459, 'died': 3460, 'dear': 3461, 'tear': 3462, \"dad's\": 3463, 'reluctantly': 3464, 'onions': 3465, 'clenched': 3466, 'teeth': 3467, 'read': 3468, 'resigned': 3469, 'according': 3470, 'uses': 3471, 'appearance-altering': 3472, 'cosmetics': 3473, 'warned': 3474, 'x': 3475, 'closer': 3476, 'talked': 3477, 'tall': 3478, 'frosty': 3479, 'whisper': 3480, 'lotta': 3481, 'secrets': 3482, 'clandestine': 3483, 'disturbing': 3484, 'voice:': 3485, 'happily': 3486, 'pulitzer': 3487, 'rev': 3488, '_timothy_lovejoy:': 3489, 'helen': 3490, 'bible': 3491, 'human': 3492, 'guinea': 3493, 'pig': 3494, 'medical': 3495, \"chewin'\": 3496, 'chew': 3497, 'telephone': 3498, 'shock': 3499, 'satisfied': 3500, 'experiments': 3501, 'few': 3502, 'ears': 3503, 'winces': 3504, 'chest': 3505, 'hmmmm': 3506, 'effigy': 3507, 'dawning': 3508, 'appalled': 3509, 'fire_inspector:': 3510, 'brainiac': 3511, 'jobs': 3512, 'mention': 3513, 'smart': 3514, 'distinct': 3515, 'strain': 3516, 'anti-intellectualism': 3517, 'einstein': 3518, 'whaddaya': 3519, 'appendectomy': 3520, 'lipo': 3521, 'sampler': 3522, 'popular': 3523, 'dramatically': 3524, 'crayon': 3525, 'art': 3526, 'carney': 3527, 'flourish': 3528, \"ol'\": 3529, 'crayola': 3530, 'oblongata': 3531, 'deeper': 3532, 'pusillanimous': 3533, 'pilsner-pusher': 3534, 'inanely': 3535, 'dee-fense': 3536, 'twice': 3537, 'extended': 3538, 'warranty': 3539, 'sacajawea': 3540, 'manatee': 3541, 'comic_book_guy:': 3542, 'cranberry': 3543, 'schnapps': 3544, 'aah': 3545, 'painted': 3546, 'choices': 3547, 'scanning': 3548, 'sees': 3549, \"soakin's\": 3550, 'nectar': 3551, 'nitwit': 3552, \"knockin'\": 3553, 'badmouths': 3554, \"o'\": 3555, 'comic': 3556, 'mindless': 3557, 'droning': 3558, 'befriend': 3559, \"raggin'\": 3560, 'conditioners': 3561, 'klingon': 3562, 'loneliness': 3563, 'guttural': 3564, 'directions': 3565, 'baseball': 3566, 'mm': 3567, 'bought': 3568, 'heartless': 3569, 'corporation': 3570, 'owns': 3571, 'family-owned': 3572, 'tried': 3573, 'quick': 3574, 'thumb': 3575, 'eye-gouger': 3576, 'pickle': 3577, 'brine': 3578, 'fresh': 3579, 'massive': 3580, 'loss': 3581, 'occasional': 3582, 'total': 3583, 'rip-off': 3584, 'smurfs': 3585, 'gangrene': 3586, 'wake': 3587, 'cup': 3588, \"coffee'll\": 3589, 'waking-up': 3590, 'instantly': 3591, \"nick's\": 3592, 'disapproving': 3593, 'rude': 3594, 'moans': 3595, 'hitchhike': 3596, 'emergency': 3597, 'dollface': 3598, 'informant': 3599, 'wearing': 3600, 'nash': 3601, 'bridges': 3602, 'goods': 3603, 'smugglers': 3604, 'voice_on_transmitter:': 3605, 'delighted': 3606, 'illegally': 3607, 'smuggled': 3608, '2nd_voice_on_transmitter:': 3609, '3rd_voice:': 3610, 'presses': 3611, 'button': 3612, 'answering': 3613, 'snitch': 3614, 'mcbain': 3615, \"father's\": 3616, 'lotsa': 3617, 'mission': 3618, 'fireworks': 3619, 'incriminating': 3620, 'taps': 3621, 'recorder': 3622, 'hootie': 3623, 'blowfish': 3624, 'cheaper': 3625, 'blank': 3626, 'wells': 3627, 'aer': 3628, 'lingus': 3629, 'jets': 3630, 'leprechaun': 3631, 'cursed': 3632, 'dying': 3633, \"heat's\": 3634, 'dejected': 3635, 'slugger': 3636, 'italian': 3637, 'shotgun': 3638, 'rob': 3639, 'eventually': 3640, 'became': 3641, 'morlocks': 3642, 'future': 3643, 'liar': 3644, \"weren't\": 3645, \"spyin'\": 3646, 'naturally': 3647, 'assumed': 3648, 'stupidest': 3649, 'valley': 3650, 'series': 3651, 'drunks': 3652, 'shaggy': 3653, 'stories': 3654, 'quitcher': 3655, 'bellyaching': 3656, 'dumb-asses': 3657, 'gun': 3658, 'serve': 3659, 'yak': 3660, \"d'ya\": 3661, 'shesh': 3662, \"kiddin'\": 3663, 'smiled': 3664, 'nailed': 3665, 'passion': 3666, 'bartending': 3667, 'jigger': 3668, 'painting': 3669, 'illustrates': 3670, 'swigmore': 3671, 'fills': 3672, 'expression': 3673, 'coat': 3674, 'trip': 3675, 'alma': 3676, 'mater': 3677, 'rekindle': 3678, 'urban': 3679, \"tinklin'\": 3680, 'contest': 3681, 'potato': 3682, 'chips': 3683, \"when's\": 3684, 'mind': 3685, 'natured': 3686, 'jukebox': 3687, 'splattered': 3688, 'fonzie': 3689, 'ayyy': 3690, 'hemorrhage-amundo': 3691, 'yello': 3692, 'speak': 3693, 'tabooger': 3694, 'ollie': 3695, 'ooo': 3696, 'deliberate': 3697, 'booger': 3698, 'dirty': 3699, 'teen': 3700, 'hardhat': 3701, 'wrecking': 3702, 'giggle': 3703, 'fainted': 3704, 'prettied': 3705, 'renew': 3706, 'zeal': 3707, 'twentieth': 3708, 'century': 3709, 'formico:': 3710, 'formico': 3711, 'dean': 3712, 'design': 3713, 'spoken': 3714, 'certified': 3715, 'contractors': 3716, 'pages': 3717, 'glad': 3718, 'thanksgiving': 3719, 'band': 3720, 'hippies': 3721, 'rem': 3722, 'apology': 3723, 'eco-fraud': 3724, 'reluctant': 3725, 'rainforest': 3726, 'peter_buck:': 3727, 'thankful': 3728, 'michael': 3729, 'supplying': 3730, 'tofu': 3731, 'mike_mills:': 3732, 'gluten': 3733, 'ate': 3734, 'michael_stipe:': 3735, 'curds': 3736, 'mmmmm': 3737, 'alternative': 3738, 'rockers': 3739, 'gabriel': 3740, 'mortal': 3741, 'equivalent': 3742, 'ambrosia': 3743, 'gabriel:': 3744, 'temper': 3745, 'deliberately': 3746, 'girl-bart': 3747, 'loathe': 3748, 'knives': 3749, 'terrific': 3750, \"lady's\": 3751, 'cookies': 3752, \"'n'\": 3753, 'creme': 3754, 'martini': 3755, 'amber_dempsey:': 3756, 'beach': 3757, 'annoying': 3758, 'admiring': 3759, 'night-crawlers': 3760, 'bragging': 3761, 'mole': 3762, 'anywhere': 3763, 'wowww': 3764, 'amber': 3765, 'proves': 3766, 'buffet': 3767, 'clothespins': 3768, 'attach': 3769, 'eighty-seven': 3770, 'neck': 3771, 'palm': 3772, 'looked': 3773, 'clothespins:': 3774, 'swallowed': 3775, 'inserted': 3776, 'clipped': 3777, 'sixteen': 3778, 'magnanimous': 3779, 'tom': 3780, \"clancy's\": 3781, 'op': 3782, 'lovers': 3783, 'newsweek': 3784, 'failure': 3785, 'actors': 3786, 'thrust': 3787, 'trivia': 3788, 'lifetime': 3789, 'supply': 3790, 'chug-monkeys': 3791, 'beverage': 3792, 'brewed': 3793, 'ancient': 3794, 'hops': 3795, 'grains': 3796, 'hop': 3797, 'grain': 3798, 'juice': 3799, \"time's\": 3800, 'reading:': 3801, 'woulda': 3802, 'arrange': 3803, 'escort': 3804, 'orgasmville': 3805, 'losing': 3806, 'lindsay_naegle:': 3807, 'agree': 3808, 'enlightened': 3809, 'television': 3810, 'producers': 3811, 'booking': 3812, 'mid-seventies': 3813, 'alky': 3814, 'grandiose': 3815, \"round's\": 3816, 'payday': 3817, 'rented': 3818, 'boyfriend': 3819, 'swings': 3820, \"battin'\": 3821, 'cage': 3822, 'perverted': 3823, 'winner': 3824, 'sprawl': 3825, 'bed': 3826, 'hockey-fight': 3827, 'artie': 3828, 'spy': 3829, 'horrible': 3830, 'superior': 3831, 'settled': 3832, \"what'd\": 3833, 'lookalike:': 3834, 'chuck': 3835, 'exited': 3836, 'trunk': 3837, 'rainier': 3838, 'wolfcastle': 3839, 'teenage': 3840, 'ohmygod': 3841, 'ab': 3842, 'roller': 3843, 'gotten': 3844, 'rainier_wolfcastle:': 3845, 'backward': 3846, 'leftover': 3847, 'kill': 3848, 'authorized': 3849, 'lookalike': 3850, 'lookalikes': 3851, 'macaulay': 3852, 'culkin': 3853, 'killing': 3854, 'alpha-crow': 3855, 'uneasy': 3856, \"i-i'm\": 3857, 'enveloped': 3858, 'buttons': 3859, 'crow': 3860, 'crowbar': 3861, 'sloppy': 3862, 'wacky': 3863, 'tobacky': 3864, 'spacey': 3865, 'intervention': 3866, 'poisoning': 3867, 'excuses': 3868, 'funeral': 3869, 'interrupting': 3870, 'impatient': 3871, 'forty-seven': 3872, 'bottles': 3873, 'terrified': 3874, 'here-here-here': 3875, 'pepper': 3876, 'salt': 3877, 'shaker': 3878, 'dash': 3879, 'homie': 3880, 'eleven': 3881, 'dinks': 3882, 'squishee': 3883, 'canoodling': 3884, 'junkyard': 3885, 'rabbits': 3886, 'scum': 3887, 'soothing': 3888, 'promise': 3889, 'tropical': 3890, 'windex': 3891, 'windelle': 3892, 'afford': 3893, 'muhammad': 3894, 'ali': 3895, 'anti-lock': 3896, 'brakes': 3897, 'johnny': 3898, 'mathis': 3899, 'versus': 3900, 'pepsi': 3901, 'anniversary': 3902, 'koi': 3903, 'pond': 3904, 'meditative': 3905, 'lily-pond': 3906, 'fry': 3907, 'feed': 3908, 'squirrels': 3909, 'drown': 3910, 'super-genius': 3911, 'certainly': 3912, 'lenford': 3913, 'celebration': 3914, 'surprise': 3915, 'pasta': 3916, 'mini-beret': 3917, 'wang': 3918, 'gold': 3919, \"this'll\": 3920, 'speed': 3921, 'dating': 3922, 'nos': 3923, 'killer': 3924, 'sat': 3925, 'drank': 3926, 'i-i-i': 3927, 'stab': 3928, 'peanuts': 3929, 'à': 3930, 'simon': 3931, 'up-bup-bup': 3932, 'starting': 3933, 'force': 3934, 'badges': 3935, 'admitting': 3936, \"pickin'\": 3937, 'homer_doubles:': 3938, 'len-ny': 3939, 'billy_the_kid:': 3940, 'pian-ee': 3941, 'piano': 3942, 'cell-ee': 3943, 'cattle': 3944, \"rustlin'\": 3945, \"robbin'\": 3946, 'banks': 3947, 'shoo': 3948, \"calf's\": 3949, 'sneak': 3950, 'grab': 3951, \"'im\": 3952, 'bank': 3953, 'snatch': 3954, 'dough': 3955, 'ghouls': 3956, 'grammy': 3957, 'judges': 3958, 'perfected': 3959, 'device': 3960, 'flayvin': 3961, 'space-time': 3962, 'continuum': 3963, \"wait'll\": 3964, 'wasted': 3965, 'plotz': 3966, 'absentminded': 3967, 'polishing': 3968, 'diapers': 3969, 'fair': 3970, 'yuh-huh': 3971, 'alter': 3972, 'consciousness': 3973, 'glitz': 3974, 'glamour': 3975, 'emotional': 3976, 'color': 3977, 'skin': 3978, 'cries': 3979, 'alphabet': 3980, 'backwards': 3981, 'beligerent': 3982, 'rats': 3983, 'liable': 3984, 'taunting': 3985, 'jerks': 3986, 'smug': 3987, 'louder': 3988, 'accelerating': 3989, 'snapping': 3990, 'cab_driver:': 3991, 'newest': 3992, 'supermodel': 3993, 'longest': 3994, 'fuss': 3995, 'spit-backs': 3996, 'staying': 3997, \"tonight's\": 3998, 'cock': 3999, 'scoffs': 4000, 'tokens': 4001, 'reality': 4002, 'gimmick': 4003, '1895': 4004, 'lincoln': 4005, 'kennedy': 4006, 'mckinley': 4007, 'simple': 4008, 'slit': 4009, 'quick-like': 4010, 'sideshow_bob:': 4011, 'haikus': 4012, 'skinheads': 4013, 'soap': 4014, 'concentrate': 4015, 'aging': 4016, 'whenever': 4017, 'detective': 4018, 'unbelievable': 4019, 'digging': 4020, 'intimacy': 4021, 'cobbling': 4022, 'shoes': 4023, 'schizophrenia': 4024, 'hiring': 4025, 'swan': 4026, 'delts': 4027, 'clench': 4028, 'proud': 4029, 'bulked': 4030, 'managed': 4031, 'femininity': 4032, 'fierce': 4033, 'glyco-load': 4034, 'denser': 4035, 'ripping': 4036, 'gel': 4037, 'frightened': 4038, 'sacrifice': 4039, 'period': 4040, 'awkward': 4041, 'delicately': 4042, 'death': 4043, 'yammering': 4044, 'pile': 4045, 'disco_stu:': 4046, 'disco': 4047, 'stu': 4048, 'ducked': 4049, 'slim': 4050, 'bupkus': 4051, 'perplexed': 4052, 'complaining': 4053, 'rump': 4054, 'payback': 4055, 'revenge': 4056, 'magazine': 4057, 'subscriptions': 4058, 'brick': 4059, 'cerebral': 4060, 'booze-bags': 4061, 'andy': 4062, 'victorious': 4063, \"one's\": 4064, 'gallon': 4065, 'icelandic': 4066, 'boyhood': 4067, 'anti-crime': 4068, 'dealie': 4069, 'streetlights': 4070, 'strongly': 4071, 'pro': 4072, 'con': 4073, \"i'unno\": 4074, 'superdad': 4075, 'young_moe:': 4076, 'crystal': 4077, 'cheaped': 4078, 'shelf': 4079, 'memory': 4080, 'paramedic:': 4081, 'ingested': 4082, 'amount': 4083, 'defiantly': 4084, 'ihop': 4085, 'burger': 4086, 'absentmindedly': 4087, \"doctor's\": 4088, 'appointment': 4089, 'young_marge:': 4090, 'alone': 4091, 'video': 4092, 'neanderthal': 4093, 'taylor': 4094, 'mock': 4095, 'flatly': 4096, 'ing': 4097, 'bird': 4098, 'billboard': 4099, 'sisters': 4100, 'voters': 4101, 'decide': 4102, 'november': 4103, 'practically': 4104, 'everywhere': 4105, 'subject': 4106, 'resenting': 4107, 'appreciate': 4108, 'lush': 4109, 'shout': 4110, 'f-l-a-n-r-d-s': 4111, 'flame': 4112, 'david_byrne:': 4113, 'researching': 4114, 'indigenous': 4115, 'overhearing': 4116, 'delightfully': 4117, 'cruel': 4118, 'david': 4119, 'byrne': 4120, 'singer': 4121, 'artist': 4122, 'composer': 4123, 'wrestle': 4124, 'el': 4125, 'diablo': 4126, 'philip': 4127, 'wishes': 4128, 'rewound': 4129, 'produce': 4130, 'rolls': 4131, 'likes': 4132, 'kahlua': 4133, 'cream': 4134, 'fleabag': 4135, 'unsanitary': 4136, \"cat's\": 4137, \"sittin'\": 4138, 'nope': 4139, \"wearin'\": 4140, 'walked': 4141, 'instead': 4142, 'dark': 4143, 'dreary': 4144, 'boozy': 4145, 'drunkening': 4146, 'hangover': 4147, 'barber': 4148, 'frat': 4149, 'julienne': 4150, 'potatoes': 4151, 'dessert': 4152, 'peach': 4153, 'crumble': 4154, 'groin': 4155, 'shortcomings': 4156, 'banquet': 4157, 'poulet': 4158, 'au': 4159, 'vin': 4160, 'avec': 4161, 'champignons': 4162, 'kisses': 4163, 'botanical': 4164, 'gardens': 4165, 'blossoming': 4166, 'sumatran': 4167, 'occurs': 4168, 'customers-slash-only': 4169, 'cooler': 4170, 'replaced': 4171, \"mopin'\": 4172, 'alarm': 4173, 'tummies': 4174, 'elves:': 4175, 'cakes': 4176, 'pets': 4177, 'brotherhood': 4178, \"i'd'a\": 4179, 'delivery_boy:': 4180, 'pizza': 4181, \"y'money's\": 4182, 'counter': 4183, 'miserable': 4184, 'bastard': 4185, 'mona_simpson:': 4186, 'leonard': 4187, 'competitive': 4188, 'jump': 4189, 'dive': 4190, 'stevie': 4191, 'macgregor': 4192, 'musketeers': 4193, 'accusing': 4194, 'bless': 4195, 'woozy': 4196, 'lungs': 4197, 'attention': 4198, 'devils:': 4199, 'apulina': 4200, 'gifts': 4201, 'including': 4202, 'bouquet': 4203, 'diamond': 4204, 'earrings': 4205, 'paris': 4206, 'hilton': 4207, 'france': 4208, 'manjula_nahasapeemapetilon:': 4209, 'sheepish': 4210, 'address': 4211, \"city's\": 4212, 'society_matron:': 4213, 'remote': 4214, 'sharity': 4215, 'woman_bystander:': 4216, 'ziff': 4217, 'aristotle:': 4218, 'artie_ziff:': 4219, 'weep': 4220, 'cards': 4221, 'mamma': 4222, 'flush-town': 4223, 'population': 4224, 'nonchalant': 4225, 'fifty': 4226, 'fold': 4227, 'ninety-eight': 4228, 'outstanding': 4229, 'ziffcorp': 4230, 'achem': 4231, 'flush': 4232, 'jacks': 4233, 'multi-national': 4234, 'd': 4235, 'sec_agent_#1:': 4236, 'securities': 4237, 'exchange': 4238, 'sec_agent_#2:': 4239, 'manipulation': 4240, 'fraud': 4241, 'macho': 4242, 'undermine': 4243, 'investor': 4244, 'confidence': 4245, 'perhaps': 4246, 'affects': 4247, 'majority': 4248, 'shareholder': 4249, 'inherent': 4250, 'legal': 4251, 'liability': 4252, 'malfeasance': 4253, 'ground': 4254, 'result': 4255, 'deny': 4256, 'jail': 4257, 'showed': 4258, 'louse': 4259, 'nerve': 4260, 'patty_bouvier:': 4261, 'jogging': 4262, 'ran': 4263, 'intruding': 4264, 'selma_bouvier:': 4265, 'sending': 4266, 'prison': 4267, 'swooning': 4268, 'standing': 4269, 'odor': 4270, 'eaters': 4271, 'bedroom': 4272, 'beanbag': 4273, 'temple': 4274, 'doom': 4275, 'gentle': 4276, 'nightmares': 4277, 'orders': 4278, 'contemptuous': 4279, 'chateau': 4280, 'latour': 4281, 'eighteen': 4282, 'eighty-six': 4283, 'initially': 4284, 'value': 4285, \"collector's\": 4286, 'shakespeare': 4287, 'bidet': 4288, 'ladder': 4289, 'water': 4290, 'fountain': 4291, 'monster': 4292, 'watered-down': 4293, 'in-in-in': 4294, 'chipped': 4295, 'nail': 4296, 'sticking': 4297, 'poke': 4298, 'bachelor': 4299, 'peaked': 4300, 'and/or': 4301, 'underpants': 4302, 'buddies': 4303, \"kids'\": 4304, 'gary_chalmers:': 4305, 'chug-a-lug': 4306, 'a-lug': 4307, 'needy': 4308, 'kindly': 4309, 'funds': 4310, 'disposal': 4311, 'boisterous': 4312, 'exciting': 4313, 'photographer': 4314, 'van': 4315, 'notch': 4316, 'wiggle': 4317, 'lap': 4318, 'friction': 4319, 'dancing': 4320, \"what're\": 4321, 'killjoy': 4322, 'wussy': 4323, 'grinch': 4324, 'consoling': 4325, 'bugging': 4326, 'picked': 4327, 'seemed': 4328, 'zoomed': 4329, 'junebug': 4330, 'windshield': 4331, 'meaningful': 4332, \"secret's\": 4333, 'safe': 4334, 'bail': 4335, 'wedding': 4336, 'wiener': 4337, \"bringin'\": 4338, 'sauce': 4339, 'easily': 4340, 'sobriety': 4341, 'urge': 4342, 'sponsor': 4343, 'white_rabbit:': 4344, 'lorre': 4345, 'missed': 4346, 'warmth': 4347, 'penmanship': 4348, 'sucks': 4349, 'anyhoo': 4350, 'furious': 4351, 'cyrano': 4352, 'shoulder': 4353, 'americans': 4354, 'permanent': 4355, 'visas': 4356, 'dutch': 4357, \"leavin'\": 4358, \"president's\": 4359, 'rebuttal': 4360, 'vomit': 4361, 'mull': 4362, 'mugs': 4363, \"thinkin'\": 4364, 'symphonies': 4365, 'fuhgetaboutit': 4366, 'health_inspector:': 4367, 'filth': 4368, 'oughta': 4369, 'hideous': 4370, 'frankie': 4371, 'department': 4372, 'fella': 4373, 'dads': 4374, 'malted': 4375, 'tooth': 4376, 'blinded': 4377, 'bike': 4378, \"soundin'\": 4379, 'thorough': 4380, 'winks': 4381, 'infestation': 4382, 'sanitary': 4383, 'utensils': 4384, 'hygienically': 4385, 'stored': 4386, 'parked': 4387, 'hydrant': 4388, 'new_health_inspector:': 4389, 'exhale': 4390, 'whaddya': 4391, 'hunky': 4392, 'dory': 4393, 'rife': 4394, 'violations': 4395, 'starters': 4396, 'predecessor': 4397, 'floor': 4398, 'trash': 4399, 'wednesday': 4400, 'chicken': 4401, 'skins': 4402, 'dispenser': 4403, 'roof': 4404, 'shutting': 4405, 'john': 4406, 'danny': 4407, 'pipes': 4408, 'glen': 4409, 'mountain': 4410, \"summer's\": 4411, 'falling': 4412, \"'tis\": 4413, 'bide': 4414, 'tribute': 4415, 'e': 4416, 'acceptance': 4417, 'breaking': 4418, 'hafta': 4419, 'street': 4420, 'shrugs': 4421, \"beer's\": 4422, 'reopen': 4423, 'crestfallen': 4424, 'changes': 4425, 'nor': 4426, 'pen': 4427, 'parrot': 4428, 'conversation': 4429, 'brief': 4430, 'contact': 4431, 'suicide': 4432, 'hotline': 4433, 'dials': 4434, 'blocked': 4435, 'protecting': 4436, 'investment': 4437, 'cigars': 4438, 'allowed': 4439, 'sleeps': 4440, 'microwave': 4441, 'beans': 4442, 'stupidly': 4443, 'duh': 4444, 'jerk-ass': 4445, 'doy': 4446, 'cheerier': 4447, 'quotes': 4448, 'therefore': 4449, 'darkness': 4450, 'tactful': 4451, 'regulars': 4452, 'remodel': 4453, \"changin'\": 4454, 'skirt': 4455, 'susie-q': 4456, 'face-macer': 4457, 'prepared': 4458, 'trapped': 4459, 'guff': 4460, 'grub': 4461, 'proper': 4462, 'old-time': 4463, 'british': 4464, 'whaaa': 4465, 'rule': 4466, 'britannia': 4467, 'meatpies': 4468, 'lager': 4469, 'pint': 4470, 'classy': 4471, 'asses': 4472, 'so-ng': 4473, 'arm-pittish': 4474, \"renovatin'\": 4475, 'drapes': 4476, \"idea's\": 4477, 'judge_snyder:': 4478, 'lindsay': 4479, 'naegle': 4480, 'ale': 4481, 'mis-statement': 4482, 'allow': 4483, 'credit': 4484, 'numbers': 4485, 'bumpy-like': 4486, 'suds': 4487, 'counterfeit': 4488, 'cat': 4489, 'moe-clone': 4490, 'socialize': 4491, 'moe-clone:': 4492, 'attitude': 4493, 'letters': 4494, 'e-z': 4495, 'needed': 4496, 'clone': 4497, 'oopsie': 4498, 'edna_krabappel-flanders:': 4499, 'weirder': 4500, \"enjoyin'\": 4501, 'adult': 4502, 'tickets': 4503, \"santa's\": 4504, 'sleigh-horses': 4505, 'jerky': 4506, 'sells': 4507, 'impress': 4508, 'record': 4509, \"liftin'\": 4510, 'dumbbell': 4511, 'forty-nine': 4512, 'ninety-nine': 4513, \"lefty's\": 4514, 'victim': 4515, 'hustle': 4516, 'the_rich_texan:': 4517, 'bourbon': 4518, \"breakin'\": 4519, 'nerd': 4520, 'sugar-free': 4521, 'ginger': 4522, 'flat': 4523, 'buds': 4524, 'goldarnit': 4525, 'sissy': 4526, 'life-partner': 4527, 'whup': 4528, 'wrestling': 4529, 'yee-ha': 4530, 'gol-dangit': 4531, \"dimwit's\": 4532, 'kazoo': 4533, 'forehead': 4534, 'head-gunk': 4535, 'hears': 4536, 'cocking': 4537, 'texan': 4538, 're-al': 4539, 'moe-heads': 4540, 'polls': 4541, 'negative': 4542, 'ads': 4543, 'hurting': 4544, 'barely': 4545, 'homeless': 4546, 'bum:': 4547, 'flag': 4548, 'annual': 4549, 'tradition': 4550, 'attempting': 4551, 'sob': 4552, 'w-a-3-q-i-zed': 4553, 'push': 4554, 'mason': 4555, 'moment': 4556, 'arrived': 4557, \"rentin'\": 4558, \"takin'\": 4559, 'las': 4560, 'vegas': 4561, 'nevada': 4562, 'stingy': 4563, 'rat-like': 4564, 'rope': 4565, 'sued': 4566, 'settlement': 4567, 'partially': 4568, 'risqué': 4569, 'plane': 4570, 'soul-crushing': 4571, 'camp': 4572, 'cheat': 4573, 'blackjack': 4574, 'system': 4575, 'nelson_muntz:': 4576, 'haw': 4577, 'nelson': 4578, 'pair': 4579, 'paints': 4580, 'noggin': 4581, 'meanwhile': 4582, \"payin'\": 4583, \"yieldin'\": 4584, 'moe_recording:': 4585, 'ew': 4586, 'considering:': 4587, 'bar-boy': 4588, \"table's\": 4589, 'wobbly': 4590, 'jam': 4591, 'foot': 4592, 'ford': 4593, 'captain': 4594, 'kirk': 4595, \"i'm-so-stupid\": 4596, 'five-fifteen': 4597, 'eternity': 4598, 'fortune': 4599, 'fica': 4600, 'helping': 4601, 'steamed': 4602, 'cappuccino': 4603, '-ry': 4604, 'otherwise': 4605, 'known': 4606, 'bridge': 4607, 'neighbors': 4608, 'wife-swapping': 4609, 'strolled': 4610, 'museum': 4611, 'donation': 4612, 'lewis': 4613, 'coins': 4614, 'notorious': 4615, 'jailbird': 4616, 'idealistic': 4617, 'law-abiding': 4618, 'archaeologist': 4619, 'excavating': 4620, 'mayan': 4621, 'pyramid': 4622, 'unearth': 4623, 'pre-columbian': 4624, 'donate': 4625, 'wangs': 4626, 'statues': 4627, 'motel': 4628, 'handed': 4629, 'awful': 4630, 'dilemma': 4631, 'edner': 4632, \"playin'\": 4633, 'coin': 4634, 'poorer': 4635, 'worldly': 4636, 'possessions': 4637, \"'ceptin'\": 4638, 'nucular': 4639, 'photo': 4640, 'child': 4641, 'obsessive-compulsive': 4642, 'shoots': 4643, 'yee-haw': 4644, 'powered': 4645, 'non-american': 4646, 'workers': 4647, \"tv's\": 4648, 'america': 4649, 'then:': 4650, 'misfire': 4651, 'prolonged': 4652, 'playoff': 4653, \"hobo's\": 4654, 'louie:': 4655, 'owes': 4656, 'ominous': 4657, 'fist': 4658, 'clientele': 4659, \"puttin'\": 4660, 'screws': 4661, \"tony's\": 4662, 'all-all-all': 4663, 'reporter:': 4664, 'stars': 4665, 'firing': 4666, 'pure': 4667, 'irish': 4668, 'polish': 4669, \"drawin'\": 4670, 'marmaduke': 4671, 'heck': 4672, \"challengin'\": 4673, 'sudoku': 4674, 'puzzle': 4675, 'numeral': 4676, 'repeated': 4677, 'column': 4678, 'army': 4679, 'salvation': 4680, 'cocks': 4681, 'stripes': 4682, 'repay': 4683, 'colonel:': 4684, 'fishing': 4685, \"waitin'\": 4686, 'fragile': 4687, \"listenin'\": 4688, 'bursts': 4689, 'published': 4690, 'author': 4691, 'earlier': 4692, 'newly-published': 4693, 'snail': 4694, 'trail': 4695, 'name:': 4696, 'wolfe': 4697, 'bonfire': 4698, 'vanities': 4699, 'coined': 4700, 'phrase': 4701, 'radical': 4702, 'chic': 4703, \"squeezin'\": 4704, \"'roids\": 4705, 'wordloaf': 4706, 'festival': 4707, 'vermont': 4708, 'thrilled': 4709, \"wouldn't-a\": 4710, 'milhouse': 4711, 'greystash': 4712, 'dirt': 4713, 'outlive': 4714, 'fictional': 4715, 'wizard': 4716, \"what'sa\": 4717, 'upn': 4718, 'assert': 4719, 'herself': 4720, 'backbone': 4721, 'notices': 4722, 'fausto': 4723, 'doors': 4724, 'unlocked': 4725, 'beeps': 4726, 'declan': 4727, 'fruit': 4728, 'declan_desmond:': 4729, 'oddest': 4730, 'thing:': 4731, 'affection': 4732, 'knuckle-dragging': 4733, 'sub-monkeys': 4734, \"sippin'\": 4735, 'cuckoo': 4736, 'de-scramble': 4737, 'scrutinizing': 4738, 'shoe': 4739, 'inserts': 4740, \"writin'\": 4741, 'creepy': 4742, 'action': 4743, 'kills': 4744, 'title:': 4745, 'pontiff': 4746, 'gargoyles': 4747, 'good-looking': 4748, 'open-casket': 4749, 'material': 4750, 'pretending': 4751, 'sour': 4752, 'abandon': 4753, 'paparazzo': 4754, 'size': 4755, 'joy': 4756, 'robin': 4757, 'williams': 4758, 'bits': 4759, 'sister': 4760, 'airport': 4761, 'co-sign': 4762, 'mortgage': 4763, 'photos': 4764, \"ladies'\": 4765, 'turlet': 4766, 'dames': 4767, 'attractive_woman_#1:': 4768, 'attractive_woman_#2:': 4769, 'trade': 4770, 'bras': 4771, 'panties': 4772, 'appealing': 4773, 'reason': 4774, 'feelings': 4775, 'volunteer': 4776, 'assume': 4777, 'dentist': 4778, 'patient': 4779, 'mary': 4780, 'weirded-out': 4781, 'milhouse_van_houten:': 4782, \"school's\": 4783, 'bake': 4784, \"betsy'll\": 4785, 'runs': 4786, 'depending': 4787, 'strips': 4788, 'eggshell': 4789, 'malabar': 4790, 'ivory': 4791, 'mediterranean': 4792, 'ecru': 4793, 'tow': 4794, 'fanciest': 4795, 'lobster-politans': 4796, 'towed': 4797, 'smelling': 4798, 'one-hour': 4799, 'zone': 4800, 'eighty-one': 4801, 'correction': 4802, 'lobster-based': 4803, 'designer': 4804, 'joke': 4805, 'laughter': 4806, 'unhook': 4807, 'moving': 4808, 'tow-talitarian': 4809, 'totalitarians': 4810, 'stalin': 4811, 'grandmother': 4812, 'forced': 4813, 'labor': 4814, 'insensitive': 4815, 'bully': 4816, 'winch': 4817, 'enforced': 4818, 'fatty': 4819, 'ralph': 4820, 'ralphie': 4821, 'tow-joes': 4822, 'territorial': 4823, 'mel': 4824, 'bite': 4825, \"family's\": 4826, 'mixed': 4827, 'powerful': 4828, 'forget-me-shot': 4829, 'means': 4830, 'remembers': 4831, 'process': 4832, 'splash': 4833, 'jaegermeister': 4834, 'add': 4835, 'sloe': 4836, 'triple-sec': 4837, 'quadruple-sec': 4838, 'gunk': 4839, \"dog's\": 4840, 'absolut': 4841, 'stripe': 4842, 'aquafresh': 4843, 'funniest': 4844, 'venom': 4845, 'louisiana': 4846, 'loboto-moth': 4847, 'sweetie': 4848, 'stir': 4849, 'pregnancy': 4850, 'positive': 4851, 'presto:': 4852, 'ultimate': 4853, 'bleacher': 4854, 'slight': 4855, 'menace': 4856, 'swig': 4857, 'wipes': 4858, 'entering': 4859, 'forget-me-drinks': 4860, 'wipe': 4861, 'rickles': 4862, 'arabs': 4863, 'gibson': 4864, 'mexicans': 4865, 'latin': 4866, 'grammys': 4867, 'hispanic_crowd:': 4868, 'jeers': 4869, 'sternly': 4870, 'disturbance': 4871, 'filed': 4872, 'complaint': 4873, 'infor': 4874, 'ripper': 4875, 'doppler': 4876, \"queen's\": 4877, 'surgeonnn': 4878, 'piling': 4879, 'unkempt': 4880, 'obvious': 4881, 'thighs': 4882, 'attractive': 4883, 'spits': 4884, 'bottoms': 4885, 'retain': 4886, 'image': 4887, 'finding': 4888, 'misconstrue': 4889, \"cuckold's\": 4890, 'horns': 4891, 'moon-bounce': 4892, 'amiable': 4893, 'newsies': 4894, 'scruffy_blogger:': 4895, 'internet': 4896, 'access': 4897, 'mouse': 4898, 'politicians': 4899, 'media': 4900, 'issues': 4901, 'declare': 4902, 'frontrunner': 4903, 'mansions': 4904, 'abolish': 4905, 'democracy': 4906, 'dictator': 4907, 'juan': 4908, 'perón': 4909, 'disappeared': 4910, 'madonna': 4911, 'candidate': 4912, 'dennis': 4913, 'kucinich': 4914, 'dennis_kucinich:': 4915, 'twerpy': 4916, 'unbelievably': 4917, 'pockets': 4918, 'share': 4919, 'manuel': 4920, 'fake': 4921, 'moustache': 4922, 'ees': 4923, 'lurleen': 4924, 'jamaican': 4925, 'lurleen_lumpkin:': 4926, 'mild': 4927, 'backing': 4928, 'reminded': 4929, 'rock': 4930, 'quarry': 4931, 'stones': 4932, 'woodchucks': 4933, \"someone's\": 4934, 'mailbox': 4935, 'cell': 4936, 'l': 4937, 'butter': 4938, 'tasty': 4939, 'almond': 4940, 'listens': 4941, 'hangs': 4942, \"lenny's\": 4943, 'shows': 4944, 'midge': 4945, 'sneaky': 4946, 'pity': 4947, 'compromise:': 4948, 'luckiest': 4949, 'remaining': 4950, 'scratcher': 4951, 'winnings': 4952, 'kick-ass': 4953, 'shush': 4954, 'krabappel': 4955, 'difficult': 4956, 'propose': 4957, 'willing': 4958, 'halvsies': 4959, 'lugs': 4960, 'splendid': 4961, 'discuss': 4962, 'weather': 4963, 'gently': 4964, 'way:': 4965, 'unlike': 4966, 'tying': 4967, 'crippling': 4968, 'refinanced': 4969, 'twenty-six': 4970, 'cowboy': 4971, 'encouraged': 4972, 'compared': 4973, 'half-day': 4974, 'encouraging': 4975, 'decent': 4976, 'widow': 4977, 'option': 4978, 'pep': 4979, 'squad': 4980, 'cheered': 4981, 'runners': 4982, 'nineteen': 4983, 'ninety-seven': 4984, 'break-up': 4985, 'doreen': 4986, 'cheated': 4987, 'showered': 4988, 'soaps': 4989, 'massage': 4990, 'oils': 4991, 'doreen:': 4992, \"marge's\": 4993, 'maiden': 4994, 'nicer': 4995, \"she'll\": 4996, 'parenting': 4997, 'childless': 4998, 'available': 4999, 'goodwill': 5000, 'attached': 5001, 'direction': 5002, \"mecca's\": 5003, \"don'tcha\": 5004, 'oughtta': 5005, 'dint': 5006, \"son's\": 5007, \"bashir's\": 5008, 'derek': 5009, 'jeter': 5010, 'mariah': 5011, 'carey': 5012, 'bashir': 5013, 'muslim': 5014, 'espousing': 5015, 'view': 5016, 'fbi_agent:': 5017, 'fayed': 5018, 'arab_man:': 5019, 'statue': 5020, \"liberty's\": 5021, 'dress': 5022, 'principles': 5023, 'discriminate': 5024, 'employment': 5025, 'housing': 5026, 'patriotic': 5027, 'bauer': 5028, 'grimly': 5029, 'bees': 5030, 'sanctuary': 5031, 'lock': 5032, 'super-tough': 5033, 'africanized': 5034, 'african': 5035, 'honeys': 5036, 'combine': 5037, 'environment': 5038, 'dna': 5039, 'strains': 5040, 'species': 5041, 'protesting': 5042, 'meant': 5043, 'inclination': 5044, 'queen': 5045, 'anonymous': 5046, 'multiple': 5047, 'partners': 5048, 'privacy': 5049, 'buzziness': 5050, 'sniffles': 5051, 'vance': 5052, 'connor-politan': 5053, 'oh-so-sophisticated': 5054, 'connor': 5055, 'kidneys': 5056, 'election': 5057, 'guilt': 5058, 'haircuts': 5059, 'graves': 5060, 'dig': 5061, 'ballot': 5062, 'al_gore:': 5063, 'gore': 5064, 'presidential': 5065, 'stolen': 5066, 'nobel': 5067, 'prize': 5068, 'alfred': 5069, 'falsetto': 5070, 'albert': 5071, 'landlord': 5072, 'shower': 5073, 'and-and': 5074, 'getaway': 5075, 'flanders:': 5076, 'expose': 5077, 'dateline': 5078, 'nominated': 5079, 'peabody': 5080, 'exclusive:': 5081, 'forty-two': 5082, 'evergreen': 5083, 'terrace': 5084, 'tiny': 5085, 'slice': 5086, 'suburban': 5087, 'actress': 5088, 'billiard': 5089, 'sadder': 5090, \"spiffin'\": 5091, 'inquiries': 5092, 'enabling': 5093, 'yo': 5094, 'mags': 5095, 'playful': 5096, 'taught': 5097, 'abcs': 5098, 'a-b-': 5099, 'forgets': 5100, 'p-k': 5101, \"s'pose\": 5102, \"wonderin'\": 5103, \"cleanin'\": 5104, 'month': 5105, \"she'd\": 5106, 'defeated': 5107, 'stood': 5108, 'maya:': 5109, 'regretful': 5110, 'correct': 5111, 'term': 5112, 'pleased': 5113, 'tidy': 5114, 'maya': 5115, 'benjamin': 5116, 'life-sized': 5117, 'legoland': 5118, 'cable': 5119, \"stealin'\": 5120, 'chinese_restaurateur:': 5121, 'espn': 5122, 'ling': 5123, 'chow': 5124, 'whether': 5125, 'passenger': 5126, 'incredible': 5127, 'awww': 5128, 'thought_bubble_lenny:': 5129, \"somethin':\": 5130, 'generally': 5131, 'limericks': 5132, 'coast': 5133, 'massachusetts': 5134, 'nantucket': 5135, 'unusual': 5136, 'personal': 5137, 'characteristic': 5138, 'simplest': 5139, 'rhyme': 5140, 'a-a-b-b-a': 5141, 'dumbass': 5142, 'babies': 5143, 'whistling': 5144, 'nonchalantly': 5145, 'chained': 5146, 'tomato': 5147, 'tomahto': 5148, 'comedies': 5149, 'reckless': 5150, 'gesture': 5151, 'blows': 5152, 'sidelines': 5153, \"who'da\": 5154, 'chapter': 5155, 'un-sults': 5156, 'insults': 5157, 'disguised': 5158, 'courage': 5159, 'suspenders': 5160, 'circus': 5161, 'clown-like': 5162, 'insecure': 5163, 'envy-tations': 5164, 'hate-hugs': 5165, 'spamming': 5166, 'faint': 5167, 'praise': 5168, 'frozen': 5169, 'clearly': 5170, 'toledo': 5171, 'take-back': 5172, \"people's\": 5173, 'eager': 5174, 'reviews': 5175, 'happily:': 5176, 'community': 5177, 'playhouse': 5178, 'bathed': 5179, 'hibbert': 5180, 'banquo': 5181, 'glowers': 5182, 'sticking-place': 5183, 'fail': 5184, 'x-men': 5185, '2': 5186, 'macbeth': 5187, 'mac-who': 5188, 'gulliver_dark:': 5189, 'unlucky': 5190, 'bedridden': 5191, 'unable': 5192, 'toe': 5193, 'thought_bubble_homer:': 5194, 'paintings': 5195, 'melodramatic': 5196, 'somewhere': 5197, 'nonsense': 5198, 'training': 5199, 'met': 5200, 'bleeding': 5201, \"murphy's\": 5202, \"pressure's\": 5203, 'yap': 5204, 'bon-bons': 5205, 'declared': 5206, 'microbrew': 5207, 'cobra': 5208, 'solves': 5209, 'tries': 5210, 'cupid': 5211, 'bow': 5212, 'unattended': 5213, 'relax': 5214, 'wing': 5215, 'fl': 5216, 'anguished': 5217, 'helllp': 5218, 'ventriloquism': 5219, 'approval': 5220, 'cure': 5221, 'ails': 5222, 'talk-sings': 5223, 'tastes': 5224, 'cuddling': 5225, 'steaming': 5226, 'cocoa': 5227, 'rainbows': 5228, 'surprised/thrilled': 5229, 'full-bodied': 5230, 'full-blooded': 5231, 'lovely': 5232, 'harmony': 5233, 'loyal': 5234, 'hemoglobin': 5235, \"disrobin'\": 5236, 'rosey': 5237, 'cozy': 5238, 'bubbles-in-my-nose-y': 5239, \"mo'\": 5240, 'kang:': 5241, 'musical': 5242, 'kodos:': 5243, 'measure': 5244, 'distance': 5245, 'unrelated': 5246, 'seductive': 5247, 'cologne': 5248, 'shaved': 5249, 'knuckles': 5250, 'hoping': 5251, 'shakes': 5252, 'handwriting': 5253, 'idioms': 5254, 'begins': 5255, 'midge:': 5256, 'youse': 5257, 'gayer': 5258, 'occurred': 5259, 'timbuk-tee': 5260, 'fast-paced': 5261, 'nibble': 5262, 'teriyaki': 5263, 'frenchman': 5264, 'spoon': 5265, 'duke': 5266, 'amnesia': 5267, 'missing': 5268, 'squeeze': 5269, 'irishman': 5270, 'pretends': 5271, \"o'reilly\": 5272, 'radiator': 5273, 'rebuilt': 5274, 'briefly': 5275, 'uncreeped-out': 5276, 'mines': 5277, 'torn': 5278, 'warn': 5279, 'taste': 5280, 'romance': 5281, 'perverse': 5282, 'hearse': 5283, 'civil': 5284, 'nurse': 5285, 'proof': 5286, 'simultaneous': 5287, 'i/you': 5288, 'finale': 5289, 'possibly': 5290, 'indicates': 5291, 'half-beer': 5292, 'enjoyed': 5293, \"year's\": 5294, 'halloween': 5295, 'treehouse': 5296, 'horror': 5297, 'xx': 5298, 'shhh': 5299, 'habitrail': 5300, 'donuts': 5301, 'meals': 5302, 'philosophical': 5303, 'stranger:': 5304, 'southern': 5305, 'indeed': 5306, 'gator': 5307, 'mccall': 5308, 'gator:': 5309, 'corporate': 5310, 'recruiter': 5311, 'specializes': 5312, 'nuclear': 5313, 'headhunters': 5314, 'valuable': 5315, 'industry': 5316, 'protesters': 5317, 'marched': 5318, 'plants': 5319, 'radiation': 5320, \"poisonin'\": 5321, 'thoughtful': 5322, 'passports': 5323, 'awesome': 5324, 'loafers': 5325, 'hooray': 5326, 'nap': 5327, 'awake': 5328, 'meteor': 5329, 'flexible': 5330, 'marshmallow': 5331, 'dumbest': 5332, \"stabbin'\": 5333, 'humanity': 5334, 'decency': 5335, 'extremely': 5336, 'mocking': 5337, 'official': 5338, 'releasing': 5339, 'hounds': 5340, 'releases': 5341, 'wolverines': 5342, 'horses': 5343, \"eatin'\": 5344, 'wish-meat': 5345, 'bust': 5346, 'exchanged': 5347, 'whispered': 5348, 'huddle': 5349, 'bitterly': 5350, 'nursemaid': 5351, 'saint': 5352, \"elmo's\": 5353, 'reunion': 5354, 'andrew': 5355, 'mccarthy': 5356, 'attend': 5357, 'lied': 5358, 'itchy': 5359, 'type': 5360, 'planted': 5361, 'lou:': 5362, 'chair': 5363, 'refill': 5364, 'cozies': 5365, 'sassy': 5366, 'cushions': 5367, 'cushion': 5368, 'flash': 5369, 'drives': 5370, 'data': 5371, 'hammy': 5372, 'estranged': 5373, \"tomorrow's\": 5374, 'forecast': 5375, 'is:': 5376, 'partly': 5377, 'cloudy': 5378, 'sunny': 5379, 'guessing': 5380, 'golf': 5381, 'ball-sized': 5382, 'hail': 5383, 'continuing': 5384, 'thunder': 5385, 'storms': 5386, 'exultant': 5387, 'woo-hoo': 5388, 'ahem': 5389, 'electronic': 5390, 'wagering': 5391, 'cameras': 5392, 'installed': 5393, \"america's\": 5394, \"blowin'\": 5395, 'homeland': 5396, 'zero': 5397, 'mm-hmm': 5398, 'tsk': 5399, 'tsking': 5400, 'presided': 5401, 'suave': 5402, 'debonair': 5403, 'offa': 5404, \"narratin'\": 5405, 'tale': 5406, 'restroom': 5407, 'cricket': 5408, 'uniforms': 5409, 'rain': 5410, 'rules': 5411, 'calm': 5412, \"'pu\": 5413, 'she-pu': 5414, 'everyday': 5415, 'mimes': 5416, 'sitar': 5417, 'smallest': 5418, 'saving': 5419, 'gheet': 5420, 'sympathetic': 5421, 'darjeeling': 5422, 'limited': 5423, 'slightly': 5424, 'low-blow': 5425, 'boxer:': 5426, 'pre-recorded': 5427, 'nards': 5428, 'rug': 5429, \"mother's\": 5430, 'panicked': 5431, 'carny:': 5432, 'teacup': 5433, 'whispers': 5434, 'rutabaga': 5435, 'soup': 5436, 'putty': 5437, 'padre': 5438, 'innocuous': 5439, 'flashbacks': 5440, 'grim': 5441, 'ferry': 5442, 'pointedly': 5443, 'lovejoy': 5444, 'ralph_wiggum:': 5445, 'popping': 5446, 'man_with_crazy_beard:': 5447, 'lloyd': 5448, 'outrageous': 5449, 'beard': 5450, 'expense': 5451, 'beards': 5452, \"askin'\": 5453, 'scatter': 5454, 'cockroaches': 5455, 'candy': 5456, 'scary': 5457, 'rip': 5458, 'stretch': 5459, 'tee': 5460, 'california': 5461, 'judgments': 5462, 'legally': 5463, 'beep': 5464, 'side:': 5465, 'fox': 5466, 'murdoch': 5467, 'rupert_murdoch:': 5468, 'jay': 5469, 'leno': 5470, 'jay_leno:': 5471, 'iran': 5472, 'weapon': 5473, 'rig': 5474, 'leak': 5475, 'disappear': 5476, 'nbc': 5477, 'howya': 5478, 'strategy': 5479, 'button-pusher': 5480, 'obama': 5481, 'answers': 5482, 'frustrated': 5483, 'booth': 5484, 'gary:': 5485, 'cliff': 5486, 'lee': 5487, 'zack': 5488, 'grenky': 5489, 'grienke': 5490, 'completely': 5491, 'colossal': 5492, 'exception:': 5493, 'fourth': 5494, 'inning': 5495, 'domed': 5496, 'bunion': 5497, 'notably': 5498, 'ineffective': 5499, 'sport': 5500, 'portentous': 5501, 'dexterous': 5502, 'understood': 5503, 'poin-dexterous': 5504, 'laid': 5505, 'doug:': 5506, 'key': 5507, 'sabermetrics': 5508, 'developed': 5509, 'statistician': 5510, 'bill_james:': 5511, 'taxes': 5512, 'eight-year-old': 5513, 'ballclub': 5514, 'sagacity': 5515, 'stengel': 5516, 'single-mindedness': 5517, 'steinbrenner': 5518, 'stein-stengel-': 5519, 'stats': 5520, 'ratio': 5521, 'occupied': 5522, 'sobo': 5523, 'conversion': 5524, 'factor': 5525, 'refreshingness': 5526, 'effervescence': 5527, 'benjamin:': 5528, 'minus': 5529, 'rueful': 5530, 'advertise': 5531, 'specials': 5532, 'scientific': 5533, 'annus': 5534, 'horribilis': 5535, \"others'\": 5536, 'resolution': 5537, 'fixes': 5538, 'fixed': 5539, 'courthouse': 5540, 'compare': 5541, 'exquisite': 5542, 'reward': 5543, 'planned': 5544, 'scotch': 5545, 'addiction': 5546, 'compels': 5547, 'executive': 5548, 'assistant': 5549, 'average-looking': 5550, '_burns_heads:': 5551, 'admiration': 5552, 'self-made': 5553, 'suspect': 5554, 'hangout': 5555, 'proposing': 5556, 'offense': 5557, 'whatchamacallit': 5558, 'swishkabobs': 5559, \"grandmother's\": 5560, 'urinal': 5561, \"getting'\": 5562, 'renovations': 5563, \"friend's\": 5564, 'lainie:': 5565, 'carlotta:': 5566, 'drop': 5567, 'jägermeister': 5568, 'pink': 5569, 'lemonade': 5570, 'strawberry': 5571, 'chapstick': 5572, \"cupid's\": 5573, 'wazoo': 5574, 'drains': 5575, 'plans': 5576, 'scram': 5577, 'crinkly': 5578, 'weak': 5579, 'opening': 5580, 'hitler': 5581, 'eva': 5582, 'braun:': 5583, \"man's_voice:\": 5584, 'huhza': 5585, '_kissingher:': 5586, '3': 5587, 'whoopi': 5588, 'seminar': 5589, 'motor': 5590, 'lodge': 5591, 'tornado': 5592, 'kissingher': 5593, 'earth': 5594, 'casting': 5595, 'pall': 5596, 'dungeon': 5597, 'serum': 5598, 'walther_hotenhoffer:': 5599, 'walther': 5600, 'hotenhoffer': 5601, 'pharmaceutical': 5602, 'occupation': 5603, 'renders': 5604, 'tolerable': 5605, 'normals': 5606, 'irrelevant': 5607, 'stern': 5608, 'elaborate': 5609, 'extract': 5610, 'synthesize': 5611, 'scrutinizes': 5612, 'waltz': 5613, 'grease': 5614, 'suspicious': 5615, 'germans': 5616, 'roz:': 5617, 'text': 5618, 'when-i-get-a-hold-of-you': 5619, 'dammit': 5620, 'typed': 5621, 'f': 5622, 'rapidly': 5623, 'delete': 5624, 'donated': 5625, 'haiti': 5626, '_zander:': 5627, 'burps': 5628, \"y'see\": 5629, 'pushes': 5630, 'strangles': 5631, 'relieved': 5632, 'suing': 5633, 'therapist': 5634, 'sue': 5635, 'hollowed-out': 5636, 'tree': 5637, 'contented': 5638, 'skeptical': 5639, 'therapy': 5640, 'phony': 5641, 'grin': 5642, 'plastered': 5643, 'foibles': 5644, 'freaky': 5645, 'slipped': 5646, 'mickey': 5647, 'churchy': 5648, 'boneheaded': 5649, 'brainheaded': 5650, 'fence': 5651, 'relationship': 5652, 'twin': 5653, 'hall': 5654, 'sheet': 5655, 'wistful': 5656, 'prayers': 5657, 'choked': 5658, 'dreamed': 5659, 'iddilies': 5660, 'diddilies': 5661, 'christian': 5662, 'wuss': 5663, 'confession': 5664, 'make:': 5665, 'solely': 5666, 'noble': 5667, 'intention': 5668, 'two-thirds-empty': 5669, 'poetry': 5670, 'multi-purpose': 5671, 'email': 5672, 'edna-lover-one-seventy-two': 5673, 'lowest': 5674, 'joey_kramer:': 5675, \"edna's\": 5676, 'kramer': 5677, 'drummer': 5678, 'gulps': 5679, 'plucked': 5680, 'wikipedia': 5681, 'frankenstein': 5682, 'neighbor': 5683, 'neighboreeno': 5684, 'plain': 5685, 'bagged': 5686, 'tiger': 5687, 'wayne:': 5688, 'completing': 5689, \"other's\": 5690, 'prompting': 5691, 'sen': 5692, 'cesss': 5693, 'surprising': 5694, 'entrance': 5695, 'jewelry': 5696, 'pronto': 5697, 'drawer': 5698, \"linin'\": 5699, 'presidents': 5700, 'upgrade': 5701, 'wayne': 5702, 'commanding': 5703, 'appropriate': 5704, 'reaction': 5705, 'sooo': 5706, 'fresco': 5707, 'stealings': 5708, \"speakin'\": 5709, 'farthest': 5710, 'narrator:': 5711, 'drove': 5712, 'roz': 5713, 'ditched': 5714, 'lady-free': 5715, 'eighty-three': 5716, 'souvenir': 5717, 'sizes': 5718, 'hare-brained': 5719, 'schemes': 5720, 'pillows': 5721, 'adopted': 5722, 'capuchin': 5723, 'monkey': 5724, 'bonding': 5725, 'phase': 5726, 'crew': 5727, 'safecracker': 5728, 'caper': 5729, 'fantasy': 5730, 'novel': 5731, 'brag': 5732, 'publish': 5733, 'modestly': 5734, \"children's\": 5735, 'books': 5736, 'lucinda': 5737, 'placed': 5738, 'fifth': 5739, 'shard': 5740, 'stained-glass': 5741, 'read:': 5742, \"'your\": 5743, 'parents': 5744, \"'\": 5745, 'gregor': 5746, 'understood:': 5747, 'journey': 5748, 'reader': 5749, 'selection': 5750, 'steampunk': 5751, 'frink-y': 5752, 'mock-up': 5753, 'title': 5754, 'twins': 5755, 'underbridge': 5756, 'academy': 5757, 'neil_gaiman:': 5758, 'tuna': 5759, 'itself': 5760, 'square': 5761, 'kansas': 5762, 'golden': 5763, 'vulnerable': 5764, 'literary': 5765, 'lis': 5766, 'milhouses': 5767, 'jacksons': 5768, 'xanders': 5769, 'aidens': 5770, 'dreamy': 5771, 'aiden': 5772, 'copy': 5773, 'vampire': 5774, 'transylvania': 5775, 'prep': 5776, 'trolls': 5777, 'vampires': 5778, 'brooklyn': 5779, 'fuzzlepitch': 5780, 'bloodball': 5781, 'lame': 5782, 'publishers': 5783, 'sistine': 5784, 'chapel': 5785, 'mural': 5786, 'hems': 5787, 'haws': 5788, \"hasn't\": 5789, 'watched': 5790, 'bluff': 5791, 'conversations': 5792, 'annie': 5793, 'meaning': 5794, 'lenny:': 5795, 'carl:': 5796, 'brain-switching': 5797, 'ceremony': 5798, 'carll': 5799, 'sleeping': 5800, 'switched': 5801, 'dashes': 5802, 'lennyy': 5803, 'website': 5804, 'safer': 5805, 'sheets': 5806, 'wind': 5807, 'dignified': 5808, 'stumble': 5809, 'typing': 5810, 'lead': 5811, 'pledge': 5812, 'allegiance': 5813, 'conclude': 5814, 'thanking': 5815, 'hosting': 5816, 'fumigated': 5817, 'bedbugs': 5818, 'er': 5819, 'adjourned': 5820, 'convenient': 5821, 'duty': 5822, 'sangre': 5823, 'de': 5824, 'los': 5825, 'muertos': 5826, 'friend:': 5827, 'mexican': 5828, 'mexican_duffman:': 5829, 'ho-la': 5830, 'pepto-bismol': 5831, 'facebook': 5832, 'intense': 5833, 'scrubbing': 5834, 'rag': 5835, 'hardy': 5836, 'unhappy': 5837, 'friendship': 5838, 'taxi': 5839, \"crawlin'\": 5840, 'wears': 5841, 'nemo': 5842, 'brace': 5843, 'bar_rag:': 5844, 'lear': 5845, 'be-stainèd': 5846, 'swatch': 5847, 'gentles': 5848, 'begin': 5849, 'medieval': 5850, 'self-satisfied': 5851, 'tapestry': 5852, 'sponge:': 5853, 'gutenberg': 5854, 'bartholomé:': 5855, 'maman': 5856, 'failed': 5857, 'lise:': 5858, 'marguerite:': 5859, 'overstressed': 5860, 'helps': 5861, 'recap:': 5862, 'unjustly': 5863, 'lofty': 5864, 'perch': 5865, 'wound': 5866, 'barter': 5867, 'persia': 5868, 'raggie': 5869, 'cheese': 5870, 'degradation': 5871, 'continued': 5872, 'enterprising': 5873, 'seamstress': 5874, 'fledgling': 5875, 'nation': 5876, 'thousand-year': 5877, 'grace': 5878, 'predictable': 5879, 'startled': 5880, 'sensitivity': 5881, 'jobless': 5882, 'washouts': 5883, 'error': 5884, 'blamed': 5885, 'violin': 5886, 'rent': 5887, 'pizzicato': 5888, 'buyer': 5889, 'specified': 5890, 'heading': 5891, 'stepped': 5892, 'done:': 5893, 'arguing': 5894, 'guts': 5895, 'rationalizing': 5896, 'pack': 5897, 'raccoons': 5898, 'adjust': 5899, 'runaway': 5900, 'monorails': 5901, 'nascar': 5902, 'gordon': 5903, 'jeff_gordon:': 5904, \"plank's\": 5905, 'land': 5906, 'traitors': 5907, 'lou': 5908, 'eliminate': 5909, 'bulldozing': 5910, 'tire': 5911, 'sinkhole': 5912, 'administration': 5913, 'solved': 5914, 'filled': 5915, 'fears': 5916, 'most:': 5917, \"s'okay\": 5918, 'nuked': 5919, 'swimmers': 5920, 'shame': 5921, 'wrap': 5922, 'plums': 5923, 'tin': 5924, 'philosophic': 5925, 'samples': 5926, 'shelbyville': 5927, 'sperm': 5928, 'necklace': 5929, 'eww': 5930, 'fund': 5931, 'rolled': 5932, 'lend': 5933, 'sesame': 5934, 'kermit': 5935, 'trench': 5936, 'frog': 5937, 'frogs': 5938, 'keeps': 5939, 'settles': 5940, 'woe:': 5941, 'gamble': 5942, \"daughter's\": 5943, 'poker': 5944, 'fdic': 5945, 'grubby': 5946, 'site': 5947, 'onion': 5948, 'rings': 5949, 'badmouth': 5950, 'country': 5951, 'prettiest': 5952, \"aristotle's\": 5953, 'poetics': 5954, 'rice': 5955, 'promotion': 5956, 'dan_gillick:': 5957, 'poured': 5958, 'hooky': 5959, 'throats': 5960, 'grind': 5961, 'crunch': 5962, 'nature': 5963, 'dipping': 5964, 'edge': 5965, 'groveling': 5966, 'brown': 5967, 'wiggle-frowns': 5968, 'abusive': 5969, 'cowardly': 5970, 'tolerance': 5971, 'dejected_barfly:': 5972, 'slurred': 5973, 'hammock': 5974, 'bleak': 5975, 'outlook': 5976, 'icy': 5977, 'chill': 5978, 'dropping': 5979, 'janette': 5980, 'cheryl': 5981, 'rotten': 5982, 'pretend': 5983, 'improv': 5984, 'imaginary': 5985, 'motorcycle': 5986, 'belly': 5987, 'chip': 5988, 'ends': 5989, 'skydiving': 5990, \"pullin'\": 5991, 'ripcord': 5992, 'app': 5993, 'random': 5994, 'occurrence': 5995, 'reached': 5996, 'squeezed': 5997, 'sap': 5998, \"choosin'\": 5999, 'adequate': 6000, 'carnival': 6001, 'so-called': 6002, 'miracle': 6003, \"tree's\": 6004, 'disillusioned': 6005, '7-year-old_brockman:': 6006, 'reporter': 6007, 'kenny': 6008, 'brockelstein': 6009, 'investigating': 6010, 'cartoons': 6011, 'thirty-three': 6012, 'short_man:': 6013, 'gruff': 6014, 'muttering': 6015, 'rancid': 6016, 'innocence': 6017, 'plywood': 6018, 'man_with_tree_hat:': 6019, 'hoax': 6020, 'tree_hoper:': 6021, 'hats': 6022, 'crappy': 6023, 'pretentious_rat_lover:': 6024, 'manchego': 6025, 'aziz': 6026, 'despite': 6027, 'civilization': 6028, 'anarchy': 6029, 'lurks': 6030, 'racially-diverse': 6031, 'network': 6032, 'lloyd:': 6033, 'experienced': 6034, 'w': 6035, 'r': 6036, 'acronyms': 6037, 'kinderhook': 6038, 'collapse': 6039, 'rome': 6040, 'inexorable': 6041, 'march': 6042, 'progress': 6043, '_eugene_blatz:': 6044, 'slaves': 6045, 'supermarket': 6046, 'starve': 6047, 'unsourced': 6048, 'undated': 6049, 'convinced': 6050, 'beyond': 6051, 'suspended': 6052, 'voodoo': 6053, 'curse': 6054, 'gestated': 6055, 'popped': 6056, 'acquitted': 6057, 'nightmare': 6058, 'in-ground': 6059, \"readin'\": 6060, 'shades': 6061, 'grey': 6062, 'chicks': 6063, 'what-for': 6064, 'fiction': 6065, 'sheriff': 6066, 'kissed': 6067, 'said:': 6068, 'imitating': 6069, 'griffith': 6070, \"'now\": 6071, 'aunt': 6072, 'asks': 6073, \"fishin'\": 6074, \"hole'\": 6075, 'wooden': 6076, 'argue': 6077, 'stirrers': 6078, '_hooper:': 6079, 'theater': 6080, 'holy': 6081, 'faiths': 6082, 'easy-going': 6083, 'offshoot': 6084, 'protestantism': 6085, 'handler': 6086, \"thing's\": 6087, 'rims': 6088, 'ribbon': 6089, 'cherry': 6090, 'blurbs': 6091, 'sedaris': 6092, 'flack': 6093, 'pews': 6094, 'deacon': 6095, 'catholic': 6096, 'priest': 6097, 'sexton': 6098, 'rector': 6099, 'whim': 6100, \"nothin's\": 6101, 'important': 6102, 'mid-conversation': 6103, 'padres': 6104, 'tigers': 6105, 'polygon': 6106, 'hexa-': 6107, 'octa-': 6108, 'decide:': 6109, 'loudly': 6110, \"beggin'\": 6111, 'legend': 6112, 'warm_female_voice:': 6113, 'buzz': 6114, 'recorded': 6115, 'options': 6116, 'carefully': 6117, 'committing': 6118, 'vacuum': 6119, 'cleaner': 6120, 'press': 6121, 'life-extension': 6122, 'male_singers:': 6123, 'painless': 6124, 'brings': 6125, 'delays': 6126, 'ron': 6127, 'moe-ron': 6128, 'tie': 6129, 'libraries': 6130, 'newspaper': 6131, 'rods': 6132, 'compressions': 6133, 'gees': 6134, 'singing/pushing': 6135, \"stayin'\": 6136, 'living': 6137, 'fools': 6138, 'belong': 6139, 'lease': 6140, 'post-suicide': 6141, 'afterglow': 6142, 'shorter': 6143, 'applesauce': 6144, 'leaving': 6145, 'choked-up': 6146, 'passes': 6147, 'reentering': 6148, 'noosey': 6149, 'noose': 6150, 'worldview': 6151, 'cleaning': 6152, 'growing': 6153, 'carpet': 6154, 'layer': 6155, 'congoleum': 6156, 'hardwood': 6157, 'jig': 6158, 'improved': 6159, 'non-losers': 6160, 'getcha': 6161, 'glen:': 6162, 'aged': 6163, 'ken:': 6164, 'venture': 6165, 'capitalists': 6166, 'dreams': 6167, 'mostly': 6168, 'kentucky': 6169, 'kool': 6170, 'aid': 6171, 'fantastic': 6172, 'startup': 6173, 'branding': 6174, 'specialists': 6175, 'touch': 6176, 'rafter': 6177, 'comforting': 6178, 'holidays': 6179, 'expensive': 6180, 'beer:': 6181, 'platinum': 6182, 'paste': 6183, 'hairs': 6184, 'youth': 6185, 'babar': 6186, 'elephants': 6187, 'confidential': 6188, 'cousin': 6189, 'celeste': 6190, 'takeaway': 6191, 'royal': 6192, 'trainers': 6193, 'average': 6194, 'schmoe': 6195, \"can't-believe-how-bald-he-is\": 6196, 'science': 6197, 'exhibit': 6198, 'brothers': 6199, 'hunger': 6200, \"games'd\": 6201, 'womb': 6202, 'life:': 6203, 'ninety-six': 6204, \"number's\": 6205, 'twenty-two': 6206, 'sixty-nine': 6207, 'winning': 6208, 'celebrate': 6209, \"ragin'\": 6210, 'mini-dumpsters': 6211, 'wings': 6212, 'gasoline': 6213, 'build': 6214, 'swimming': 6215, 'freaking': 6216, \"cashin'\": 6217, \"carl's\": 6218, 'safety': 6219, 'ripped': 6220, 'tense': 6221, 'voicemail': 6222, 'offensive': 6223, 'sickened': 6224, 'moolah-stealing': 6225, 'jackpot-thief': 6226, \"something's\": 6227, 'reflected': 6228, 'lenses': 6229, 'sunglasses': 6230, 'geyser': 6231, 'strokkur': 6232, 'geysir': 6233, 'minors': 6234, 'fat_in_the_hat:': 6235, 'pawed': 6236, 'skunk': 6237, 'furry': 6238, 'knit': 6239, 'thnord': 6240, 'leathery': 6241, 'spied': 6242, 'hidden': 6243, 'selfish': 6244, 'radioactive': 6245, 'hellhole': 6246, 'superpower': 6247, 'whoa-ho': 6248, 'looooooooooooooooooong': 6249, 'experience': 6250, 'schedule': 6251, 'hers': 6252, 'bump': 6253, 'ideas': 6254, 'divorced': 6255, 'senator': 6256, 'senators': 6257, 'reliable': 6258, 'source': 6259, 's-a-u-r-c-e': 6260, 'touches': 6261, 'earpiece': 6262, 'senators:': 6263, 'abercrombie': 6264, 'billingsley': 6265, 'beaumont': 6266, \"plaster's\": 6267, 'flaking': 6268, 'lay': 6269, \"stallin'\": 6270, 'groans': 6271, 'squeals': 6272, 'omigod': 6273, 'brother': 6274, 'liser': 6275, 'cletus_spuckler:': 6276, 'conditioning': 6277, 'barkeeps': 6278, 'gin-slingers': 6279, 'beer-jerks': 6280, 'compete': 6281, 'stores': 6282, 'hooch': 6283, 'cap': 6284, 'superhero': 6285, 'masks': 6286, 'uninhibited': 6287, 'invulnerable': 6288, 'shuts': 6289, 'nick': 6290, 'fury': 6291, 'batmobile': 6292, 'wolveriskey': 6293, \"'ere\": 6294, 'portfolium': 6295, \"boy's\": 6296, 'knock-up': 6297, 'powers': 6298, 'created': 6299, 'virility': 6300, 'virile': 6301, \"brady's\": 6302, 'libido': 6303, 'rocks': 6304, 'sets': 6305, 'legs:': 6306, 'kidnaps': 6307, 'grateful': 6308, \"must've\": 6309, 'corn': 6310, 'pigs': 6311, 'eighty-five': 6312, 'goal': 6313, 'refresh': 6314, 'nfl_narrator:': 6315, 'breathtaking': 6316, 'ignorance': 6317, 'dislike': 6318, 'rookie': 6319, 'housewife': 6320, 'savvy': 6321, 'veteran': 6322, \"tv'll\": 6323, \"yesterday's\": 6324, 'whatsit': 6325, 'express': 6326, 'lifestyle': 6327, 'contract': 6328, 'fast-food': 6329, 'hibachi': 6330, \"how're\": 6331, 'bender:': 6332, 'transfer': 6333, 'hyper-credits': 6334, 'ding-a-ding-ding-ding-ding-ding-ding': 6335, 'ding-a-ding-ding-a-ding-ding': 6336, 'blade': 6337, 'spender': 6338, 'gossipy': 6339, 'jukebox_record:': 6340, 'robot': 6341, 'incapable': 6342, 'emotion': 6343, 'terrifying': 6344, 'quebec': 6345, 'nordiques': 6346, 'spooky': 6347, 'colorado': 6348, 'avalanche': 6349, \"toot's\": 6350, 'verdict': 6351, 'overturned': 6352, 'sequel': 6353, 'neon': 6354, 'repairman': 6355, 'mall': 6356, 'bolting': 6357, 'wrapped': 6358, 'shoulders': 6359, 'si-lent': 6360, 'ho-ly': 6361, 'eve': 6362, \"moe's_thoughts:\": 6363, \"startin'\": 6364, 'gift:': 6365, 'shrieks': 6366, 'angrily': 6367, 'wenceslas': 6368, 'karaoke_machine:': 6369, 'doooown': 6370, 'santa': 6371, 'weight': 6372, 'thirty-nine': 6373, \"foolin'\": 6374, 'car:': 6375, 'habit': 6376, 'hateful': 6377, 'chubby': 6378, 'chunky': 6379, 'blobbo': 6380, 'slobbo': 6381, 'michelin': 6382, 'stay-puft': 6383, 'chumbawamba': 6384, 'balloon': 6385, 'papa': 6386, 'grandé': 6387, 'augustus': 6388, 'gloop': 6389, 'beached': 6390, 'whale': 6391, 'boned': 6392, 'wisconsin': 6393, 'skinny': 6394, 'butterball': 6395, 'dumptruck': 6396, 'jelly': 6397, 'pudgy': 6398, 'wudgy': 6399, 'lard': 6400, 'blubberino': 6401, 'buddha': 6402, 'tubman': 6403, 'ton': 6404, 'page': 6405, 'blob': 6406, 'saget': 6407, 'chub': 6408, 'hub': 6409, 'calvin': 6410, 'manfred': 6411, 'manboobs': 6412, '21': 6413, 'lump': 6414, 'fatso': 6415, 'harvey': 6416, 'obese': 6417, 'cannoli': 6418, 'mahatma': 6419, 'gumbo': 6420, 'salvador': 6421, 'deli': 6422, 'elmer': 6423, 'pantry': 6424, 'sponge': 6425, 'snackie': 6426, 'onassis': 6427, 'foodie': 6428, 'hoagie': 6429, 'carmichael': 6430, 'load': 6431, 'belts': 6432, 'homunculus': 6433, \"feelin's\": 6434, 'goblins': 6435, 'pridesters:': 6436, 'movement': 6437, 'drinking:': 6438, 'relaxed': 6439, 'apron': 6440, 'limber': 6441, \"tap-pullin'\": 6442, 'hook': 6443, 'sideshow': 6444, 'laney': 6445, 'fontaine': 6446, 'brassiest': 6447, 'vulgar': 6448, 'fulla': 6449, 'jimmy': 6450, 'stewart': 6451, 'super-nice': 6452, \"can'tcha\": 6453, 'items': 6454, 'shells': 6455, 'lime': 6456, \"high-falutin'\": 6457, 'theatah': 6458, 'exits': 6459, 'nickels': 6460, 'sight': 6461, 'tomatoes': 6462, 'bachelorette': 6463, 'lady_duff:': 6464, 'hearing': 6465, 'interesting': 6466, 'clubs': 6467, 'book_club_member:': 6468, \"lovers'\": 6469, 'spiritual': 6470, 'other_book_club_member:': 6471, 'liven': 6472, 'laney_fontaine:': 6473, 'charming': 6474, 'whaaaa': 6475, 'craphole': 6476, 'bones': 6477, 'dazed': 6478, 'bounced': 6479, 'sass': 6480, 'heaving': 6481, \"coaster's\": 6482, 'mouths': 6483, \"snappin'\": 6484, 'ruint': 6485, \"i-i'll\": 6486, 'savings': 6487, 'rubbed': 6488, 'defected': 6489, 'north': 6490, 'korea': 6491, 'dae': 6492, 'pickles': 6493, 'background': 6494, 'ummmmmmmmm': 6495, 'ehhhhhhhh': 6496, 'errrrrrr': 6497, 'ehhhhhhhhh': 6498, 'ehhhhhh': 6499, 'kay': 6500, 'apply': 6501, 'jerking': 6502, 'chunk': 6503, 'oak': 6504, 'poplar': 6505, 'knowledge': 6506, 'wood': 6507, 'smile:': 6508, 'baritone': 6509, 'something:': 6510, 'elizabeth': 6511, 'kemi:': 6512, 'africa': 6513, 'languages': 6514, 'snorts': 6515, 'portuguese': 6516, 'eu': 6517, 'não': 6518, 'quero': 6519, 'dizer': 6520, 'para': 6521, 'mostrar': 6522, 'je': 6523, 'ne': 6524, 'veux': 6525, 'pas': 6526, 'montrer': 6527, 'refiero': 6528, 'presumir': 6529, 'watashi': 6530, 'wa': 6531, 'koji': 6532, 'suru': 6533, 'wakede': 6534, 'arimasen': 6535, 'scrape': 6536, 'majesty': 6537, 'notice': 6538, 'nigeria': 6539, 'repressed': 6540, 'level': 6541, 'spelling': 6542, 'grammar': 6543, 'ze-ro': 6544, 'kemi': 6545, 'nigerian': 6546, 'princess': 6547, 'prince': 6548, 'trashed': 6549, 'happens': 6550, 'cruiser': 6551, 'answered': 6552, 'tank': 6553, 'gil_gunderson:': 6554, 'princesses': 6555, 'mumble': 6556, 'conclusions': 6557, 'tied': 6558, 'jernt': 6559, 'elocution': 6560, 'pronounce': 6561, 'over-pronouncing': 6562, 'online': 6563, 'pernt': 6564, 'tease': 6565, 'thrown': 6566, 'rom': 6567, 'coms': 6568, 'wheels': 6569, 'witches': 6570, \"treatin'\": 6571, 'familiar': 6572, 'countryman': 6573, 'chinua': 6574, 'achebe': 6575, 'apart': 6576, 'ease': 6577, 'optimistic': 6578, 'literature': 6579, 'amused': 6580, 'comment': 6581, 'yawns': 6582, 'eaten': 6583, 'string': 6584, 'eats': 6585, 'stretches': 6586, 'stuck': 6587, 'goodnight': 6588, 'moon': 6589, 'dregs': 6590, 'bugs': 6591, 'mice': 6592, 'treats': 6593, 'bar:': 6594, 'cab': 6595, 'scooter': 6596, 'waist': 6597, 'shyly': 6598, 'lifts': 6599, 'index': 6600, 'examples': 6601, 'albeit': 6602, 'depressing': 6603, 'bedtime': 6604, 'premise': 6605, \"cheerin'\": 6606, 'pine': 6607, 'suffering': 6608, 'silence': 6609, 'rafters': 6610, 'aged_moe:': 6611, 'badly': 6612, 'smiles': 6613, 'divine': 6614, 'troy:': 6615, 'four-star': 6616, 'brother-in-law': 6617, 'young_homer:': 6618, 'nachos': 6619, 'triangle': 6620, 'atari': 6621, 'oblivious': 6622, 'aims': 6623, 'dumpster': 6624, 'gags': 6625, 'teenage_homer:': 6626, 'psst': 6627, 'asleep': 6628, 'mellow': 6629, 'teenage_bart:': 6630, 'aghast': 6631, 'grade': 6632, 'adult_bart:': 6633, \"homer's_brain:\": 6634, 'kirk_voice_milhouse:': 6635, 'milks': 6636, 'lumpa': 6637, 'coal': 6638, 'stocking': 6639, 'sucking': 6640, 'getup': 6641, 'part-time': 6642, 'selective': 6643, 'punk': 6644, 'someday': 6645, 'reaches': 6646, 'pocket': 6647, 'opens': 6648, 'whoops': 6649, 'explanation': 6650, 'boxing_announcer:': 6651, 'anxious': 6652, 'bloodiest': 6653, 'thirsty': 6654, 'log': 6655, 'eddie': 6656, 'eddie:': 6657, 'pretzels': 6658, 'peeping': 6659, 'toms': 6660, 'terrorizing': 6661, 'neighborhood': 6662, 'scent': 6663, 'bobo': 6664, 'wieners': 6665, 'figures': 6666, 'disappointment': 6667, 'onto': 6668, 'dealt': 6669, 'control': 6670, 'tremendous': 6671, 'tv-station_announcer:': 6672, 'marvin': 6673, \"monroe's\": 6674, 'tv_wife:': 6675, 'tv_husband:': 6676, 'this:': 6677, 'small_boy:': 6678, 'furiously': 6679, '_marvin_monroe:': 6680, 'monroe': 6681, 'gimmicks': 6682, 'pills': 6683, 'fad': 6684, 'diets': 6685, 'bliss': 6686, '1-800-555-hugs': 6687, \"life's\": 6688, 'heh-heh': 6689, 'thru': 6690, 'runt': 6691, 'gut': 6692, 'tragedy': 6693, 'ohhhh': 6694, 'hottest': 6695, 'heave-ho': 6696, 'dingy': 6697, 'flophouse': 6698, 'koholic': 6699, 'yellow-belly': 6700, 'jackass': 6701, \"'er\": 6702, 'hunka': 6703, 'beef': 6704, 'contemplates': 6705, 'jams': 6706, 'yells': 6707, 'drunkenly': 6708, \"larry's\": 6709, 'difference': 6710, 'slop': 6711, 'hose': 6712, 'beings': 6713, 'candles': 6714, 'tablecloth': 6715, 'drift': 6716, 'deals': 6717, 'capitol': 6718, \"dyin'\": 6719, 'curiosity': 6720, \"c'mom\": 6721, 'employees': 6722, 'spouses': 6723, 'decision': 6724, 'simpsons': 6725, 'faced': 6726, \"should've\": 6727, 'listened': 6728, 'bites': 6729, 'oooh': 6730, \"costume's\": 6731, 'ape-like': 6732, 'saga': 6733, 'riveting': 6734, 'humiliation': 6735, \"rasputin's\": 6736, \"professor's\": 6737, 'patented': 6738, 'coma': 6739, 'show-off': 6740, 'muscles': 6741, 'engraved': 6742, 'richard:': 6743, 'audience:': 6744, 'tv_announcer:': 6745, 'ref': 6746, 'issuing': 6747, 'warning': 6748, 'rasputin': 6749, 'referee': 6750, 'permitting': 6751, 'smitty:': 6752, 'squabbled': 6753, 'washed': 6754, 'refreshment': 6755, 'trustworthy': 6756, 'sharing': 6757, 'birthplace': 6758, 'roy': 6759, 'scum-sucking': 6760, 'pus-bucket': 6761, 'eyeballs': 6762, 'often': 6763, 'bull': 6764, 'connection': 6765, 'lighten': 6766, 'ironic': 6767, 'snotty': 6768, 'sister-in-law': 6769, 'picky': 6770, 'blur': 6771, 'patty': 6772, 'decided': 6773, 'happiness': 6774, 'pancakes': 6775, 'disdainful': 6776, 'heals': 6777, 'wounds': 6778}\n"
     ]
    }
   ],
   "source": [
    "\"\"\"\n",
    "DON'T MODIFY ANYTHING IN THIS CELL\n",
    "\"\"\"\n",
    "# Preprocess Training, Validation, and Testing Data\n",
    "helper.preprocess_and_save_data(data_dir, token_lookup, create_lookup_tables)"
   ]
  },
  {
   "cell_type": "markdown",
   "metadata": {
    "deletable": true,
    "editable": true
   },
   "source": [
    "# Check Point\n",
    "This is your first checkpoint. If you ever decide to come back to this notebook or have to restart the notebook, you can start from here. The preprocessed data has been saved to disk."
   ]
  },
  {
   "cell_type": "code",
   "execution_count": 12,
   "metadata": {
    "collapsed": true,
    "deletable": true,
    "editable": true
   },
   "outputs": [],
   "source": [
    "\"\"\"\n",
    "DON'T MODIFY ANYTHING IN THIS CELL\n",
    "\"\"\"\n",
    "import helper\n",
    "import numpy as np\n",
    "import problem_unittests as tests\n",
    "\n",
    "int_text, vocab_to_int, int_to_vocab, token_dict = helper.load_preprocess()"
   ]
  },
  {
   "cell_type": "markdown",
   "metadata": {
    "deletable": true,
    "editable": true
   },
   "source": [
    "## Build the Neural Network\n",
    "You'll build the components necessary to build a RNN by implementing the following functions below:\n",
    "- get_inputs\n",
    "- get_init_cell\n",
    "- get_embed\n",
    "- build_rnn\n",
    "- build_nn\n",
    "- get_batches\n",
    "\n",
    "### Check the Version of TensorFlow and Access to GPU"
   ]
  },
  {
   "cell_type": "code",
   "execution_count": 13,
   "metadata": {
    "collapsed": false,
    "deletable": true,
    "editable": true
   },
   "outputs": [
    {
     "name": "stdout",
     "output_type": "stream",
     "text": [
      "TensorFlow Version: 1.0.0\n"
     ]
    },
    {
     "name": "stderr",
     "output_type": "stream",
     "text": [
      "/usr/local/Cellar/python/3.6.5/Frameworks/Python.framework/Versions/3.6/lib/python3.6/site-packages/ipykernel_launcher.py:14: UserWarning: No GPU found. Please use a GPU to train your neural network.\n",
      "  \n"
     ]
    }
   ],
   "source": [
    "\"\"\"\n",
    "DON'T MODIFY ANYTHING IN THIS CELL\n",
    "\"\"\"\n",
    "from distutils.version import LooseVersion\n",
    "import warnings\n",
    "import tensorflow as tf\n",
    "\n",
    "# Check TensorFlow Version\n",
    "assert LooseVersion(tf.__version__) >= LooseVersion('1.0'), 'Please use TensorFlow version 1.0 or newer'\n",
    "print('TensorFlow Version: {}'.format(tf.__version__))\n",
    "\n",
    "# Check for a GPU\n",
    "if not tf.test.gpu_device_name():\n",
    "    warnings.warn('No GPU found. Please use a GPU to train your neural network.')\n",
    "else:\n",
    "    print('Default GPU Device: {}'.format(tf.test.gpu_device_name()))"
   ]
  },
  {
   "cell_type": "markdown",
   "metadata": {
    "deletable": true,
    "editable": true
   },
   "source": [
    "### Input\n",
    "Implement the `get_inputs()` function to create TF Placeholders for the Neural Network.  It should create the following placeholders:\n",
    "- Input text placeholder named \"input\" using the [TF Placeholder](https://www.tensorflow.org/api_docs/python/tf/placeholder) `name` parameter.\n",
    "- Targets placeholder\n",
    "- Learning Rate placeholder\n",
    "\n",
    "Return the placeholders in the following tuple `(Input, Targets, LearningRate)`"
   ]
  },
  {
   "cell_type": "code",
   "execution_count": 14,
   "metadata": {
    "collapsed": false,
    "deletable": true,
    "editable": true
   },
   "outputs": [
    {
     "name": "stdout",
     "output_type": "stream",
     "text": [
      "Tests Passed\n"
     ]
    }
   ],
   "source": [
    "def get_inputs():\n",
    "    \"\"\"\n",
    "    Create TF Placeholders for input, targets, and learning rate.\n",
    "    :return: Tuple (input, targets, learning rate)\n",
    "    \"\"\"\n",
    "    # TODO: Implement Function\n",
    "    input = tf.placeholder(tf.int32, [None, None], name=\"input\")\n",
    "    targets = tf.placeholder(tf.int32, [None, None], name=\"targets\")\n",
    "    learning_rate = tf.placeholder(tf.float32, name=\"learning_rate\")\n",
    "    return (input, targets, learning_rate)\n",
    "\n",
    "\n",
    "\"\"\"\n",
    "DON'T MODIFY ANYTHING IN THIS CELL THAT IS BELOW THIS LINE\n",
    "\"\"\"\n",
    "tests.test_get_inputs(get_inputs)"
   ]
  },
  {
   "cell_type": "markdown",
   "metadata": {
    "deletable": true,
    "editable": true
   },
   "source": [
    "### Build RNN Cell and Initialize\n",
    "Stack one or more [`BasicLSTMCells`](https://www.tensorflow.org/api_docs/python/tf/contrib/rnn/BasicLSTMCell) in a [`MultiRNNCell`](https://www.tensorflow.org/api_docs/python/tf/contrib/rnn/MultiRNNCell).\n",
    "- The Rnn size should be set using `rnn_size`\n",
    "- Initalize Cell State using the MultiRNNCell's [`zero_state()`](https://www.tensorflow.org/api_docs/python/tf/contrib/rnn/MultiRNNCell#zero_state) function\n",
    "    - Apply the name \"initial_state\" to the initial state using [`tf.identity()`](https://www.tensorflow.org/api_docs/python/tf/identity)\n",
    "\n",
    "Return the cell and initial state in the following tuple `(Cell, InitialState)`"
   ]
  },
  {
   "cell_type": "code",
   "execution_count": 16,
   "metadata": {
    "collapsed": false,
    "deletable": true,
    "editable": true
   },
   "outputs": [
    {
     "name": "stdout",
     "output_type": "stream",
     "text": [
      "Tests Passed\n"
     ]
    }
   ],
   "source": [
    "def get_init_cell(batch_size, rnn_size, n_layers=1):\n",
    "    \"\"\"\n",
    "    Create an RNN Cell and initialize it.\n",
    "    :param batch_size: Size of batches\n",
    "    :param rnn_size: Size of RNNs\n",
    "    :return: Tuple (cell, initialize state)\n",
    "    \"\"\"\n",
    "    # TODO: Implement Function\n",
    "    def make_lstm(rnn_size):\n",
    "        return tf.contrib.rnn.BasicLSTMCell(rnn_size)\n",
    "    \n",
    "    cell = tf.contrib.rnn.MultiRNNCell([make_lstm(rnn_size) for _ in range(n_layers)])\n",
    "    \n",
    "    initial_state = cell.zero_state(batch_size, tf.float32)\n",
    "    initial_state = tf.identity(input=initial_state, name=\"initial_state\")\n",
    "    return cell, initial_state\n",
    "\n",
    "\n",
    "\"\"\"\n",
    "DON'T MODIFY ANYTHING IN THIS CELL THAT IS BELOW THIS LINE\n",
    "\"\"\"\n",
    "tests.test_get_init_cell(get_init_cell)"
   ]
  },
  {
   "cell_type": "markdown",
   "metadata": {
    "deletable": true,
    "editable": true
   },
   "source": [
    "### Word Embedding\n",
    "Apply embedding to `input_data` using TensorFlow.  Return the embedded sequence."
   ]
  },
  {
   "cell_type": "code",
   "execution_count": 17,
   "metadata": {
    "collapsed": false,
    "deletable": true,
    "editable": true
   },
   "outputs": [
    {
     "name": "stdout",
     "output_type": "stream",
     "text": [
      "Tests Passed\n"
     ]
    }
   ],
   "source": [
    "def get_embed(input_data, vocab_size, embed_dim):\n",
    "    \"\"\"\n",
    "    Create embedding for <input_data>.\n",
    "    :param input_data: TF placeholder for text input.\n",
    "    :param vocab_size: Number of words in vocabulary.\n",
    "    :param embed_dim: Number of embedding dimensions\n",
    "    :return: Embedded input.\n",
    "    \"\"\"\n",
    "    # TODO: Implement Function\n",
    "    embedding = tf.Variable(tf.random_uniform((vocab_size, embed_dim), -1, 1))\n",
    "    embed = tf.nn.embedding_lookup(embedding, input_data)\n",
    "    \n",
    "    return embed\n",
    "\n",
    "\n",
    "\"\"\"\n",
    "DON'T MODIFY ANYTHING IN THIS CELL THAT IS BELOW THIS LINE\n",
    "\"\"\"\n",
    "tests.test_get_embed(get_embed)"
   ]
  },
  {
   "cell_type": "markdown",
   "metadata": {
    "deletable": true,
    "editable": true
   },
   "source": [
    "### Build RNN\n",
    "You created a RNN Cell in the `get_init_cell()` function.  Time to use the cell to create a RNN.\n",
    "- Build the RNN using the [`tf.nn.dynamic_rnn()`](https://www.tensorflow.org/api_docs/python/tf/nn/dynamic_rnn)\n",
    " - Apply the name \"final_state\" to the final state using [`tf.identity()`](https://www.tensorflow.org/api_docs/python/tf/identity)\n",
    "\n",
    "Return the outputs and final_state state in the following tuple `(Outputs, FinalState)` "
   ]
  },
  {
   "cell_type": "code",
   "execution_count": 18,
   "metadata": {
    "collapsed": false,
    "deletable": true,
    "editable": true
   },
   "outputs": [
    {
     "name": "stdout",
     "output_type": "stream",
     "text": [
      "Tests Passed\n"
     ]
    }
   ],
   "source": [
    "def build_rnn(cell, inputs):\n",
    "    \"\"\"\n",
    "    Create a RNN using a RNN Cell\n",
    "    :param cell: RNN Cell\n",
    "    :param inputs: Input text data\n",
    "    :return: Tuple (Outputs, Final State)\n",
    "    \"\"\"\n",
    "    # TODO: Implement Function\n",
    "    outputs, final_state = tf.nn.dynamic_rnn(cell, inputs, dtype=tf.float32)\n",
    "    final_state = tf.identity(input=final_state, name=\"final_state\")\n",
    "    return outputs, final_state\n",
    "\n",
    "\n",
    "\"\"\"\n",
    "DON'T MODIFY ANYTHING IN THIS CELL THAT IS BELOW THIS LINE\n",
    "\"\"\"\n",
    "tests.test_build_rnn(build_rnn)"
   ]
  },
  {
   "cell_type": "markdown",
   "metadata": {
    "deletable": true,
    "editable": true
   },
   "source": [
    "### Build the Neural Network\n",
    "Apply the functions you implemented above to:\n",
    "- Apply embedding to `input_data` using your `get_embed(input_data, vocab_size, embed_dim)` function.\n",
    "- Build RNN using `cell` and your `build_rnn(cell, inputs)` function.\n",
    "- Apply a fully connected layer with a linear activation and `vocab_size` as the number of outputs.\n",
    "\n",
    "Return the logits and final state in the following tuple (Logits, FinalState) "
   ]
  },
  {
   "cell_type": "code",
   "execution_count": 20,
   "metadata": {
    "collapsed": false,
    "deletable": true,
    "editable": true
   },
   "outputs": [
    {
     "name": "stdout",
     "output_type": "stream",
     "text": [
      "Tests Passed\n"
     ]
    }
   ],
   "source": [
    "def build_nn(cell, rnn_size, input_data, vocab_size, embed_dim):\n",
    "    \"\"\"\n",
    "    Build part of the neural network\n",
    "    :param cell: RNN cell\n",
    "    :param rnn_size: Size of rnns\n",
    "    :param input_data: Input data\n",
    "    :param vocab_size: Vocabulary size\n",
    "    :param embed_dim: Number of embedding dimensions\n",
    "    :return: Tuple (Logits, FinalState)\n",
    "    \"\"\"\n",
    "    # TODO: Implement Function\n",
    "    embedded_layer = get_embed(input_data, vocab_size, embed_dim)\n",
    "    outputs, final_state = build_rnn(cell, embedded_layer)\n",
    "    \n",
    "    predictions = tf.contrib.layers.fully_connected(outputs, vocab_size, activation_fn=None)\n",
    "\n",
    "    return predictions, final_state\n",
    "\n",
    "\n",
    "\"\"\"\n",
    "DON'T MODIFY ANYTHING IN THIS CELL THAT IS BELOW THIS LINE\n",
    "\"\"\"\n",
    "tests.test_build_nn(build_nn)"
   ]
  },
  {
   "cell_type": "markdown",
   "metadata": {
    "deletable": true,
    "editable": true
   },
   "source": [
    "### Batches\n",
    "Implement `get_batches` to create batches of input and targets using `int_text`.  The batches should be a Numpy array with the shape `(number of batches, 2, batch size, sequence length)`. Each batch contains two elements:\n",
    "- The first element is a single batch of **input** with the shape `[batch size, sequence length]`\n",
    "- The second element is a single batch of **targets** with the shape `[batch size, sequence length]`\n",
    "\n",
    "If you can't fill the last batch with enough data, drop the last batch.\n",
    "\n",
    "For exmple, `get_batches([1, 2, 3, 4, 5, 6, 7, 8, 9, 10, 11, 12, 13, 14, 15], 2, 3)` would return a Numpy array of the following:\n",
    "```\n",
    "[\n",
    "  # First Batch\n",
    "  [\n",
    "    # Batch of Input\n",
    "    [[ 1  2  3], [ 7  8  9]],\n",
    "    # Batch of targets\n",
    "    [[ 2  3  4], [ 8  9 10]]\n",
    "  ],\n",
    " \n",
    "  # Second Batch\n",
    "  [\n",
    "    # Batch of Input\n",
    "    [[ 4  5  6], [10 11 12]],\n",
    "    # Batch of targets\n",
    "    [[ 5  6  7], [11 12 13]]\n",
    "  ]\n",
    "]\n",
    "```"
   ]
  },
  {
   "cell_type": "code",
   "execution_count": 22,
   "metadata": {
    "collapsed": false,
    "deletable": true,
    "editable": true
   },
   "outputs": [
    {
     "name": "stdout",
     "output_type": "stream",
     "text": [
      "Tests Passed\n"
     ]
    }
   ],
   "source": [
    "def get_batches(int_text, batch_size, seq_length):\n",
    "    n_batches = int(len(int_text) / (batch_size * seq_length))\n",
    "    # Drop the last few characters to make only full batches\n",
    "    xdata = np.array(int_text[: n_batches * batch_size * seq_length])\n",
    "    ydata = np.array(int_text[1: n_batches * batch_size * seq_length + 1])\n",
    "    # ydata[-1] = xdata[0] # 如果要通过unittest，可以加上此句\n",
    "    x_batches = np.split(xdata.reshape(batch_size, -1), n_batches, 1)\n",
    "    y_batches = np.split(ydata.reshape(batch_size, -1), n_batches, 1)\n",
    "    return np.array(list(zip(x_batches, y_batches)))\n",
    "\n",
    "        \n",
    "\"\"\"\n",
    "DON'T MODIFY ANYTHING IN THIS CELL THAT IS BELOW THIS LINE\n",
    "\"\"\"\n",
    "tests.test_get_batches(get_batches)"
   ]
  },
  {
   "cell_type": "markdown",
   "metadata": {
    "deletable": true,
    "editable": true
   },
   "source": [
    "## Neural Network Training\n",
    "### Hyperparameters\n",
    "Tune the following parameters:\n",
    "\n",
    "- Set `num_epochs` to the number of epochs.\n",
    "- Set `batch_size` to the batch size.\n",
    "- Set `rnn_size` to the size of the RNNs.\n",
    "- Set `embed_dim` to the size of the embedding.\n",
    "- Set `seq_length` to the length of sequence.\n",
    "- Set `learning_rate` to the learning rate.\n",
    "- Set `show_every_n_batches` to the number of batches the neural network should print progress."
   ]
  },
  {
   "cell_type": "code",
   "execution_count": 24,
   "metadata": {
    "collapsed": true,
    "deletable": true,
    "editable": true
   },
   "outputs": [],
   "source": [
    "# Number of Epochs\n",
    "num_epochs = 300\n",
    "# Batch Size\n",
    "batch_size = 128\n",
    "# RNN Size\n",
    "rnn_size = 256\n",
    "# Embedding Dimension Size\n",
    "embed_dim = 500\n",
    "# Sequence Length\n",
    "seq_length = 20\n",
    "# Learning Rate\n",
    "learning_rate = 0.01\n",
    "# Show stats for every n number of batches\n",
    "show_every_n_batches = 50\n",
    "\n",
    "\"\"\"\n",
    "DON'T MODIFY ANYTHING IN THIS CELL THAT IS BELOW THIS LINE\n",
    "\"\"\"\n",
    "save_dir = './save'"
   ]
  },
  {
   "cell_type": "markdown",
   "metadata": {
    "deletable": true,
    "editable": true
   },
   "source": [
    "### Build the Graph\n",
    "Build the graph using the neural network you implemented."
   ]
  },
  {
   "cell_type": "code",
   "execution_count": 25,
   "metadata": {
    "collapsed": true,
    "deletable": true,
    "editable": true
   },
   "outputs": [],
   "source": [
    "\"\"\"\n",
    "DON'T MODIFY ANYTHING IN THIS CELL\n",
    "\"\"\"\n",
    "from tensorflow.contrib import seq2seq\n",
    "\n",
    "train_graph = tf.Graph()\n",
    "with train_graph.as_default():\n",
    "    vocab_size = len(int_to_vocab)\n",
    "    input_text, targets, lr = get_inputs()\n",
    "    input_data_shape = tf.shape(input_text)\n",
    "    cell, initial_state = get_init_cell(input_data_shape[0], rnn_size)\n",
    "    logits, final_state = build_nn(cell, rnn_size, input_text, vocab_size, embed_dim)\n",
    "\n",
    "    # Probabilities for generating words\n",
    "    probs = tf.nn.softmax(logits, name='probs')\n",
    "\n",
    "    # Loss function\n",
    "    cost = seq2seq.sequence_loss(\n",
    "        logits,\n",
    "        targets,\n",
    "        tf.ones([input_data_shape[0], input_data_shape[1]]))\n",
    "\n",
    "    # Optimizer\n",
    "    optimizer = tf.train.AdamOptimizer(lr)\n",
    "\n",
    "    # Gradient Clipping\n",
    "    gradients = optimizer.compute_gradients(cost)\n",
    "    capped_gradients = [(tf.clip_by_value(grad, -1., 1.), var) for grad, var in gradients if grad is not None]\n",
    "    train_op = optimizer.apply_gradients(capped_gradients)"
   ]
  },
  {
   "cell_type": "markdown",
   "metadata": {
    "deletable": true,
    "editable": true
   },
   "source": [
    "## Train\n",
    "Train the neural network on the preprocessed data.  If you have a hard time getting a good loss, check the [forms](https://discussions.udacity.com/) to see if anyone is having the same problem."
   ]
  },
  {
   "cell_type": "code",
   "execution_count": 26,
   "metadata": {
    "collapsed": false,
    "deletable": true,
    "editable": true
   },
   "outputs": [
    {
     "name": "stdout",
     "output_type": "stream",
     "text": [
      "Epoch   0 Batch    0/26   train_loss = 8.822\n",
      "Epoch   1 Batch   24/26   train_loss = 4.586\n",
      "Epoch   3 Batch   22/26   train_loss = 3.705\n",
      "Epoch   5 Batch   20/26   train_loss = 3.025\n",
      "Epoch   7 Batch   18/26   train_loss = 2.625\n",
      "Epoch   9 Batch   16/26   train_loss = 2.281\n",
      "Epoch  11 Batch   14/26   train_loss = 1.947\n",
      "Epoch  13 Batch   12/26   train_loss = 1.667\n",
      "Epoch  15 Batch   10/26   train_loss = 1.524\n",
      "Epoch  17 Batch    8/26   train_loss = 1.314\n",
      "Epoch  19 Batch    6/26   train_loss = 1.097\n",
      "Epoch  21 Batch    4/26   train_loss = 1.028\n",
      "Epoch  23 Batch    2/26   train_loss = 0.931\n",
      "Epoch  25 Batch    0/26   train_loss = 0.813\n",
      "Epoch  26 Batch   24/26   train_loss = 0.689\n",
      "Epoch  28 Batch   22/26   train_loss = 0.615\n",
      "Epoch  30 Batch   20/26   train_loss = 0.551\n",
      "Epoch  32 Batch   18/26   train_loss = 0.485\n",
      "Epoch  34 Batch   16/26   train_loss = 0.457\n",
      "Epoch  36 Batch   14/26   train_loss = 0.379\n",
      "Epoch  38 Batch   12/26   train_loss = 0.325\n",
      "Epoch  40 Batch   10/26   train_loss = 0.340\n",
      "Epoch  42 Batch    8/26   train_loss = 0.292\n",
      "Epoch  44 Batch    6/26   train_loss = 0.267\n",
      "Epoch  46 Batch    4/26   train_loss = 0.249\n",
      "Epoch  48 Batch    2/26   train_loss = 0.245\n",
      "Epoch  50 Batch    0/26   train_loss = 0.235\n",
      "Epoch  51 Batch   24/26   train_loss = 0.211\n",
      "Epoch  53 Batch   22/26   train_loss = 0.234\n",
      "Epoch  55 Batch   20/26   train_loss = 0.258\n",
      "Epoch  57 Batch   18/26   train_loss = 0.495\n",
      "Epoch  59 Batch   16/26   train_loss = 1.268\n",
      "Epoch  61 Batch   14/26   train_loss = 0.998\n",
      "Epoch  63 Batch   12/26   train_loss = 0.616\n",
      "Epoch  65 Batch   10/26   train_loss = 0.424\n",
      "Epoch  67 Batch    8/26   train_loss = 0.295\n",
      "Epoch  69 Batch    6/26   train_loss = 0.230\n",
      "Epoch  71 Batch    4/26   train_loss = 0.199\n",
      "Epoch  73 Batch    2/26   train_loss = 0.198\n",
      "Epoch  75 Batch    0/26   train_loss = 0.180\n",
      "Epoch  76 Batch   24/26   train_loss = 0.155\n",
      "Epoch  78 Batch   22/26   train_loss = 0.178\n",
      "Epoch  80 Batch   20/26   train_loss = 0.168\n",
      "Epoch  82 Batch   18/26   train_loss = 0.161\n",
      "Epoch  84 Batch   16/26   train_loss = 0.177\n",
      "Epoch  86 Batch   14/26   train_loss = 0.166\n",
      "Epoch  88 Batch   12/26   train_loss = 0.151\n",
      "Epoch  90 Batch   10/26   train_loss = 0.174\n",
      "Epoch  92 Batch    8/26   train_loss = 0.159\n",
      "Epoch  94 Batch    6/26   train_loss = 0.157\n",
      "Epoch  96 Batch    4/26   train_loss = 0.151\n",
      "Epoch  98 Batch    2/26   train_loss = 0.161\n",
      "Epoch 100 Batch    0/26   train_loss = 0.158\n",
      "Epoch 101 Batch   24/26   train_loss = 0.140\n",
      "Epoch 103 Batch   22/26   train_loss = 0.164\n",
      "Epoch 105 Batch   20/26   train_loss = 0.158\n",
      "Epoch 107 Batch   18/26   train_loss = 0.152\n",
      "Epoch 109 Batch   16/26   train_loss = 0.171\n",
      "Epoch 111 Batch   14/26   train_loss = 0.161\n",
      "Epoch 113 Batch   12/26   train_loss = 0.148\n",
      "Epoch 115 Batch   10/26   train_loss = 0.170\n",
      "Epoch 117 Batch    8/26   train_loss = 0.156\n",
      "Epoch 119 Batch    6/26   train_loss = 0.153\n",
      "Epoch 121 Batch    4/26   train_loss = 0.147\n",
      "Epoch 123 Batch    2/26   train_loss = 0.157\n",
      "Epoch 125 Batch    0/26   train_loss = 0.154\n",
      "Epoch 126 Batch   24/26   train_loss = 0.138\n",
      "Epoch 128 Batch   22/26   train_loss = 0.164\n",
      "Epoch 130 Batch   20/26   train_loss = 0.157\n",
      "Epoch 132 Batch   18/26   train_loss = 0.152\n",
      "Epoch 134 Batch   16/26   train_loss = 0.169\n",
      "Epoch 136 Batch   14/26   train_loss = 0.159\n",
      "Epoch 138 Batch   12/26   train_loss = 0.146\n",
      "Epoch 140 Batch   10/26   train_loss = 0.169\n",
      "Epoch 142 Batch    8/26   train_loss = 0.154\n",
      "Epoch 144 Batch    6/26   train_loss = 0.154\n",
      "Epoch 146 Batch    4/26   train_loss = 0.145\n",
      "Epoch 148 Batch    2/26   train_loss = 0.157\n",
      "Epoch 150 Batch    0/26   train_loss = 0.153\n",
      "Epoch 151 Batch   24/26   train_loss = 0.138\n",
      "Epoch 153 Batch   22/26   train_loss = 0.163\n",
      "Epoch 155 Batch   20/26   train_loss = 0.156\n",
      "Epoch 157 Batch   18/26   train_loss = 0.150\n",
      "Epoch 159 Batch   16/26   train_loss = 0.169\n",
      "Epoch 161 Batch   14/26   train_loss = 0.158\n",
      "Epoch 163 Batch   12/26   train_loss = 0.147\n",
      "Epoch 165 Batch   10/26   train_loss = 0.170\n",
      "Epoch 167 Batch    8/26   train_loss = 0.155\n",
      "Epoch 169 Batch    6/26   train_loss = 0.153\n",
      "Epoch 171 Batch    4/26   train_loss = 0.145\n",
      "Epoch 173 Batch    2/26   train_loss = 0.156\n",
      "Epoch 175 Batch    0/26   train_loss = 0.153\n",
      "Epoch 176 Batch   24/26   train_loss = 0.138\n",
      "Epoch 178 Batch   22/26   train_loss = 0.165\n",
      "Epoch 180 Batch   20/26   train_loss = 0.157\n",
      "Epoch 182 Batch   18/26   train_loss = 0.151\n",
      "Epoch 184 Batch   16/26   train_loss = 0.167\n",
      "Epoch 186 Batch   14/26   train_loss = 0.158\n",
      "Epoch 188 Batch   12/26   train_loss = 0.145\n",
      "Epoch 190 Batch   10/26   train_loss = 0.169\n",
      "Epoch 192 Batch    8/26   train_loss = 0.154\n",
      "Epoch 194 Batch    6/26   train_loss = 0.155\n",
      "Epoch 196 Batch    4/26   train_loss = 3.300\n",
      "Epoch 198 Batch    2/26   train_loss = 2.466\n",
      "Epoch 200 Batch    0/26   train_loss = 1.510\n",
      "Epoch 201 Batch   24/26   train_loss = 0.953\n",
      "Epoch 203 Batch   22/26   train_loss = 0.700\n",
      "Epoch 205 Batch   20/26   train_loss = 0.566\n",
      "Epoch 207 Batch   18/26   train_loss = 0.447\n",
      "Epoch 209 Batch   16/26   train_loss = 0.414\n",
      "Epoch 211 Batch   14/26   train_loss = 0.341\n",
      "Epoch 213 Batch   12/26   train_loss = 0.279\n",
      "Epoch 215 Batch   10/26   train_loss = 0.290\n",
      "Epoch 217 Batch    8/26   train_loss = 0.254\n",
      "Epoch 219 Batch    6/26   train_loss = 0.233\n",
      "Epoch 221 Batch    4/26   train_loss = 0.231\n",
      "Epoch 223 Batch    2/26   train_loss = 0.214\n",
      "Epoch 225 Batch    0/26   train_loss = 0.215\n",
      "Epoch 226 Batch   24/26   train_loss = 0.184\n",
      "Epoch 228 Batch   22/26   train_loss = 0.204\n",
      "Epoch 230 Batch   20/26   train_loss = 0.192\n",
      "Epoch 232 Batch   18/26   train_loss = 0.180\n",
      "Epoch 234 Batch   16/26   train_loss = 0.193\n",
      "Epoch 236 Batch   14/26   train_loss = 0.184\n",
      "Epoch 238 Batch   12/26   train_loss = 0.164\n",
      "Epoch 240 Batch   10/26   train_loss = 0.185\n",
      "Epoch 242 Batch    8/26   train_loss = 0.169\n",
      "Epoch 244 Batch    6/26   train_loss = 0.165\n",
      "Epoch 246 Batch    4/26   train_loss = 0.159\n",
      "Epoch 248 Batch    2/26   train_loss = 0.167\n",
      "Epoch 250 Batch    0/26   train_loss = 0.171\n",
      "Epoch 251 Batch   24/26   train_loss = 0.146\n",
      "Epoch 253 Batch   22/26   train_loss = 0.170\n",
      "Epoch 255 Batch   20/26   train_loss = 0.163\n",
      "Epoch 257 Batch   18/26   train_loss = 0.157\n",
      "Epoch 259 Batch   16/26   train_loss = 0.175\n",
      "Epoch 261 Batch   14/26   train_loss = 0.165\n",
      "Epoch 263 Batch   12/26   train_loss = 0.148\n",
      "Epoch 265 Batch   10/26   train_loss = 0.170\n",
      "Epoch 267 Batch    8/26   train_loss = 0.158\n",
      "Epoch 269 Batch    6/26   train_loss = 0.156\n",
      "Epoch 271 Batch    4/26   train_loss = 0.149\n",
      "Epoch 273 Batch    2/26   train_loss = 0.160\n",
      "Epoch 275 Batch    0/26   train_loss = 0.158\n",
      "Epoch 276 Batch   24/26   train_loss = 0.140\n",
      "Epoch 278 Batch   22/26   train_loss = 0.166\n",
      "Epoch 280 Batch   20/26   train_loss = 0.159\n",
      "Epoch 282 Batch   18/26   train_loss = 0.152\n",
      "Epoch 284 Batch   16/26   train_loss = 0.170\n",
      "Epoch 286 Batch   14/26   train_loss = 0.160\n",
      "Epoch 288 Batch   12/26   train_loss = 0.149\n",
      "Epoch 290 Batch   10/26   train_loss = 0.173\n",
      "Epoch 292 Batch    8/26   train_loss = 0.162\n",
      "Epoch 294 Batch    6/26   train_loss = 1.084\n",
      "Epoch 296 Batch    4/26   train_loss = 2.545\n",
      "Epoch 298 Batch    2/26   train_loss = 1.817\n",
      "Model Trained and Saved\n"
     ]
    }
   ],
   "source": [
    "\"\"\"\n",
    "DON'T MODIFY ANYTHING IN THIS CELL\n",
    "\"\"\"\n",
    "batches = get_batches(int_text, batch_size, seq_length)\n",
    "\n",
    "with tf.Session(graph=train_graph) as sess:\n",
    "    sess.run(tf.global_variables_initializer())\n",
    "\n",
    "    for epoch_i in range(num_epochs):\n",
    "        state = sess.run(initial_state, {input_text: batches[0][0]})\n",
    "\n",
    "        for batch_i, (x, y) in enumerate(batches):\n",
    "            feed = {\n",
    "                input_text: x,\n",
    "                targets: y,\n",
    "                initial_state: state,\n",
    "                lr: learning_rate}\n",
    "            train_loss, state, _ = sess.run([cost, final_state, train_op], feed)\n",
    "\n",
    "            # Show every <show_every_n_batches> batches\n",
    "            if (epoch_i * len(batches) + batch_i) % show_every_n_batches == 0:\n",
    "                print('Epoch {:>3} Batch {:>4}/{}   train_loss = {:.3f}'.format(\n",
    "                    epoch_i,\n",
    "                    batch_i,\n",
    "                    len(batches),\n",
    "                    train_loss))\n",
    "\n",
    "    # Save Model\n",
    "    saver = tf.train.Saver()\n",
    "    saver.save(sess, save_dir)\n",
    "    print('Model Trained and Saved')"
   ]
  },
  {
   "cell_type": "markdown",
   "metadata": {
    "deletable": true,
    "editable": true
   },
   "source": [
    "## Save Parameters\n",
    "Save `seq_length` and `save_dir` for generating a new TV script."
   ]
  },
  {
   "cell_type": "code",
   "execution_count": 27,
   "metadata": {
    "collapsed": true,
    "deletable": true,
    "editable": true
   },
   "outputs": [],
   "source": [
    "\"\"\"\n",
    "DON'T MODIFY ANYTHING IN THIS CELL\n",
    "\"\"\"\n",
    "# Save parameters for checkpoint\n",
    "helper.save_params((seq_length, save_dir))"
   ]
  },
  {
   "cell_type": "markdown",
   "metadata": {
    "deletable": true,
    "editable": true
   },
   "source": [
    "# Checkpoint"
   ]
  },
  {
   "cell_type": "code",
   "execution_count": 28,
   "metadata": {
    "collapsed": true,
    "deletable": true,
    "editable": true
   },
   "outputs": [],
   "source": [
    "\"\"\"\n",
    "DON'T MODIFY ANYTHING IN THIS CELL\n",
    "\"\"\"\n",
    "import tensorflow as tf\n",
    "import numpy as np\n",
    "import helper\n",
    "import problem_unittests as tests\n",
    "\n",
    "_, vocab_to_int, int_to_vocab, token_dict = helper.load_preprocess()\n",
    "seq_length, load_dir = helper.load_params()"
   ]
  },
  {
   "cell_type": "markdown",
   "metadata": {
    "deletable": true,
    "editable": true
   },
   "source": [
    "## Implement Generate Functions\n",
    "### Get Tensors\n",
    "Get tensors from `loaded_graph` using the function [`get_tensor_by_name()`](https://www.tensorflow.org/api_docs/python/tf/Graph#get_tensor_by_name).  Get the tensors using the following names:\n",
    "- \"input:0\"\n",
    "- \"initial_state:0\"\n",
    "- \"final_state:0\"\n",
    "- \"probs:0\"\n",
    "\n",
    "Return the tensors in the following tuple `(InputTensor, InitialStateTensor, FinalStateTensor, ProbsTensor)` "
   ]
  },
  {
   "cell_type": "code",
   "execution_count": 29,
   "metadata": {
    "collapsed": false,
    "deletable": true,
    "editable": true
   },
   "outputs": [
    {
     "name": "stdout",
     "output_type": "stream",
     "text": [
      "Tests Passed\n"
     ]
    }
   ],
   "source": [
    "def get_tensors(loaded_graph):\n",
    "    \"\"\"\n",
    "    Get input, initial state, final state, and probabilities tensor from <loaded_graph>\n",
    "    :param loaded_graph: TensorFlow graph loaded from file\n",
    "    :return: Tuple (InputTensor, InitialStateTensor, FinalStateTensor, ProbsTensor)\n",
    "    \"\"\"\n",
    "    # TODO: Implement Function\n",
    "    InputTensor = loaded_graph.get_tensor_by_name(\"input:0\")\n",
    "    InitialStateTensor = loaded_graph.get_tensor_by_name(\"initial_state:0\")\n",
    "    FinalStateTensor = loaded_graph.get_tensor_by_name(\"final_state:0\")\n",
    "    ProbsTensor = loaded_graph.get_tensor_by_name(\"probs:0\")\n",
    "    return InputTensor, InitialStateTensor, FinalStateTensor, ProbsTensor\n",
    "\n",
    "\n",
    "\"\"\"\n",
    "DON'T MODIFY ANYTHING IN THIS CELL THAT IS BELOW THIS LINE\n",
    "\"\"\"\n",
    "tests.test_get_tensors(get_tensors)"
   ]
  },
  {
   "cell_type": "markdown",
   "metadata": {
    "deletable": true,
    "editable": true
   },
   "source": [
    "### Choose Word\n",
    "Implement the `pick_word()` function to select the next word using `probabilities`."
   ]
  },
  {
   "cell_type": "code",
   "execution_count": 32,
   "metadata": {
    "collapsed": false,
    "deletable": true,
    "editable": true
   },
   "outputs": [
    {
     "name": "stdout",
     "output_type": "stream",
     "text": [
      "Tests Passed\n"
     ]
    }
   ],
   "source": [
    "def pick_word(probabilities, int_to_vocab):\n",
    "    \"\"\"\n",
    "    Pick the next word in the generated text\n",
    "    :param probabilities: Probabilites of the next word\n",
    "    :param int_to_vocab: Dictionary of word ids as the keys and words as the values\n",
    "    :return: String of the predicted word\n",
    "    \"\"\"\n",
    "    # TODO: Implement Function\n",
    "    # return int_to_vocab[np.argmax(probabilities)]\n",
    "    return np.random.choice(list(int_to_vocab.values()), 1, p=probabilities)[0]\n",
    "\n",
    "\n",
    "\"\"\"\n",
    "DON'T MODIFY ANYTHING IN THIS CELL THAT IS BELOW THIS LINE\n",
    "\"\"\"\n",
    "tests.test_pick_word(pick_word)"
   ]
  },
  {
   "cell_type": "markdown",
   "metadata": {
    "deletable": true,
    "editable": true
   },
   "source": [
    "## Generate TV Script\n",
    "This will generate the TV script for you.  Set `gen_length` to the length of TV script you want to generate."
   ]
  },
  {
   "cell_type": "code",
   "execution_count": 33,
   "metadata": {
    "collapsed": false,
    "deletable": true,
    "editable": true
   },
   "outputs": [
    {
     "name": "stdout",
     "output_type": "stream",
     "text": [
      "moe_szyslak:(gets out) dumbest!\n",
      "lou:(chanting) i don't got the cash to open on kids a song.\n",
      "kemi:(shyly) great.(horrified) oh yeah!\n",
      "moe_szyslak:(sings) it's such a screw up.\n",
      "kent_brockman: a pitcher of course, smithers is time. here's my new wife, but uh well, i'll just pick your very decency.\n",
      "\n",
      "\n",
      "homer_simpson:(runs looking around) oh, yeah. work the slot. show me.\n",
      "seymour_skinner: what about the media? you're a kind of you can run the evil ned.\n",
      "kent_brockman: seven forty-two evergreen terrace. a tiny man at me! the name\" we're goin' home. you've got to pull up your diaper, get me another mouse?\n",
      "moe_szyslak: uh, you can't donate that gold!\n",
      "lenny_leonard: your thighs make no we're gonna have to go down there!\n",
      "\n",
      "\n",
      "moe_szyslak: and uh, i love valentine's day that's where she left in this world, it worked out the little chick\" evil blood-thirsty!\n",
      "\n",
      "\n"
     ]
    }
   ],
   "source": [
    "gen_length = 200\n",
    "# homer_simpson, moe_szyslak, or Barney_Gumble\n",
    "prime_word = 'moe_szyslak'\n",
    "\n",
    "\"\"\"\n",
    "DON'T MODIFY ANYTHING IN THIS CELL THAT IS BELOW THIS LINE\n",
    "\"\"\"\n",
    "loaded_graph = tf.Graph()\n",
    "with tf.Session(graph=loaded_graph) as sess:\n",
    "    # Load saved model\n",
    "    loader = tf.train.import_meta_graph(load_dir + '.meta')\n",
    "    loader.restore(sess, load_dir)\n",
    "\n",
    "    # Get Tensors from loaded model\n",
    "    input_text, initial_state, final_state, probs = get_tensors(loaded_graph)\n",
    "\n",
    "    # Sentences generation setup\n",
    "    gen_sentences = [prime_word + ':']\n",
    "    prev_state = sess.run(initial_state, {input_text: np.array([[1]])})\n",
    "\n",
    "    # Generate sentences\n",
    "    for n in range(gen_length):\n",
    "        # Dynamic Input\n",
    "        dyn_input = [[vocab_to_int[word] for word in gen_sentences[-seq_length:]]]\n",
    "        dyn_seq_length = len(dyn_input[0])\n",
    "\n",
    "        # Get Prediction\n",
    "        probabilities, prev_state = sess.run(\n",
    "            [probs, final_state],\n",
    "            {input_text: dyn_input, initial_state: prev_state})\n",
    "        \n",
    "        pred_word = pick_word(probabilities[dyn_seq_length-1], int_to_vocab)\n",
    "\n",
    "        gen_sentences.append(pred_word)\n",
    "    \n",
    "    # Remove tokens\n",
    "    tv_script = ' '.join(gen_sentences)\n",
    "    for key, token in token_dict.items():\n",
    "        ending = ' ' if key in ['\\n', '(', '\"'] else ''\n",
    "        tv_script = tv_script.replace(' ' + token.lower(), key)\n",
    "    tv_script = tv_script.replace('\\n ', '\\n')\n",
    "    tv_script = tv_script.replace('( ', '(')\n",
    "        \n",
    "    print(tv_script)"
   ]
  },
  {
   "cell_type": "markdown",
   "metadata": {
    "deletable": true,
    "editable": true
   },
   "source": [
    "# The TV Script is Nonsensical\n",
    "It's ok if the TV script doesn't make any sense.  We trained on less than a megabyte of text.  In order to get good results, you'll have to use a smaller vocabulary or get more data.  Luckly there's more data!  As we mentioned in the begging of this project, this is a subset of [another dataset](https://www.kaggle.com/wcukierski/the-simpsons-by-the-data).  We didn't have you train on all the data, because that would take too long.  However, you are free to train your neural network on all the data.  After you complete the project, of course.\n",
    "# Submitting This Project\n",
    "When submitting this project, make sure to run all the cells before saving the notebook. Save the notebook file as \"dlnd_tv_script_generation.ipynb\" and save it as a HTML file under \"File\" -> \"Download as\". Include the \"helper.py\" and \"problem_unittests.py\" files in your submission."
   ]
  }
 ],
 "metadata": {
  "kernelspec": {
   "display_name": "Python 3",
   "language": "python",
   "name": "python3"
  },
  "language_info": {
   "codemirror_mode": {
    "name": "ipython",
    "version": 3
   },
   "file_extension": ".py",
   "mimetype": "text/x-python",
   "name": "python",
   "nbconvert_exporter": "python",
   "pygments_lexer": "ipython3",
   "version": "3.6.5"
  },
  "widgets": {
   "state": {},
   "version": "1.1.2"
  }
 },
 "nbformat": 4,
 "nbformat_minor": 1
}
